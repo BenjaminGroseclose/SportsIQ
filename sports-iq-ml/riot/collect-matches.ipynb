{
 "cells": [
  {
   "cell_type": "code",
   "execution_count": 1,
   "metadata": {},
   "outputs": [
    {
     "name": "stdout",
     "output_type": "stream",
     "text": [
      "RGAPI-4fa3c214-6a7e-46b1-9a9b-b1caebf28d89\n"
     ]
    }
   ],
   "source": [
    "import os\n",
    "import requests\n",
    "import pandas as pd\n",
    "import time\n",
    "\n",
    "api_key = os.environ.get('riot_api_key')\n",
    "base_url = \"https://na1.api.riotgames.com\"\n",
    "solo_duo = \"RANKED_SOLO_5x5\"\n",
    "division = \"EMERALD\"\n",
    "\n",
    "print(api_key)"
   ]
  },
  {
   "cell_type": "code",
   "execution_count": 2,
   "metadata": {},
   "outputs": [],
   "source": [
    "def getLadder(division, tier) -> pd.DataFrame:\n",
    "\turl = f\"{base_url}/lol/league/v4/entries/{solo_duo}/{division}/{tier}?page=1&api_key={api_key}\"\n",
    "\tresponse = requests.get(url)\n",
    "\n",
    "\tif response.status_code == 200:\n",
    "\t\t\tdata = response.json()\n",
    "\n",
    "\t\t\treturn pd.DataFrame(data)\n",
    "\t\n",
    "def getMasterLadder(type) -> pd.DataFrame:\n",
    "\turl = f\"{base_url}/lol/league/v4/{type}/by-queue/{solo_duo}?api_key={api_key}\"\n",
    "\n",
    "\tresponse = requests.get(url)\n",
    "\n",
    "\tprint(response)\n",
    "\n",
    "\tif response.status_code == 200:\n",
    "\t\t\tdata = response.json()\n",
    "\t\t\tplayers = data['entries']\n",
    "\n",
    "\t\t\treturn pd.DataFrame(players)\n",
    "\n",
    "def getMatchIDs(puuid):\n",
    "\turl = f\"https://americas.api.riotgames.com/lol/match/v5/matches/by-puuid/{puuid}/ids?queue=420&start=0&count=20&api_key={api_key}\"\n",
    "\n",
    "\tresponse = requests.get(url)\n",
    "\n",
    "\tif response.status_code == 200:\n",
    "\t\t\tdata = response.json()\n",
    "\n",
    "\t\t\treturn data\n",
    "\telse:\n",
    "\t\tprint(response)"
   ]
  },
  {
   "cell_type": "code",
   "execution_count": 3,
   "metadata": {},
   "outputs": [
    {
     "data": {
      "text/plain": [
       "(820, 13)"
      ]
     },
     "execution_count": 3,
     "metadata": {},
     "output_type": "execute_result"
    }
   ],
   "source": [
    "ladder_1 = getLadder(division, \"I\")\n",
    "ladder_2 = getLadder(division, \"II\")\n",
    "ladder_3 = getLadder(division, \"III\")\n",
    "ladder_4 = getLadder(division, \"IV\")\n",
    "\n",
    "ladder = pd.concat([ladder_1, ladder_2, ladder_3, ladder_4])\n",
    "\n",
    "ladder.shape"
   ]
  },
  {
   "cell_type": "code",
   "execution_count": null,
   "metadata": {},
   "outputs": [
    {
     "name": "stdout",
     "output_type": "stream",
     "text": [
      "400\n"
     ]
    }
   ],
   "source": [
    "match_ids = []\n",
    "\n",
    "try:\n",
    "\tfor index, row in ladder.iterrows():\n",
    "\t\tmatches = getMatchIDs(row.puuid)\n",
    "\t\tmatch_ids.extend(matches)\n",
    "\n",
    "\t\tif (index + 1) % 20 == 0:\n",
    "\t\t\tprint(len(match_ids))\n",
    "\t\t\ttime.sleep(30) # Sleep 30 seconds so that it won't hit the rate limit\n",
    "\n",
    "\tprint(len(match_ids)) # should be 6000\n",
    "\n",
    "\n",
    "except Exception as e: print(e)\n",
    "finally:\n",
    "\tdf = pd.DataFrame({ 'match_id': match_ids })\n",
    "\n",
    "\tprint(df.shape)\n",
    "\n",
    "\tdf.to_csv(f\"./MatchIDs-{division}.csv\")"
   ]
  }
 ],
 "metadata": {
  "kernelspec": {
   "display_name": ".venv",
   "language": "python",
   "name": "python3"
  },
  "language_info": {
   "codemirror_mode": {
    "name": "ipython",
    "version": 3
   },
   "file_extension": ".py",
   "mimetype": "text/x-python",
   "name": "python",
   "nbconvert_exporter": "python",
   "pygments_lexer": "ipython3",
   "version": "3.13.1"
  }
 },
 "nbformat": 4,
 "nbformat_minor": 2
}
