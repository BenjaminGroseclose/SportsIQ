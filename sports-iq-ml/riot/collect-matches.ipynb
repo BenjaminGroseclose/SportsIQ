{
 "cells": [
  {
   "cell_type": "code",
   "execution_count": 46,
   "metadata": {},
   "outputs": [
    {
     "name": "stdout",
     "output_type": "stream",
     "text": [
      "RGAPI-f39807c0-1dc0-4741-a2b4-9953668d5da7\n",
      "https://na1.api.riotgames.com\n"
     ]
    }
   ],
   "source": [
    "import os\n",
    "import requests\n",
    "import pandas as pd\n",
    "\n",
    "api_key = os.environ.get('riot_api_key')\n",
    "base_url = \"https://na1.api.riotgames.com\"\n",
    "solo_duo = \"RANKED_SOLO_5x5\"\n",
    "\n",
    "print(api_key)\n",
    "print(base_url)"
   ]
  },
  {
   "cell_type": "code",
   "execution_count": 47,
   "metadata": {},
   "outputs": [],
   "source": [
    "def getChallengers() -> pd.DataFrame:\n",
    "\turl = f\"{base_url}/lol/league/v4/challengerleagues/by-queue/{solo_duo}?api_key={api_key}\"\n",
    "\n",
    "\tresponse = requests.get(url)\n",
    "\n",
    "\tif response.status_code == 200:\n",
    "\t\t\tdata = response.json()\n",
    "\t\t\tplayers = data['entries']\n",
    "\n",
    "\t\t\treturn pd.DataFrame(players)\n"
   ]
  },
  {
   "cell_type": "code",
   "execution_count": 48,
   "metadata": {},
   "outputs": [],
   "source": [
    "def getMatches(puuid) :\n",
    "\turl = f\"https://americas.api.riotgames.com/lol/match/v5/matches/by-puuid/{puuid}/ids?queue=4&start=0&count=20&api_key={api_key}\"\n",
    "\n",
    "\tresponse = requests.get(url)\n",
    "\n",
    "\tprint(response)\n",
    "\n",
    "\tif response.status_code == 200:\n",
    "\t\t\tdata = response.json()\n",
    "\t\t\tprint(data)"
   ]
  },
  {
   "cell_type": "code",
   "execution_count": 49,
   "metadata": {},
   "outputs": [
    {
     "name": "stdout",
     "output_type": "stream",
     "text": [
      "<Response [200]>\n",
      "[]\n"
     ]
    }
   ],
   "source": [
    "challengers = getChallengers()\n",
    "\n",
    "puuid = challengers.iloc[0][\"puuid\"]\n",
    "\n",
    "getMatches(puuid=puuid)"
   ]
  }
 ],
 "metadata": {
  "kernelspec": {
   "display_name": ".venv",
   "language": "python",
   "name": "python3"
  },
  "language_info": {
   "codemirror_mode": {
    "name": "ipython",
    "version": 3
   },
   "file_extension": ".py",
   "mimetype": "text/x-python",
   "name": "python",
   "nbconvert_exporter": "python",
   "pygments_lexer": "ipython3",
   "version": "3.13.1"
  }
 },
 "nbformat": 4,
 "nbformat_minor": 2
}
