{
 "cells": [
  {
   "cell_type": "code",
   "execution_count": null,
   "metadata": {},
   "outputs": [
    {
     "name": "stdout",
     "output_type": "stream",
     "text": [
      "RGAPI-2cfc55ea-22b7-4a04-b2e1-14e1ce3afade\n",
      "https://na1.api.riotgames.com\n"
     ]
    }
   ],
   "source": [
    "import os\n",
    "import time\n",
    "import requests\n",
    "import pandas as pd\n",
    "import numpy as np\n",
    "import json\n",
    "\n",
    "api_key = os.environ.get('riot_api_key')\n",
    "base_url = \"https://na1.api.riotgames.com\"\n",
    "solo_duo = \"RANKED_SOLO_5x5\"\n",
    "\n",
    "print(api_key)\n",
    "print(base_url)"
   ]
  },
  {
   "cell_type": "code",
   "execution_count": 1,
   "metadata": {},
   "outputs": [
    {
     "ename": "NameError",
     "evalue": "name 'pd' is not defined",
     "output_type": "error",
     "traceback": [
      "\u001b[31m---------------------------------------------------------------------------\u001b[39m",
      "\u001b[31mNameError\u001b[39m                                 Traceback (most recent call last)",
      "\u001b[36mCell\u001b[39m\u001b[36m \u001b[39m\u001b[32mIn[1]\u001b[39m\u001b[32m, line 1\u001b[39m\n\u001b[32m----> \u001b[39m\u001b[32m1\u001b[39m \u001b[38;5;28;01mdef\u001b[39;00m\u001b[38;5;250m \u001b[39m\u001b[34mgetLadder\u001b[39m(\u001b[38;5;28mtype\u001b[39m) -> \u001b[43mpd\u001b[49m.DataFrame:\n\u001b[32m      2\u001b[39m \turl = \u001b[33mf\u001b[39m\u001b[33m\"\u001b[39m\u001b[38;5;132;01m{\u001b[39;00mbase_url\u001b[38;5;132;01m}\u001b[39;00m\u001b[33m/lol/league/v4/\u001b[39m\u001b[38;5;132;01m{\u001b[39;00m\u001b[38;5;28mtype\u001b[39m\u001b[38;5;132;01m}\u001b[39;00m\u001b[33m/by-queue/\u001b[39m\u001b[38;5;132;01m{\u001b[39;00msolo_duo\u001b[38;5;132;01m}\u001b[39;00m\u001b[33m?api_key=\u001b[39m\u001b[38;5;132;01m{\u001b[39;00mapi_key\u001b[38;5;132;01m}\u001b[39;00m\u001b[33m\"\u001b[39m\n\u001b[32m      4\u001b[39m \tresponse = requests.get(url)\n",
      "\u001b[31mNameError\u001b[39m: name 'pd' is not defined"
     ]
    }
   ],
   "source": [
    "def getLadder(type) -> pd.DataFrame:\n",
    "\turl = f\"{base_url}/lol/league/v4/{type}/by-queue/{solo_duo}?api_key={api_key}\"\n",
    "\n",
    "\tresponse = requests.get(url)\n",
    "\n",
    "\tprint(response)\n",
    "\n",
    "\tif response.status_code == 200:\n",
    "\t\t\tdata = response.json()\n",
    "\t\t\tplayers = data['entries']\n",
    "\n",
    "\t\t\treturn pd.DataFrame(players)\n"
   ]
  },
  {
   "cell_type": "code",
   "execution_count": null,
   "metadata": {},
   "outputs": [],
   "source": [
    "def getMatchIDs(puuid):\n",
    "\turl = f\"https://americas.api.riotgames.com/lol/match/v5/matches/by-puuid/{puuid}/ids?queue=420&start=0&count=40&api_key={api_key}\"\n",
    "\n",
    "\tresponse = requests.get(url)\n",
    "\n",
    "\tif response.status_code == 200:\n",
    "\t\t\tdata = response.json()\n",
    "\n",
    "\t\t\treturn data\n",
    "\telse:\n",
    "\t\tprint(response)"
   ]
  },
  {
   "cell_type": "code",
   "execution_count": null,
   "metadata": {},
   "outputs": [],
   "source": [
    "blueTeamId = 100\n",
    "redTeamId = 200\n",
    "def getWinner(teams):\n",
    "\tfor t in teams:\n",
    "\t\tif t['teamId'] == blueTeamId:\n",
    "\t\t\treturn 0 if t['win'] else 1\n",
    "\n",
    "def getChampionID(participants, side, position):\n",
    "\tfor p in participants:\n",
    "\t\tif p['teamId'] == side and p['teamPosition'] == position:\n",
    "\t\t\treturn p['championId']\n",
    "\t\t\n",
    "def getTeamGoldAt14(participants, match_timeline):\n",
    "\tframes = match_timeline['info']['frames']\n",
    "\tgold = 0\n",
    "\n",
    "\tparticipant_frames = frames[14]['participantFrames']\n",
    "\n",
    "\tfor participant in participants:\n",
    "\t\tgold += participant_frames[str(participant)]['totalGold']\n",
    "\n",
    "\treturn gold\n",
    "\n",
    "\n",
    "def mapData(match_data, match_timeline):\n",
    "\tblue_participant_id = [1,2,3,4,5]\n",
    "\tred_participant_id = [6,7,8,9,10]\n",
    "\n",
    "\tblue_gold = getTeamGoldAt14(blue_participant_id, match_timeline)\n",
    "\tred_gold = getTeamGoldAt14(red_participant_id, match_timeline)\n",
    "\n",
    "\tblue_atakhan = 0\n",
    "\tred_atakhan = 0\n",
    "\n",
    "\tif 'atakhan' in match_data['info']['teams'][0]['objectives']:\n",
    "\t\tblue_atakhan = match_data['info']['teams'][0]['objectives']['atakhan']['kills']\n",
    "\n",
    "\tif 'atakhan' in match_data['info']['teams'][1]['objectives']:\n",
    "\t\tred_atakhan = match_data['info']['teams'][1]['objectives']['atakhan']['kills']\n",
    "\n",
    "\t\n",
    "\tscrubbed_match_data = {\n",
    "\t\t'matchId': match_data['metadata']['matchId'],\n",
    "\t\t'gameDurationSeconds': match_data['info']['gameDuration'],\n",
    "\t\t'championBlueTop': getChampionID(match_data['info']['participants'], blueTeamId, 'TOP'),\n",
    "\t\t'championBlueJG': getChampionID(match_data['info']['participants'], blueTeamId, 'JUNGLE'),\n",
    "\t\t'championBlueMid': getChampionID(match_data['info']['participants'], blueTeamId, 'MIDDLE'),\n",
    "\t\t'championBlueBot': getChampionID(match_data['info']['participants'], blueTeamId, 'BOTTOM'),\n",
    "\t\t'championBlueSup': getChampionID(match_data['info']['participants'], blueTeamId, 'UTILITY'),\n",
    "\t\t'championRedTop': getChampionID(match_data['info']['participants'], redTeamId, 'TOP'),\n",
    "\t\t'championRedJG': getChampionID(match_data['info']['participants'], redTeamId, 'JUNGLE'),\n",
    "\t\t'championRedMid': getChampionID(match_data['info']['participants'], redTeamId, 'MIDDLE'),\n",
    "\t\t'championRedBot': getChampionID(match_data['info']['participants'], redTeamId, 'BOTTOM'),\n",
    "\t\t'championRedSup': getChampionID(match_data['info']['participants'], redTeamId, 'UTILITY'),\n",
    "\t\t'goldDifference': blue_gold - red_gold, # Negactive number means red side is ahead\n",
    "\t\t'blueGrubCount': match_data['info']['teams'][0]['objectives']['horde']['kills'],\n",
    "\t\t'redGrubCount': match_data['info']['teams'][1]['objectives']['horde']['kills'],\n",
    "\t\t'blueDragonCount': match_data['info']['teams'][0]['objectives']['dragon']['kills'],\n",
    "\t\t'redDragonCount': match_data['info']['teams'][1]['objectives']['dragon']['kills'],\n",
    "\t\t'blueBaronCount': match_data['info']['teams'][0]['objectives']['baron']['kills'],\n",
    "\t\t'redBaronCount': match_data['info']['teams'][1]['objectives']['baron']['kills'],\n",
    "\t\t'blueAtakhan': blue_atakhan,\n",
    "\t\t'redAtakhan': red_atakhan,\n",
    "\t\t'winner': getWinner(match_data['info']['teams']) # 0 = Blue side, 1 = Red Side\n",
    "\t}\n",
    "\n",
    "\treturn scrubbed_match_data"
   ]
  },
  {
   "cell_type": "code",
   "execution_count": null,
   "metadata": {},
   "outputs": [],
   "source": [
    "def getAllLadders():\n",
    "\tladder = pd.concat([getLadder(\"challengerleagues\"), getLadder(\"grandmasterleagues\"), getLadder(\"masterleagues\")])\n",
    "\n",
    "\treturn ladder"
   ]
  },
  {
   "cell_type": "code",
   "execution_count": null,
   "metadata": {},
   "outputs": [],
   "source": [
    "def getMatchIDs(ladder):\n",
    "\tmatch_ids = []\n",
    "\tpuuidProcessed = []\n",
    "\n",
    "\ttry:\n",
    "\t\tfor index, row in ladder.iterrows():\n",
    "\t\t\tmatches = getMatchIDs(row.puuid)\n",
    "\t\t\tmatch_ids.extend(matches)\n",
    "\t\t\tpuuidProcessed.append(row.puuid)\n",
    "\n",
    "\t\t\tif (index + 1) % 20 == 0:\n",
    "\t\t\t\tprint(len(match_ids))\n",
    "\t\t\t\ttime.sleep(30) # Sleep 30 seconds so that it won't hit the rate limit\n",
    "\n",
    "\t\tprint(len(match_ids)) # should be 6000\n",
    "\n",
    "\n",
    "\texcept Exception as e: print(e)\n",
    "\tfinally:\n",
    "\t\tdf = pd.DataFrame({ 'match_ids': match_ids })\n",
    "\t\tdf2 = pd.DataFrame({ 'puuid': puuidProcessed })\n",
    "\n",
    "\t\tprint(df.shape)\n",
    "\t\tprint(df2.shape)\n",
    "\n",
    "\t\tdf.to_csv(\"./MatchIDs2.csv\")\n",
    "\t\tdf2.to_csv(\"./ProcessedPuuids2.csv\")"
   ]
  },
  {
   "cell_type": "code",
   "execution_count": null,
   "metadata": {},
   "outputs": [],
   "source": [
    "def getMatches(match_ids):\n",
    "\tall_matches = pd.DataFrame()\n",
    "\tbad_match_ids = []\n",
    "\tmatch_id = \"\"\n",
    "\tframes = 0\n",
    "\tmatch_data = None\n",
    "\tmatch_timeline = None\n",
    "\ttry:\n",
    "\n",
    "\t\tfor index, row in match_ids.iterrows():\n",
    "\t\t\tmatch_id = row.match_id\n",
    "\n",
    "\t\t\turl = f\"https://americas.api.riotgames.com/lol/match/v5/matches/{match_id}?api_key={api_key}\"\n",
    "\t\t\tresponse = requests.get(url)\n",
    "\t\t\t\n",
    "\t\t\tif response.status_code == 200:\n",
    "\t\t\t\tmatch_data = response.json()\n",
    "\t\t\telse:\n",
    "\t\t\t\tprint(response)\n",
    "\t\t\t\tcontinue\n",
    "\n",
    "\t\t\turl = f\"https://americas.api.riotgames.com/lol/match/v5/matches/{match_id}/timeline?api_key={api_key}\"\n",
    "\t\t\tresponse = requests.get(url)\n",
    "\n",
    "\t\t\tif response.status_code == 200:\n",
    "\t\t\t\tmatch_timeline = response.json()\n",
    "\t\t\telse:\n",
    "\t\t\t\tprint(response)\n",
    "\t\t\t\tcontinue\n",
    "\n",
    "\t\t\tframes = match_timeline['info']['frames']\n",
    "\t\t\tif (len(frames) < 15):\n",
    "\t\t\t\tbad_match_ids.append(match_id)\n",
    "\t\t\t\tcontinue\n",
    "\n",
    "\t\t\tmatch_data_dict = mapData(match_data, match_timeline)\n",
    "\n",
    "\t\t\tall_matches = pd.concat([all_matches, pd.DataFrame([match_data_dict])])\n",
    "\t\t\tif (index + 1) % 25 == 0:\n",
    "\t\t\t\tprint(len(bad_match_ids))\n",
    "\t\t\t\tprint(all_matches.shape)\t\t\t\t\n",
    "\t\t\t\ttime.sleep(90) # Sleep 90 seconds so that it won't hit the rate limit\n",
    "\t\n",
    "\texcept Exception as e: \n",
    "\t\tprint(e)\n",
    "\t\tprint(match_data)\n",
    "\t\tprint(match_timeline)\n",
    "\tfinally:\n",
    "\t\tall_matches.to_csv(\"./AllMatches2.csv\")\n",
    "\t\tdf = pd.DataFrame({ 'match_id': bad_match_ids })\n",
    "\t\tdf.to_csv(\"./BadMatchIDs2.csv\")"
   ]
  },
  {
   "cell_type": "code",
   "execution_count": null,
   "metadata": {},
   "outputs": [
    {
     "name": "stdout",
     "output_type": "stream",
     "text": [
      "(236908, 1)\n",
      "(81542, 1)\n"
     ]
    }
   ],
   "source": [
    "# Remove Duplicates\n",
    "match_ids = pd.read_csv(\"MatchIDs.csv\")\n",
    "match_ids = match_ids.drop(\"Unnamed: 0\", axis=1)\n",
    "\n",
    "print(match_ids.shape)\n",
    "\n",
    "match_ids = match_ids.drop_duplicates()\n",
    "\n",
    "print(match_ids.shape)\n"
   ]
  },
  {
   "cell_type": "code",
   "execution_count": null,
   "metadata": {},
   "outputs": [
    {
     "name": "stdout",
     "output_type": "stream",
     "text": [
      "(81237, 1)\n"
     ]
    }
   ],
   "source": [
    "bad_match_ids = pd.read_csv('./BadMatchIDs.csv')\n",
    "\n",
    "match_ids = match_ids[~match_ids['match_id'].isin(bad_match_ids['match_id'])]\n",
    "\n",
    "print(match_ids.shape)"
   ]
  },
  {
   "cell_type": "code",
   "execution_count": null,
   "metadata": {},
   "outputs": [
    {
     "name": "stdout",
     "output_type": "stream",
     "text": [
      "(64072, 1)\n"
     ]
    }
   ],
   "source": [
    "all_matches = pd.read_csv('./AllMatches.csv')\n",
    "\n",
    "match_ids = match_ids[~match_ids['match_id'].isin(all_matches['matchId'])]\n",
    "\n",
    "print(match_ids.shape)"
   ]
  },
  {
   "cell_type": "code",
   "execution_count": null,
   "metadata": {},
   "outputs": [
    {
     "name": "stdout",
     "output_type": "stream",
     "text": [
      "0\n",
      "(8, 22)\n",
      "1\n",
      "(24, 22)\n",
      "1\n",
      "(44, 22)\n",
      "1\n",
      "(74, 22)\n",
      "1\n",
      "(87, 22)\n",
      "1\n",
      "(109, 22)\n",
      "1\n",
      "(142, 22)\n",
      "1\n",
      "(162, 22)\n",
      "1\n",
      "(182, 22)\n",
      "3\n",
      "(211, 22)\n",
      "3\n",
      "(233, 22)\n",
      "3\n",
      "(250, 22)\n",
      "3\n",
      "(272, 22)\n",
      "4\n",
      "(310, 22)\n",
      "4\n",
      "(328, 22)\n"
     ]
    }
   ],
   "source": [
    "getMatches(match_ids)"
   ]
  }
 ],
 "metadata": {
  "kernelspec": {
   "display_name": ".venv",
   "language": "python",
   "name": "python3"
  },
  "language_info": {
   "codemirror_mode": {
    "name": "ipython",
    "version": 3
   },
   "file_extension": ".py",
   "mimetype": "text/x-python",
   "name": "python",
   "nbconvert_exporter": "python",
   "pygments_lexer": "ipython3",
   "version": "3.13.1"
  }
 },
 "nbformat": 4,
 "nbformat_minor": 2
}
