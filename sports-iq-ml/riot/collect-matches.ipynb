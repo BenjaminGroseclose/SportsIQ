{
 "cells": [
  {
   "cell_type": "code",
   "execution_count": 28,
   "metadata": {},
   "outputs": [
    {
     "name": "stdout",
     "output_type": "stream",
     "text": [
      "RGAPI-bd82de61-c8fa-49e2-843e-fdb603f231b9\n",
      "https://na1.api.riotgames.com\n"
     ]
    }
   ],
   "source": [
    "import os\n",
    "import time\n",
    "import requests\n",
    "import pandas as pd\n",
    "import json\n",
    "\n",
    "api_key = os.environ.get('riot_api_key')\n",
    "base_url = \"https://na1.api.riotgames.com\"\n",
    "solo_duo = \"RANKED_SOLO_5x5\"\n",
    "\n",
    "print(api_key)\n",
    "print(base_url)"
   ]
  },
  {
   "cell_type": "code",
   "execution_count": 29,
   "metadata": {},
   "outputs": [],
   "source": [
    "def getLadder(type) -> pd.DataFrame:\n",
    "\turl = f\"{base_url}/lol/league/v4/{type}/by-queue/{solo_duo}?api_key={api_key}\"\n",
    "\n",
    "\tresponse = requests.get(url)\n",
    "\n",
    "\tprint(response)\n",
    "\n",
    "\tif response.status_code == 200:\n",
    "\t\t\tdata = response.json()\n",
    "\t\t\tplayers = data['entries']\n",
    "\n",
    "\t\t\treturn pd.DataFrame(players)\n"
   ]
  },
  {
   "cell_type": "code",
   "execution_count": 30,
   "metadata": {},
   "outputs": [],
   "source": [
    "def getMatchIDs(puuid):\n",
    "\turl = f\"https://americas.api.riotgames.com/lol/match/v5/matches/by-puuid/{puuid}/ids?queue=420&start=0&count=40&api_key={api_key}\"\n",
    "\n",
    "\tresponse = requests.get(url)\n",
    "\n",
    "\tif response.status_code == 200:\n",
    "\t\t\tdata = response.json()\n",
    "\n",
    "\t\t\treturn data\n",
    "\telse:\n",
    "\t\tprint(response)"
   ]
  },
  {
   "cell_type": "code",
   "execution_count": 31,
   "metadata": {},
   "outputs": [],
   "source": [
    "blueTeamId = 100\n",
    "redTeamId = 200\n",
    "def getWinner(teams):\n",
    "\tfor t in teams:\n",
    "\t\tif t['teamId'] == blueTeamId:\n",
    "\t\t\treturn 0 if t['win'] else 1\n",
    "\n",
    "def getChampionID(participants, side, position):\n",
    "\tfor p in participants:\n",
    "\t\tif p['teamId'] == side and p['teamPosition'] == position:\n",
    "\t\t\treturn p['championId']\n",
    "\n",
    "\n",
    "def mapData(matchId):\n",
    "\turl = f\"https://americas.api.riotgames.com/lol/match/v5/matches/{matchId}?api_key={api_key}\"\n",
    "\n",
    "\tresponse = requests.get(url)\n",
    "\n",
    "\tif response.status_code == 200:\n",
    "\t\tmatch_data = response.json()\n",
    "\n",
    "\t\tscrubbed_match_data = {\n",
    "\t\t\t'matchId': match_data['metadata']['matchId'],\n",
    "\t\t\t'gameDurationSeconds': match_data['info']['gameDuration'],\n",
    "\t\t\t'championBlueTop': getChampionID(match_data['info']['participants'], blueTeamId, 'TOP'),\n",
    "\t\t\t'championBlueJG': getChampionID(match_data['info']['participants'], blueTeamId, 'JUNGLE'),\n",
    "\t\t\t'championBlueMid': getChampionID(match_data['info']['participants'], blueTeamId, 'MIDDLE'),\n",
    "\t\t\t'championBlueBot': getChampionID(match_data['info']['participants'], blueTeamId, 'BOTTOM'),\n",
    "\t\t\t'championBlueSup': getChampionID(match_data['info']['participants'], blueTeamId, 'UTILITY'),\n",
    "\t\t\t'championRedTop': getChampionID(match_data['info']['participants'], redTeamId, 'TOP'),\n",
    "\t\t\t'championRedJG': getChampionID(match_data['info']['participants'], redTeamId, 'JUNGLE'),\n",
    "\t\t\t'championRedMid': getChampionID(match_data['info']['participants'], redTeamId, 'MIDDLE'),\n",
    "\t\t\t'championRedBot': getChampionID(match_data['info']['participants'], redTeamId, 'BOTTOM'),\n",
    "\t\t\t'championRedSup': getChampionID(match_data['info']['participants'], redTeamId, 'UTILITY'),\n",
    "\t\t\t'winner': getWinner(match_data['info']['teams']) # 0 = Blue side, 1 = Red Side\n",
    "\t\t}\n",
    "\n",
    "\t\treturn scrubbed_match_data"
   ]
  },
  {
   "cell_type": "code",
   "execution_count": 32,
   "metadata": {},
   "outputs": [],
   "source": [
    "def getAllLadders():\n",
    "\tladder = pd.concat([getLadder(\"challengerleagues\"), getLadder(\"grandmasterleagues\"), getLadder(\"masterleagues\")])\n",
    "\n",
    "\treturn ladder"
   ]
  },
  {
   "cell_type": "code",
   "execution_count": 33,
   "metadata": {},
   "outputs": [],
   "source": [
    "def getMatchIDs(ladder):\n",
    "\tmatch_ids = []\n",
    "\tpuuidProcessed = []\n",
    "\n",
    "\ttry:\n",
    "\t\tfor index, row in ladder.iterrows():\n",
    "\t\t\tmatches = getMatchIDs(row.puuid)\n",
    "\t\t\tmatch_ids.extend(matches)\n",
    "\t\t\tpuuidProcessed.append(row.puuid)\n",
    "\n",
    "\t\t\tif (index + 1) % 20 == 0:\n",
    "\t\t\t\tprint(len(match_ids))\n",
    "\t\t\t\ttime.sleep(30) # Sleep 30 seconds so that it won't hit the rate limit\n",
    "\n",
    "\t\tprint(len(match_ids)) # should be 6000\n",
    "\n",
    "\n",
    "\texcept Exception as e: print(e)\n",
    "\tfinally:\n",
    "\t\tdf = pd.DataFrame({ 'match_ids': match_ids })\n",
    "\t\tdf2 = pd.DataFrame({ 'puuid': puuidProcessed })\n",
    "\n",
    "\t\tprint(df.shape)\n",
    "\t\tprint(df2.shape)\n",
    "\n",
    "\t\tdf.to_csv(\"./MatchIDs2.csv\")\n",
    "\t\tdf2.to_csv(\"./ProcessedPuuids2.csv\")"
   ]
  },
  {
   "cell_type": "code",
   "execution_count": 34,
   "metadata": {},
   "outputs": [
    {
     "name": "stdout",
     "output_type": "stream",
     "text": [
      "(236908, 1)\n",
      "(81542, 1)\n"
     ]
    }
   ],
   "source": [
    "# Remove Duplicates\n",
    "match_ids = pd.read_csv(\"MatchIDs.csv\")\n",
    "match_ids = match_ids.drop(\"Unnamed: 0\", axis=1)\n",
    "\n",
    "print(match_ids.shape)\n",
    "\n",
    "match_ids = match_ids.drop_duplicates()\n",
    "\n",
    "print(match_ids.shape)\n"
   ]
  },
  {
   "cell_type": "code",
   "execution_count": 35,
   "metadata": {},
   "outputs": [],
   "source": [
    "def getMatches(match_ids):\n",
    "\tallMatches = []\n",
    "\tmatchIdProcessed = []\n",
    "\ttry:\n",
    "\n",
    "\t\tfor index, row in match_ids.iterrows():\n",
    "\t\t\tmatchId = row.match_id\n",
    "\n",
    "\t\t\turl = f\"https://americas.api.riotgames.com/lol/match/v5/matches/{matchId}?api_key={api_key}\"\n",
    "\t\t\tresponse = requests.get(url)\n",
    "\t\t\t\n",
    "\t\t\tif response.status_code == 200:\n",
    "\t\t\t\tmatch_data = response.json()\n",
    "\t\t\t\tallMatches.append(match_data)\n",
    "\n",
    "\t\t\tmatchIdProcessed.append(matchId)\n",
    "\t\t\tif (index + 1) % 100 == 0:\n",
    "\t\t\t\tprint(len(allMatches))\t\t\t\t\n",
    "\t\t\t\ttime.sleep(121) # Sleep 121 seconds so that it won't hit the rate limit\n",
    "\n",
    "\t\t\tif (index + 1) % 10000 == 0:\n",
    "\t\t\t\tprint(index + 1, 'Dumping to JSON')\n",
    "\t\t\t\twith open('match_data.json', 'w') as file:\n",
    "\t\t\t\t\tjson.dump(allMatches, file)\n",
    "\n",
    "\n",
    "\t\twith open('match_data.json', 'w') as file:\n",
    "\t\t\tjson.dump(allMatches, file)\n",
    "\t\n",
    "\texcept Exception as e: print(e)\n",
    "\tfinally:\n",
    "\t\tdf = pd.DataFrame({ 'match_id': matchIdProcessed })\n",
    "\t\tdf.to_csv(\"./MatchIDsProcessed2.csv\")\n",
    "\n",
    "\t\twith open('match_data2.json', 'w') as file:\n",
    "\t\t\tjson.dump(allMatches, file)"
   ]
  },
  {
   "cell_type": "code",
   "execution_count": 36,
   "metadata": {},
   "outputs": [
    {
     "name": "stdout",
     "output_type": "stream",
     "text": [
      "(1757, 2)\n",
      "(81542, 1)\n"
     ]
    },
    {
     "data": {
      "text/plain": [
       "(79785, 1)"
      ]
     },
     "execution_count": 36,
     "metadata": {},
     "output_type": "execute_result"
    }
   ],
   "source": [
    "# Remove already processed\n",
    "processedMatchIDs = pd.read_csv('MatchIDsProcess.csv')\n",
    "\n",
    "print(processedMatchIDs.shape)\n",
    "print(match_ids.shape)\n",
    "\n",
    "match_ids = match_ids[~match_ids['match_id'].isin(processedMatchIDs['match_id'])]\n",
    "\n",
    "match_ids.shape"
   ]
  },
  {
   "cell_type": "code",
   "execution_count": 37,
   "metadata": {},
   "outputs": [
    {
     "name": "stdout",
     "output_type": "stream",
     "text": [
      "100\n",
      "142\n",
      "209\n",
      "307\n",
      "356\n",
      "417\n",
      "476\n",
      "528\n",
      "558\n",
      "658\n",
      "706\n",
      "792\n",
      "871\n",
      "946\n",
      "1000\n",
      "1100\n",
      "1200\n",
      "1257\n",
      "1304\n",
      "1398\n",
      "1436\n",
      "1493\n",
      "1574\n",
      "1660\n",
      "1711\n",
      "1811\n",
      "1853\n",
      "1876\n",
      "1976\n",
      "2010\n",
      "2081\n",
      "2148\n",
      "2248\n",
      "2348\n",
      "2392\n",
      "2447\n",
      "2505\n",
      "2600\n",
      "2670\n",
      "2770\n",
      "2830\n",
      "2882\n",
      "2938\n",
      "3020\n",
      "3109\n",
      "3139\n",
      "3204\n",
      "3240\n",
      "3279\n",
      "HTTPSConnectionPool(host='americas.api.riotgames.com', port=443): Read timed out. (read timeout=None)\n"
     ]
    }
   ],
   "source": [
    "getMatches(match_ids)"
   ]
  },
  {
   "cell_type": "code",
   "execution_count": 38,
   "metadata": {},
   "outputs": [],
   "source": [
    "# data = None\n",
    "# with open('match_data.json', 'r') as file:\n",
    "#     data = json.load(file)\n",
    "\n",
    "# # Print the data\n",
    "# print(len(data))\n",
    "# print(data[1500])"
   ]
  }
 ],
 "metadata": {
  "kernelspec": {
   "display_name": ".venv",
   "language": "python",
   "name": "python3"
  },
  "language_info": {
   "codemirror_mode": {
    "name": "ipython",
    "version": 3
   },
   "file_extension": ".py",
   "mimetype": "text/x-python",
   "name": "python",
   "nbconvert_exporter": "python",
   "pygments_lexer": "ipython3",
   "version": "3.13.1"
  }
 },
 "nbformat": 4,
 "nbformat_minor": 2
}
