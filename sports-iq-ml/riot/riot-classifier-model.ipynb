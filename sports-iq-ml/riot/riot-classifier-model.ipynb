{
 "cells": [
  {
   "cell_type": "code",
   "execution_count": 9,
   "metadata": {},
   "outputs": [],
   "source": [
    "from sklearn.ensemble import RandomForestClassifier\n",
    "from sklearn.model_selection import train_test_split\n",
    "import pandas as pd\n",
    "from sklearn.metrics import accuracy_score"
   ]
  },
  {
   "cell_type": "code",
   "execution_count": 10,
   "metadata": {},
   "outputs": [
    {
     "data": {
      "text/plain": [
       "(17165, 22)"
      ]
     },
     "execution_count": 10,
     "metadata": {},
     "output_type": "execute_result"
    }
   ],
   "source": [
    "matches = pd.read_csv('./AllMatches.csv')\n",
    "\n",
    "matches = matches.drop('Unnamed: 0', axis=1)\n",
    "matches.shape"
   ]
  },
  {
   "cell_type": "code",
   "execution_count": 11,
   "metadata": {},
   "outputs": [
    {
     "data": {
      "text/plain": [
       "Index(['matchId', 'gameDurationSeconds', 'championBlueTop', 'championBlueJG',\n",
       "       'championBlueMid', 'championBlueBot', 'championBlueSup',\n",
       "       'championRedTop', 'championRedJG', 'championRedMid', 'championRedBot',\n",
       "       'championRedSup', 'goldDifference', 'blueGrubCount', 'redGrubCount',\n",
       "       'blueDragonCount', 'redDragonCount', 'blueBaronCount', 'redBaronCount',\n",
       "       'blueAtakhan', 'redAtakhan', 'winner'],\n",
       "      dtype='object')"
      ]
     },
     "execution_count": 11,
     "metadata": {},
     "output_type": "execute_result"
    }
   ],
   "source": [
    "matches.columns"
   ]
  },
  {
   "cell_type": "code",
   "execution_count": null,
   "metadata": {},
   "outputs": [],
   "source": [
    "# features = [\"championBlueTop\", \"championBlueJG\", \"championBlueMid\", \"championBlueBot\", \"championBlueSup\", \n",
    "# \t\t\t\t\t\t\"championRedTop\", \"championRedJG\", \"championRedMid\", \"championRedBot\", \"championRedSup\",\n",
    "# \t\t\t\t\t\t\"goldDifference\", \"blueGrubCount\", \"redGrubCount\"]\n",
    "\n",
    "# features = [\"goldDifference\", \"blueGrubCount\", \"redGrubCount\"]\n",
    "\n",
    "# features = [\"championBlueTop\", \"championBlueJG\", \"championBlueMid\", \"championBlueBot\", \"championBlueSup\", \n",
    "# \t\t\t\t\t\t\"championRedTop\", \"championRedJG\", \"championRedMid\", \"championRedBot\", \"championRedSup\",\n",
    "# \t\t\t\t\t\t\"goldDifference\", \"blueGrubCount\", \"redGrubCount\", \"blueDragonCount\", \"redDragonCount\"]\n",
    "\n",
    "# features = [\"championBlueTop\", \"championBlueJG\", \"championBlueMid\", \"championBlueBot\", \"championBlueSup\", \n",
    "# \t\t\t\t\t\t\"championRedTop\", \"championRedJG\", \"championRedMid\", \"championRedBot\", \"championRedSup\"]\n",
    "\n",
    "features = [\"championBlueTop\", \"championBlueJG\", \"championBlueMid\", \"championBlueBot\", \"championBlueSup\", \n",
    "\t\t\t\t\t\t\"championRedTop\", \"championRedJG\", \"championRedMid\", \"championRedBot\", \"championRedSup\",\n",
    "\t\t\t\t\t\t\"goldDifference\", \"blueGrubCount\", \"redGrubCount\", \"blueDragonCount\", \"redDragonCount\", 'blueBaronCount', 'redBaronCount']\n",
    "\n",
    "# Export model to binary, read up on exporting\n",
    "\n",
    "X, y = matches[features], matches['winner']"
   ]
  },
  {
   "cell_type": "code",
   "execution_count": 13,
   "metadata": {},
   "outputs": [],
   "source": [
    "def train_predict(X_train, y_train, X_test, y_test):\n",
    "\tmodel =  RandomForestClassifier()\n",
    "\tmodel.fit(X_train, y_train)\n",
    "\n",
    "\t# 6 Evaluation: Test the model via predicting\n",
    "\ty_pred = model.predict(X_train)\n",
    "\tacc_train = accuracy_score(y_train, y_pred)\n",
    "\tprint(\"accuracy score (training data): %.2f\" % acc_train)\n",
    "\ty_pred = model.predict(X_test)\n",
    "\tacc_test = accuracy_score(y_test, y_pred)\n",
    "\tprint(\"accuracy_score (test data): %.2f\" % acc_test)"
   ]
  },
  {
   "cell_type": "code",
   "execution_count": 14,
   "metadata": {},
   "outputs": [],
   "source": [
    "# Split the data into Train and Test so we can predict\n",
    "TEST_PROP, RANDOM_SEED = 0.5, 0\n",
    "X_train, X_test, y_train, y_test = train_test_split(\n",
    "    X, y, test_size=TEST_PROP, random_state=RANDOM_SEED)"
   ]
  },
  {
   "cell_type": "code",
   "execution_count": 15,
   "metadata": {},
   "outputs": [
    {
     "name": "stdout",
     "output_type": "stream",
     "text": [
      "accuracy score (training data): 1.00\n",
      "accuracy_score (test data): 0.90\n"
     ]
    }
   ],
   "source": [
    "train_predict(X_train, y_train, X_test, y_test)"
   ]
  },
  {
   "cell_type": "code",
   "execution_count": null,
   "metadata": {},
   "outputs": [],
   "source": []
  }
 ],
 "metadata": {
  "kernelspec": {
   "display_name": ".venv",
   "language": "python",
   "name": "python3"
  },
  "language_info": {
   "codemirror_mode": {
    "name": "ipython",
    "version": 3
   },
   "file_extension": ".py",
   "mimetype": "text/x-python",
   "name": "python",
   "nbconvert_exporter": "python",
   "pygments_lexer": "ipython3",
   "version": "3.13.1"
  }
 },
 "nbformat": 4,
 "nbformat_minor": 2
}
