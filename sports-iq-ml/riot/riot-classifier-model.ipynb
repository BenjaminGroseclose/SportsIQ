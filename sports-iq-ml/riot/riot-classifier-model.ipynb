{
 "cells": [
  {
   "cell_type": "code",
   "execution_count": 14,
   "metadata": {},
   "outputs": [],
   "source": [
    "from sklearn.ensemble import RandomForestClassifier\n",
    "from sklearn.model_selection import train_test_split\n",
    "import pandas as pd\n",
    "from sklearn.metrics import accuracy_score\n",
    "import pickle"
   ]
  },
  {
   "cell_type": "code",
   "execution_count": 15,
   "metadata": {},
   "outputs": [
    {
     "data": {
      "text/plain": [
       "(22961, 28)"
      ]
     },
     "execution_count": 15,
     "metadata": {},
     "output_type": "execute_result"
    }
   ],
   "source": [
    "matches_challenger = pd.read_csv('./AllMatches.csv')\n",
    "matches_emerald = pd.read_csv(\"./AllMatches-EMERALD.csv\")\n",
    "\n",
    "matches = pd.concat([matches_challenger, matches_emerald])\n",
    "\n",
    "matches = matches.drop('Unnamed: 0', axis=1)\n",
    "matches.shape"
   ]
  },
  {
   "cell_type": "code",
   "execution_count": 16,
   "metadata": {},
   "outputs": [
    {
     "data": {
      "text/plain": [
       "(22960, 28)"
      ]
     },
     "execution_count": 16,
     "metadata": {},
     "output_type": "execute_result"
    }
   ],
   "source": [
    "# Remove Nan\n",
    "matches = matches.dropna()\n",
    "matches.shape"
   ]
  },
  {
   "cell_type": "code",
   "execution_count": 17,
   "metadata": {},
   "outputs": [
    {
     "data": {
      "text/plain": [
       "Index(['match_id', 'duration', 'blue_top', 'blue_jg', 'blue_mid', 'blue_bot',\n",
       "       'blue_supp', 'red_top', 'red_jg', 'red_mid', 'red_bot', 'red_supp',\n",
       "       'gold_difference', 'blue_champ_kills', 'red_champ_kills',\n",
       "       'blue_tower_kills', 'red_tower_kills', 'blue_grubs', 'red_grubs',\n",
       "       'blue_heralds', 'red_heralds', 'blue_dragons', 'red_dragons',\n",
       "       'blue_barons', 'red_barons', 'blue_atakhan', 'red_atakhan', 'winner'],\n",
       "      dtype='object')"
      ]
     },
     "execution_count": 17,
     "metadata": {},
     "output_type": "execute_result"
    }
   ],
   "source": [
    "matches.columns"
   ]
  },
  {
   "cell_type": "code",
   "execution_count": 18,
   "metadata": {},
   "outputs": [],
   "source": [
    "features = ['duration', 'blue_top', 'blue_jg', 'blue_mid', 'blue_bot',\n",
    "       'blue_supp', 'red_top', 'red_jg', 'red_mid', 'red_bot', 'red_supp',\n",
    "       'gold_difference', 'blue_champ_kills', 'red_champ_kills',\n",
    "       'blue_tower_kills', 'red_tower_kills', 'blue_grubs', 'red_grubs',\n",
    "       'blue_heralds', 'red_heralds', 'blue_dragons', 'red_dragons',\n",
    "       'blue_barons', 'red_barons', 'blue_atakhan', 'red_atakhan',]\n",
    "\n",
    "# add duration\n",
    "# Export model to binary, read up on exporting\n",
    "\n",
    "X, y = matches[features], matches['winner']"
   ]
  },
  {
   "cell_type": "code",
   "execution_count": 19,
   "metadata": {},
   "outputs": [],
   "source": [
    "# Split the data into Train and Test so we can predict\n",
    "TEST_PROP, RANDOM_SEED = 0.8, 0\n",
    "X_train, X_test, y_train, y_test = train_test_split(\n",
    "    X, y, test_size=TEST_PROP, random_state=RANDOM_SEED)"
   ]
  },
  {
   "cell_type": "code",
   "execution_count": 20,
   "metadata": {},
   "outputs": [
    {
     "data": {
      "text/plain": [
       "pandas.core.frame.DataFrame"
      ]
     },
     "execution_count": 20,
     "metadata": {},
     "output_type": "execute_result"
    }
   ],
   "source": [
    "type(X_train)"
   ]
  },
  {
   "cell_type": "code",
   "execution_count": 21,
   "metadata": {},
   "outputs": [
    {
     "name": "stdout",
     "output_type": "stream",
     "text": [
      "accuracy score (training data): 1.00\n",
      "accuracy_score (test data): 0.98\n"
     ]
    }
   ],
   "source": [
    "model =  RandomForestClassifier()\n",
    "model.fit(X_train, y_train)\n",
    "\n",
    "# 6 Evaluation: Test the model via predicting\n",
    "y_pred = model.predict(X_train)\n",
    "acc_train = accuracy_score(y_train, y_pred)\n",
    "print(\"accuracy score (training data): %.2f\" % acc_train)\n",
    "y_pred = model.predict(X_test)\n",
    "acc_test = accuracy_score(y_test, y_pred)\n",
    "print(\"accuracy_score (test data): %.2f\" % acc_test)"
   ]
  },
  {
   "cell_type": "code",
   "execution_count": 22,
   "metadata": {},
   "outputs": [],
   "source": [
    "# Save Model\n",
    "filename = 'riot_classifier.pkl'\n",
    "with open(filename, 'wb') as file:\n",
    "\t\tpickle.dump(model, file)"
   ]
  }
 ],
 "metadata": {
  "kernelspec": {
   "display_name": ".venv",
   "language": "python",
   "name": "python3"
  },
  "language_info": {
   "codemirror_mode": {
    "name": "ipython",
    "version": 3
   },
   "file_extension": ".py",
   "mimetype": "text/x-python",
   "name": "python",
   "nbconvert_exporter": "python",
   "pygments_lexer": "ipython3",
   "version": "3.13.1"
  }
 },
 "nbformat": 4,
 "nbformat_minor": 2
}
