{
 "cells": [
  {
   "cell_type": "code",
   "execution_count": 6,
   "metadata": {},
   "outputs": [
    {
     "data": {
      "text/html": [
       "<div>\n",
       "<style scoped>\n",
       "    .dataframe tbody tr th:only-of-type {\n",
       "        vertical-align: middle;\n",
       "    }\n",
       "\n",
       "    .dataframe tbody tr th {\n",
       "        vertical-align: top;\n",
       "    }\n",
       "\n",
       "    .dataframe thead th {\n",
       "        text-align: right;\n",
       "    }\n",
       "</style>\n",
       "<table border=\"1\" class=\"dataframe\">\n",
       "  <thead>\n",
       "    <tr style=\"text-align: right;\">\n",
       "      <th></th>\n",
       "      <th>Unnamed: 0</th>\n",
       "      <th>match_id</th>\n",
       "      <th>duration</th>\n",
       "      <th>blue_top</th>\n",
       "      <th>blue_jg</th>\n",
       "      <th>blue_mid</th>\n",
       "      <th>blue_bot</th>\n",
       "      <th>blue_supp</th>\n",
       "      <th>red_top</th>\n",
       "      <th>red_jg</th>\n",
       "      <th>...</th>\n",
       "      <th>red_grubs</th>\n",
       "      <th>blue_heralds</th>\n",
       "      <th>red_heralds</th>\n",
       "      <th>blue_dragons</th>\n",
       "      <th>red_dragons</th>\n",
       "      <th>blue_barons</th>\n",
       "      <th>red_barons</th>\n",
       "      <th>blue_atakhan</th>\n",
       "      <th>red_atakhan</th>\n",
       "      <th>winner</th>\n",
       "    </tr>\n",
       "  </thead>\n",
       "  <tbody>\n",
       "    <tr>\n",
       "      <th>0</th>\n",
       "      <td>0</td>\n",
       "      <td>NA1_5242178677</td>\n",
       "      <td>1437</td>\n",
       "      <td>6</td>\n",
       "      <td>64</td>\n",
       "      <td>126</td>\n",
       "      <td>110</td>\n",
       "      <td>888</td>\n",
       "      <td>266</td>\n",
       "      <td>254</td>\n",
       "      <td>...</td>\n",
       "      <td>4</td>\n",
       "      <td>0</td>\n",
       "      <td>1</td>\n",
       "      <td>1</td>\n",
       "      <td>3</td>\n",
       "      <td>0</td>\n",
       "      <td>0</td>\n",
       "      <td>0</td>\n",
       "      <td>1</td>\n",
       "      <td>1</td>\n",
       "    </tr>\n",
       "    <tr>\n",
       "      <th>1</th>\n",
       "      <td>0</td>\n",
       "      <td>NA1_5241910659</td>\n",
       "      <td>1809</td>\n",
       "      <td>41</td>\n",
       "      <td>876</td>\n",
       "      <td>711</td>\n",
       "      <td>202</td>\n",
       "      <td>43</td>\n",
       "      <td>10</td>\n",
       "      <td>106</td>\n",
       "      <td>...</td>\n",
       "      <td>3</td>\n",
       "      <td>0</td>\n",
       "      <td>1</td>\n",
       "      <td>0</td>\n",
       "      <td>4</td>\n",
       "      <td>1</td>\n",
       "      <td>0</td>\n",
       "      <td>0</td>\n",
       "      <td>1</td>\n",
       "      <td>1</td>\n",
       "    </tr>\n",
       "    <tr>\n",
       "      <th>2</th>\n",
       "      <td>0</td>\n",
       "      <td>NA1_5241896512</td>\n",
       "      <td>1488</td>\n",
       "      <td>27</td>\n",
       "      <td>106</td>\n",
       "      <td>166</td>\n",
       "      <td>202</td>\n",
       "      <td>201</td>\n",
       "      <td>164</td>\n",
       "      <td>203</td>\n",
       "      <td>...</td>\n",
       "      <td>0</td>\n",
       "      <td>0</td>\n",
       "      <td>1</td>\n",
       "      <td>0</td>\n",
       "      <td>3</td>\n",
       "      <td>0</td>\n",
       "      <td>0</td>\n",
       "      <td>0</td>\n",
       "      <td>1</td>\n",
       "      <td>1</td>\n",
       "    </tr>\n",
       "    <tr>\n",
       "      <th>3</th>\n",
       "      <td>0</td>\n",
       "      <td>NA1_5241251868</td>\n",
       "      <td>1609</td>\n",
       "      <td>126</td>\n",
       "      <td>141</td>\n",
       "      <td>134</td>\n",
       "      <td>92</td>\n",
       "      <td>350</td>\n",
       "      <td>164</td>\n",
       "      <td>106</td>\n",
       "      <td>...</td>\n",
       "      <td>3</td>\n",
       "      <td>0</td>\n",
       "      <td>1</td>\n",
       "      <td>0</td>\n",
       "      <td>4</td>\n",
       "      <td>0</td>\n",
       "      <td>0</td>\n",
       "      <td>0</td>\n",
       "      <td>1</td>\n",
       "      <td>1</td>\n",
       "    </tr>\n",
       "    <tr>\n",
       "      <th>4</th>\n",
       "      <td>0</td>\n",
       "      <td>NA1_5241210985</td>\n",
       "      <td>950</td>\n",
       "      <td>56</td>\n",
       "      <td>234</td>\n",
       "      <td>517</td>\n",
       "      <td>145</td>\n",
       "      <td>350</td>\n",
       "      <td>777</td>\n",
       "      <td>106</td>\n",
       "      <td>...</td>\n",
       "      <td>3</td>\n",
       "      <td>0</td>\n",
       "      <td>0</td>\n",
       "      <td>0</td>\n",
       "      <td>2</td>\n",
       "      <td>0</td>\n",
       "      <td>0</td>\n",
       "      <td>0</td>\n",
       "      <td>0</td>\n",
       "      <td>1</td>\n",
       "    </tr>\n",
       "  </tbody>\n",
       "</table>\n",
       "<p>5 rows × 29 columns</p>\n",
       "</div>"
      ],
      "text/plain": [
       "   Unnamed: 0        match_id  duration  blue_top  blue_jg  blue_mid  \\\n",
       "0           0  NA1_5242178677      1437         6       64       126   \n",
       "1           0  NA1_5241910659      1809        41      876       711   \n",
       "2           0  NA1_5241896512      1488        27      106       166   \n",
       "3           0  NA1_5241251868      1609       126      141       134   \n",
       "4           0  NA1_5241210985       950        56      234       517   \n",
       "\n",
       "   blue_bot  blue_supp  red_top  red_jg  ...  red_grubs  blue_heralds  \\\n",
       "0       110        888      266     254  ...          4             0   \n",
       "1       202         43       10     106  ...          3             0   \n",
       "2       202        201      164     203  ...          0             0   \n",
       "3        92        350      164     106  ...          3             0   \n",
       "4       145        350      777     106  ...          3             0   \n",
       "\n",
       "   red_heralds  blue_dragons  red_dragons  blue_barons  red_barons  \\\n",
       "0            1             1            3            0           0   \n",
       "1            1             0            4            1           0   \n",
       "2            1             0            3            0           0   \n",
       "3            1             0            4            0           0   \n",
       "4            0             0            2            0           0   \n",
       "\n",
       "   blue_atakhan  red_atakhan  winner  \n",
       "0             0            1       1  \n",
       "1             0            1       1  \n",
       "2             0            1       1  \n",
       "3             0            1       1  \n",
       "4             0            0       1  \n",
       "\n",
       "[5 rows x 29 columns]"
      ]
     },
     "execution_count": 6,
     "metadata": {},
     "output_type": "execute_result"
    }
   ],
   "source": [
    "import plotly.graph_objects as go\n",
    "import plotly.express as px\n",
    "import pandas as pd\n",
    "import numpy as np\n",
    "\n",
    "matches = pd.read_csv(\"AllMatches.csv\")\n",
    "\n",
    "# TODO: Add RIOT data to github\n",
    "\n",
    "\n",
    "matches.head()"
   ]
  },
  {
   "cell_type": "code",
   "execution_count": null,
   "metadata": {},
   "outputs": [],
   "source": []
  },
  {
   "cell_type": "markdown",
   "metadata": {},
   "source": [
    "# Gold Difference at 14 Scatter Plot"
   ]
  },
  {
   "cell_type": "code",
   "execution_count": 1,
   "metadata": {},
   "outputs": [
    {
     "ename": "NameError",
     "evalue": "name 'matches' is not defined",
     "output_type": "error",
     "traceback": [
      "\u001b[31m---------------------------------------------------------------------------\u001b[39m",
      "\u001b[31mNameError\u001b[39m                                 Traceback (most recent call last)",
      "\u001b[36mCell\u001b[39m\u001b[36m \u001b[39m\u001b[32mIn[1]\u001b[39m\u001b[32m, line 1\u001b[39m\n\u001b[32m----> \u001b[39m\u001b[32m1\u001b[39m X = \u001b[38;5;28mrange\u001b[39m(\u001b[38;5;28mlen\u001b[39m(\u001b[43mmatches\u001b[49m))\n\u001b[32m      3\u001b[39m colors = [\u001b[33m'\u001b[39m\u001b[33mred\u001b[39m\u001b[33m'\u001b[39m \u001b[38;5;28;01mif\u001b[39;00m val == \u001b[32m1\u001b[39m \u001b[38;5;28;01melse\u001b[39;00m \u001b[33m'\u001b[39m\u001b[33mblue\u001b[39m\u001b[33m'\u001b[39m \u001b[38;5;28;01mfor\u001b[39;00m val \u001b[38;5;129;01min\u001b[39;00m matches[\u001b[33m'\u001b[39m\u001b[33mwinner\u001b[39m\u001b[33m'\u001b[39m]]\n\u001b[32m      5\u001b[39m fig = go.Figure(data=go.Scatter(x=np.array(X), y=matches[\u001b[33m'\u001b[39m\u001b[33mgoldDifference\u001b[39m\u001b[33m'\u001b[39m], mode=\u001b[33m'\u001b[39m\u001b[33mmarkers\u001b[39m\u001b[33m'\u001b[39m, marker=\u001b[38;5;28mdict\u001b[39m(color=colors)))\n",
      "\u001b[31mNameError\u001b[39m: name 'matches' is not defined"
     ]
    }
   ],
   "source": [
    "X = range(len(matches))\n",
    "\n",
    "colors = ['red' if val == 1 else 'blue' for val in matches['winner']]\n",
    "\n",
    "fig = go.Figure(data=go.Scatter(x=np.array(X), y=matches['goldDifference'], mode='markers', marker=dict(color=colors)))\n",
    "fig.show()"
   ]
  },
  {
   "cell_type": "markdown",
   "metadata": {},
   "source": [
    "# Red Side vs Blue Side"
   ]
  },
  {
   "cell_type": "code",
   "execution_count": null,
   "metadata": {},
   "outputs": [
    {
     "data": {
      "application/vnd.plotly.v1+json": {
       "config": {
        "plotlyServerURL": "https://plot.ly"
       },
       "data": [
        {
         "domain": {
          "x": [
           0,
           1
          ],
          "y": [
           0,
           1
          ]
         },
         "hovertemplate": "winner=%{label}<br>count=%{value}<extra></extra>",
         "labels": [
          "Blue",
          "Red"
         ],
         "legendgroup": "",
         "name": "",
         "showlegend": true,
         "type": "pie",
         "values": {
          "bdata": "HSurJw==",
          "dtype": "i2"
         }
        }
       ],
       "layout": {
        "legend": {
         "tracegroupgap": 0
        },
        "template": {
         "data": {
          "bar": [
           {
            "error_x": {
             "color": "#2a3f5f"
            },
            "error_y": {
             "color": "#2a3f5f"
            },
            "marker": {
             "line": {
              "color": "#E5ECF6",
              "width": 0.5
             },
             "pattern": {
              "fillmode": "overlay",
              "size": 10,
              "solidity": 0.2
             }
            },
            "type": "bar"
           }
          ],
          "barpolar": [
           {
            "marker": {
             "line": {
              "color": "#E5ECF6",
              "width": 0.5
             },
             "pattern": {
              "fillmode": "overlay",
              "size": 10,
              "solidity": 0.2
             }
            },
            "type": "barpolar"
           }
          ],
          "carpet": [
           {
            "aaxis": {
             "endlinecolor": "#2a3f5f",
             "gridcolor": "white",
             "linecolor": "white",
             "minorgridcolor": "white",
             "startlinecolor": "#2a3f5f"
            },
            "baxis": {
             "endlinecolor": "#2a3f5f",
             "gridcolor": "white",
             "linecolor": "white",
             "minorgridcolor": "white",
             "startlinecolor": "#2a3f5f"
            },
            "type": "carpet"
           }
          ],
          "choropleth": [
           {
            "colorbar": {
             "outlinewidth": 0,
             "ticks": ""
            },
            "type": "choropleth"
           }
          ],
          "contour": [
           {
            "colorbar": {
             "outlinewidth": 0,
             "ticks": ""
            },
            "colorscale": [
             [
              0,
              "#0d0887"
             ],
             [
              0.1111111111111111,
              "#46039f"
             ],
             [
              0.2222222222222222,
              "#7201a8"
             ],
             [
              0.3333333333333333,
              "#9c179e"
             ],
             [
              0.4444444444444444,
              "#bd3786"
             ],
             [
              0.5555555555555556,
              "#d8576b"
             ],
             [
              0.6666666666666666,
              "#ed7953"
             ],
             [
              0.7777777777777778,
              "#fb9f3a"
             ],
             [
              0.8888888888888888,
              "#fdca26"
             ],
             [
              1,
              "#f0f921"
             ]
            ],
            "type": "contour"
           }
          ],
          "contourcarpet": [
           {
            "colorbar": {
             "outlinewidth": 0,
             "ticks": ""
            },
            "type": "contourcarpet"
           }
          ],
          "heatmap": [
           {
            "colorbar": {
             "outlinewidth": 0,
             "ticks": ""
            },
            "colorscale": [
             [
              0,
              "#0d0887"
             ],
             [
              0.1111111111111111,
              "#46039f"
             ],
             [
              0.2222222222222222,
              "#7201a8"
             ],
             [
              0.3333333333333333,
              "#9c179e"
             ],
             [
              0.4444444444444444,
              "#bd3786"
             ],
             [
              0.5555555555555556,
              "#d8576b"
             ],
             [
              0.6666666666666666,
              "#ed7953"
             ],
             [
              0.7777777777777778,
              "#fb9f3a"
             ],
             [
              0.8888888888888888,
              "#fdca26"
             ],
             [
              1,
              "#f0f921"
             ]
            ],
            "type": "heatmap"
           }
          ],
          "histogram": [
           {
            "marker": {
             "pattern": {
              "fillmode": "overlay",
              "size": 10,
              "solidity": 0.2
             }
            },
            "type": "histogram"
           }
          ],
          "histogram2d": [
           {
            "colorbar": {
             "outlinewidth": 0,
             "ticks": ""
            },
            "colorscale": [
             [
              0,
              "#0d0887"
             ],
             [
              0.1111111111111111,
              "#46039f"
             ],
             [
              0.2222222222222222,
              "#7201a8"
             ],
             [
              0.3333333333333333,
              "#9c179e"
             ],
             [
              0.4444444444444444,
              "#bd3786"
             ],
             [
              0.5555555555555556,
              "#d8576b"
             ],
             [
              0.6666666666666666,
              "#ed7953"
             ],
             [
              0.7777777777777778,
              "#fb9f3a"
             ],
             [
              0.8888888888888888,
              "#fdca26"
             ],
             [
              1,
              "#f0f921"
             ]
            ],
            "type": "histogram2d"
           }
          ],
          "histogram2dcontour": [
           {
            "colorbar": {
             "outlinewidth": 0,
             "ticks": ""
            },
            "colorscale": [
             [
              0,
              "#0d0887"
             ],
             [
              0.1111111111111111,
              "#46039f"
             ],
             [
              0.2222222222222222,
              "#7201a8"
             ],
             [
              0.3333333333333333,
              "#9c179e"
             ],
             [
              0.4444444444444444,
              "#bd3786"
             ],
             [
              0.5555555555555556,
              "#d8576b"
             ],
             [
              0.6666666666666666,
              "#ed7953"
             ],
             [
              0.7777777777777778,
              "#fb9f3a"
             ],
             [
              0.8888888888888888,
              "#fdca26"
             ],
             [
              1,
              "#f0f921"
             ]
            ],
            "type": "histogram2dcontour"
           }
          ],
          "mesh3d": [
           {
            "colorbar": {
             "outlinewidth": 0,
             "ticks": ""
            },
            "type": "mesh3d"
           }
          ],
          "parcoords": [
           {
            "line": {
             "colorbar": {
              "outlinewidth": 0,
              "ticks": ""
             }
            },
            "type": "parcoords"
           }
          ],
          "pie": [
           {
            "automargin": true,
            "type": "pie"
           }
          ],
          "scatter": [
           {
            "fillpattern": {
             "fillmode": "overlay",
             "size": 10,
             "solidity": 0.2
            },
            "type": "scatter"
           }
          ],
          "scatter3d": [
           {
            "line": {
             "colorbar": {
              "outlinewidth": 0,
              "ticks": ""
             }
            },
            "marker": {
             "colorbar": {
              "outlinewidth": 0,
              "ticks": ""
             }
            },
            "type": "scatter3d"
           }
          ],
          "scattercarpet": [
           {
            "marker": {
             "colorbar": {
              "outlinewidth": 0,
              "ticks": ""
             }
            },
            "type": "scattercarpet"
           }
          ],
          "scattergeo": [
           {
            "marker": {
             "colorbar": {
              "outlinewidth": 0,
              "ticks": ""
             }
            },
            "type": "scattergeo"
           }
          ],
          "scattergl": [
           {
            "marker": {
             "colorbar": {
              "outlinewidth": 0,
              "ticks": ""
             }
            },
            "type": "scattergl"
           }
          ],
          "scattermap": [
           {
            "marker": {
             "colorbar": {
              "outlinewidth": 0,
              "ticks": ""
             }
            },
            "type": "scattermap"
           }
          ],
          "scattermapbox": [
           {
            "marker": {
             "colorbar": {
              "outlinewidth": 0,
              "ticks": ""
             }
            },
            "type": "scattermapbox"
           }
          ],
          "scatterpolar": [
           {
            "marker": {
             "colorbar": {
              "outlinewidth": 0,
              "ticks": ""
             }
            },
            "type": "scatterpolar"
           }
          ],
          "scatterpolargl": [
           {
            "marker": {
             "colorbar": {
              "outlinewidth": 0,
              "ticks": ""
             }
            },
            "type": "scatterpolargl"
           }
          ],
          "scatterternary": [
           {
            "marker": {
             "colorbar": {
              "outlinewidth": 0,
              "ticks": ""
             }
            },
            "type": "scatterternary"
           }
          ],
          "surface": [
           {
            "colorbar": {
             "outlinewidth": 0,
             "ticks": ""
            },
            "colorscale": [
             [
              0,
              "#0d0887"
             ],
             [
              0.1111111111111111,
              "#46039f"
             ],
             [
              0.2222222222222222,
              "#7201a8"
             ],
             [
              0.3333333333333333,
              "#9c179e"
             ],
             [
              0.4444444444444444,
              "#bd3786"
             ],
             [
              0.5555555555555556,
              "#d8576b"
             ],
             [
              0.6666666666666666,
              "#ed7953"
             ],
             [
              0.7777777777777778,
              "#fb9f3a"
             ],
             [
              0.8888888888888888,
              "#fdca26"
             ],
             [
              1,
              "#f0f921"
             ]
            ],
            "type": "surface"
           }
          ],
          "table": [
           {
            "cells": {
             "fill": {
              "color": "#EBF0F8"
             },
             "line": {
              "color": "white"
             }
            },
            "header": {
             "fill": {
              "color": "#C8D4E3"
             },
             "line": {
              "color": "white"
             }
            },
            "type": "table"
           }
          ]
         },
         "layout": {
          "annotationdefaults": {
           "arrowcolor": "#2a3f5f",
           "arrowhead": 0,
           "arrowwidth": 1
          },
          "autotypenumbers": "strict",
          "coloraxis": {
           "colorbar": {
            "outlinewidth": 0,
            "ticks": ""
           }
          },
          "colorscale": {
           "diverging": [
            [
             0,
             "#8e0152"
            ],
            [
             0.1,
             "#c51b7d"
            ],
            [
             0.2,
             "#de77ae"
            ],
            [
             0.3,
             "#f1b6da"
            ],
            [
             0.4,
             "#fde0ef"
            ],
            [
             0.5,
             "#f7f7f7"
            ],
            [
             0.6,
             "#e6f5d0"
            ],
            [
             0.7,
             "#b8e186"
            ],
            [
             0.8,
             "#7fbc41"
            ],
            [
             0.9,
             "#4d9221"
            ],
            [
             1,
             "#276419"
            ]
           ],
           "sequential": [
            [
             0,
             "#0d0887"
            ],
            [
             0.1111111111111111,
             "#46039f"
            ],
            [
             0.2222222222222222,
             "#7201a8"
            ],
            [
             0.3333333333333333,
             "#9c179e"
            ],
            [
             0.4444444444444444,
             "#bd3786"
            ],
            [
             0.5555555555555556,
             "#d8576b"
            ],
            [
             0.6666666666666666,
             "#ed7953"
            ],
            [
             0.7777777777777778,
             "#fb9f3a"
            ],
            [
             0.8888888888888888,
             "#fdca26"
            ],
            [
             1,
             "#f0f921"
            ]
           ],
           "sequentialminus": [
            [
             0,
             "#0d0887"
            ],
            [
             0.1111111111111111,
             "#46039f"
            ],
            [
             0.2222222222222222,
             "#7201a8"
            ],
            [
             0.3333333333333333,
             "#9c179e"
            ],
            [
             0.4444444444444444,
             "#bd3786"
            ],
            [
             0.5555555555555556,
             "#d8576b"
            ],
            [
             0.6666666666666666,
             "#ed7953"
            ],
            [
             0.7777777777777778,
             "#fb9f3a"
            ],
            [
             0.8888888888888888,
             "#fdca26"
            ],
            [
             1,
             "#f0f921"
            ]
           ]
          },
          "colorway": [
           "#636efa",
           "#EF553B",
           "#00cc96",
           "#ab63fa",
           "#FFA15A",
           "#19d3f3",
           "#FF6692",
           "#B6E880",
           "#FF97FF",
           "#FECB52"
          ],
          "font": {
           "color": "#2a3f5f"
          },
          "geo": {
           "bgcolor": "white",
           "lakecolor": "white",
           "landcolor": "#E5ECF6",
           "showlakes": true,
           "showland": true,
           "subunitcolor": "white"
          },
          "hoverlabel": {
           "align": "left"
          },
          "hovermode": "closest",
          "mapbox": {
           "style": "light"
          },
          "paper_bgcolor": "white",
          "plot_bgcolor": "#E5ECF6",
          "polar": {
           "angularaxis": {
            "gridcolor": "white",
            "linecolor": "white",
            "ticks": ""
           },
           "bgcolor": "#E5ECF6",
           "radialaxis": {
            "gridcolor": "white",
            "linecolor": "white",
            "ticks": ""
           }
          },
          "scene": {
           "xaxis": {
            "backgroundcolor": "#E5ECF6",
            "gridcolor": "white",
            "gridwidth": 2,
            "linecolor": "white",
            "showbackground": true,
            "ticks": "",
            "zerolinecolor": "white"
           },
           "yaxis": {
            "backgroundcolor": "#E5ECF6",
            "gridcolor": "white",
            "gridwidth": 2,
            "linecolor": "white",
            "showbackground": true,
            "ticks": "",
            "zerolinecolor": "white"
           },
           "zaxis": {
            "backgroundcolor": "#E5ECF6",
            "gridcolor": "white",
            "gridwidth": 2,
            "linecolor": "white",
            "showbackground": true,
            "ticks": "",
            "zerolinecolor": "white"
           }
          },
          "shapedefaults": {
           "line": {
            "color": "#2a3f5f"
           }
          },
          "ternary": {
           "aaxis": {
            "gridcolor": "white",
            "linecolor": "white",
            "ticks": ""
           },
           "baxis": {
            "gridcolor": "white",
            "linecolor": "white",
            "ticks": ""
           },
           "bgcolor": "#E5ECF6",
           "caxis": {
            "gridcolor": "white",
            "linecolor": "white",
            "ticks": ""
           }
          },
          "title": {
           "x": 0.05
          },
          "xaxis": {
           "automargin": true,
           "gridcolor": "white",
           "linecolor": "white",
           "ticks": "",
           "title": {
            "standoff": 15
           },
           "zerolinecolor": "white",
           "zerolinewidth": 2
          },
          "yaxis": {
           "automargin": true,
           "gridcolor": "white",
           "linecolor": "white",
           "ticks": "",
           "title": {
            "standoff": 15
           },
           "zerolinecolor": "white",
           "zerolinewidth": 2
          }
         }
        },
        "title": {
         "text": "Red Side vs Blue Side"
        }
       }
      }
     },
     "metadata": {},
     "output_type": "display_data"
    }
   ],
   "source": [
    "winner_counts = matches['winner'].map({ 0: 'Blue', 1: 'Red' }).value_counts()\n",
    "\n",
    "plot_df = pd.DataFrame({ 'winner': winner_counts.index, 'count': winner_counts.values })\n",
    "\n",
    "fig = px.pie(plot_df, values='count', names='winner', title='Red Side vs Blue Side')\n",
    "fig.show()"
   ]
  },
  {
   "cell_type": "markdown",
   "metadata": {},
   "source": [
    "# Comebacks By Side"
   ]
  },
  {
   "cell_type": "code",
   "execution_count": null,
   "metadata": {},
   "outputs": [],
   "source": [
    "red_comebacks = matches[(matches['winner'] == 1) & (matches['goldDifference'] > 1000)]\n",
    "blue_comebacks = matches[(matches['winner'] == 0) & (matches['goldDifference'] < -1000)]\n",
    "\n",
    "\n"
   ]
  },
  {
   "cell_type": "code",
   "execution_count": null,
   "metadata": {},
   "outputs": [
    {
     "data": {
      "application/vnd.plotly.v1+json": {
       "config": {
        "plotlyServerURL": "https://plot.ly"
       },
       "data": [
        {
         "hovertemplate": "winner=1<br>goldDifference=%{x}<br>gameDurationSeconds=%{y}<extra></extra>",
         "legendgroup": "1",
         "line": {
          "color": "#636efa",
          "dash": "solid"
         },
         "marker": {
          "symbol": "circle"
         },
         "mode": "lines",
         "name": "1",
         "showlegend": true,
         "type": "scattergl",
         "x": {
          "bdata": "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",
          "dtype": "i2"
         },
         "xaxis": "x",
         "y": {
          "bdata": "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",
          "dtype": "i2"
         },
         "yaxis": "y"
        },
        {
         "hovertemplate": "winner=0<br>goldDifference=%{x}<br>gameDurationSeconds=%{y}<extra></extra>",
         "legendgroup": "0",
         "line": {
          "color": "#EF553B",
          "dash": "solid"
         },
         "marker": {
          "symbol": "circle"
         },
         "mode": "lines",
         "name": "0",
         "showlegend": true,
         "type": "scattergl",
         "x": {
          "bdata": "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",
          "dtype": "i2"
         },
         "xaxis": "x",
         "y": {
          "bdata": "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",
          "dtype": "i2"
         },
         "yaxis": "y"
        }
       ],
       "layout": {
        "legend": {
         "title": {
          "text": "winner"
         },
         "tracegroupgap": 0
        },
        "margin": {
         "t": 60
        },
        "template": {
         "data": {
          "bar": [
           {
            "error_x": {
             "color": "#2a3f5f"
            },
            "error_y": {
             "color": "#2a3f5f"
            },
            "marker": {
             "line": {
              "color": "#E5ECF6",
              "width": 0.5
             },
             "pattern": {
              "fillmode": "overlay",
              "size": 10,
              "solidity": 0.2
             }
            },
            "type": "bar"
           }
          ],
          "barpolar": [
           {
            "marker": {
             "line": {
              "color": "#E5ECF6",
              "width": 0.5
             },
             "pattern": {
              "fillmode": "overlay",
              "size": 10,
              "solidity": 0.2
             }
            },
            "type": "barpolar"
           }
          ],
          "carpet": [
           {
            "aaxis": {
             "endlinecolor": "#2a3f5f",
             "gridcolor": "white",
             "linecolor": "white",
             "minorgridcolor": "white",
             "startlinecolor": "#2a3f5f"
            },
            "baxis": {
             "endlinecolor": "#2a3f5f",
             "gridcolor": "white",
             "linecolor": "white",
             "minorgridcolor": "white",
             "startlinecolor": "#2a3f5f"
            },
            "type": "carpet"
           }
          ],
          "choropleth": [
           {
            "colorbar": {
             "outlinewidth": 0,
             "ticks": ""
            },
            "type": "choropleth"
           }
          ],
          "contour": [
           {
            "colorbar": {
             "outlinewidth": 0,
             "ticks": ""
            },
            "colorscale": [
             [
              0,
              "#0d0887"
             ],
             [
              0.1111111111111111,
              "#46039f"
             ],
             [
              0.2222222222222222,
              "#7201a8"
             ],
             [
              0.3333333333333333,
              "#9c179e"
             ],
             [
              0.4444444444444444,
              "#bd3786"
             ],
             [
              0.5555555555555556,
              "#d8576b"
             ],
             [
              0.6666666666666666,
              "#ed7953"
             ],
             [
              0.7777777777777778,
              "#fb9f3a"
             ],
             [
              0.8888888888888888,
              "#fdca26"
             ],
             [
              1,
              "#f0f921"
             ]
            ],
            "type": "contour"
           }
          ],
          "contourcarpet": [
           {
            "colorbar": {
             "outlinewidth": 0,
             "ticks": ""
            },
            "type": "contourcarpet"
           }
          ],
          "heatmap": [
           {
            "colorbar": {
             "outlinewidth": 0,
             "ticks": ""
            },
            "colorscale": [
             [
              0,
              "#0d0887"
             ],
             [
              0.1111111111111111,
              "#46039f"
             ],
             [
              0.2222222222222222,
              "#7201a8"
             ],
             [
              0.3333333333333333,
              "#9c179e"
             ],
             [
              0.4444444444444444,
              "#bd3786"
             ],
             [
              0.5555555555555556,
              "#d8576b"
             ],
             [
              0.6666666666666666,
              "#ed7953"
             ],
             [
              0.7777777777777778,
              "#fb9f3a"
             ],
             [
              0.8888888888888888,
              "#fdca26"
             ],
             [
              1,
              "#f0f921"
             ]
            ],
            "type": "heatmap"
           }
          ],
          "histogram": [
           {
            "marker": {
             "pattern": {
              "fillmode": "overlay",
              "size": 10,
              "solidity": 0.2
             }
            },
            "type": "histogram"
           }
          ],
          "histogram2d": [
           {
            "colorbar": {
             "outlinewidth": 0,
             "ticks": ""
            },
            "colorscale": [
             [
              0,
              "#0d0887"
             ],
             [
              0.1111111111111111,
              "#46039f"
             ],
             [
              0.2222222222222222,
              "#7201a8"
             ],
             [
              0.3333333333333333,
              "#9c179e"
             ],
             [
              0.4444444444444444,
              "#bd3786"
             ],
             [
              0.5555555555555556,
              "#d8576b"
             ],
             [
              0.6666666666666666,
              "#ed7953"
             ],
             [
              0.7777777777777778,
              "#fb9f3a"
             ],
             [
              0.8888888888888888,
              "#fdca26"
             ],
             [
              1,
              "#f0f921"
             ]
            ],
            "type": "histogram2d"
           }
          ],
          "histogram2dcontour": [
           {
            "colorbar": {
             "outlinewidth": 0,
             "ticks": ""
            },
            "colorscale": [
             [
              0,
              "#0d0887"
             ],
             [
              0.1111111111111111,
              "#46039f"
             ],
             [
              0.2222222222222222,
              "#7201a8"
             ],
             [
              0.3333333333333333,
              "#9c179e"
             ],
             [
              0.4444444444444444,
              "#bd3786"
             ],
             [
              0.5555555555555556,
              "#d8576b"
             ],
             [
              0.6666666666666666,
              "#ed7953"
             ],
             [
              0.7777777777777778,
              "#fb9f3a"
             ],
             [
              0.8888888888888888,
              "#fdca26"
             ],
             [
              1,
              "#f0f921"
             ]
            ],
            "type": "histogram2dcontour"
           }
          ],
          "mesh3d": [
           {
            "colorbar": {
             "outlinewidth": 0,
             "ticks": ""
            },
            "type": "mesh3d"
           }
          ],
          "parcoords": [
           {
            "line": {
             "colorbar": {
              "outlinewidth": 0,
              "ticks": ""
             }
            },
            "type": "parcoords"
           }
          ],
          "pie": [
           {
            "automargin": true,
            "type": "pie"
           }
          ],
          "scatter": [
           {
            "fillpattern": {
             "fillmode": "overlay",
             "size": 10,
             "solidity": 0.2
            },
            "type": "scatter"
           }
          ],
          "scatter3d": [
           {
            "line": {
             "colorbar": {
              "outlinewidth": 0,
              "ticks": ""
             }
            },
            "marker": {
             "colorbar": {
              "outlinewidth": 0,
              "ticks": ""
             }
            },
            "type": "scatter3d"
           }
          ],
          "scattercarpet": [
           {
            "marker": {
             "colorbar": {
              "outlinewidth": 0,
              "ticks": ""
             }
            },
            "type": "scattercarpet"
           }
          ],
          "scattergeo": [
           {
            "marker": {
             "colorbar": {
              "outlinewidth": 0,
              "ticks": ""
             }
            },
            "type": "scattergeo"
           }
          ],
          "scattergl": [
           {
            "marker": {
             "colorbar": {
              "outlinewidth": 0,
              "ticks": ""
             }
            },
            "type": "scattergl"
           }
          ],
          "scattermap": [
           {
            "marker": {
             "colorbar": {
              "outlinewidth": 0,
              "ticks": ""
             }
            },
            "type": "scattermap"
           }
          ],
          "scattermapbox": [
           {
            "marker": {
             "colorbar": {
              "outlinewidth": 0,
              "ticks": ""
             }
            },
            "type": "scattermapbox"
           }
          ],
          "scatterpolar": [
           {
            "marker": {
             "colorbar": {
              "outlinewidth": 0,
              "ticks": ""
             }
            },
            "type": "scatterpolar"
           }
          ],
          "scatterpolargl": [
           {
            "marker": {
             "colorbar": {
              "outlinewidth": 0,
              "ticks": ""
             }
            },
            "type": "scatterpolargl"
           }
          ],
          "scatterternary": [
           {
            "marker": {
             "colorbar": {
              "outlinewidth": 0,
              "ticks": ""
             }
            },
            "type": "scatterternary"
           }
          ],
          "surface": [
           {
            "colorbar": {
             "outlinewidth": 0,
             "ticks": ""
            },
            "colorscale": [
             [
              0,
              "#0d0887"
             ],
             [
              0.1111111111111111,
              "#46039f"
             ],
             [
              0.2222222222222222,
              "#7201a8"
             ],
             [
              0.3333333333333333,
              "#9c179e"
             ],
             [
              0.4444444444444444,
              "#bd3786"
             ],
             [
              0.5555555555555556,
              "#d8576b"
             ],
             [
              0.6666666666666666,
              "#ed7953"
             ],
             [
              0.7777777777777778,
              "#fb9f3a"
             ],
             [
              0.8888888888888888,
              "#fdca26"
             ],
             [
              1,
              "#f0f921"
             ]
            ],
            "type": "surface"
           }
          ],
          "table": [
           {
            "cells": {
             "fill": {
              "color": "#EBF0F8"
             },
             "line": {
              "color": "white"
             }
            },
            "header": {
             "fill": {
              "color": "#C8D4E3"
             },
             "line": {
              "color": "white"
             }
            },
            "type": "table"
           }
          ]
         },
         "layout": {
          "annotationdefaults": {
           "arrowcolor": "#2a3f5f",
           "arrowhead": 0,
           "arrowwidth": 1
          },
          "autotypenumbers": "strict",
          "coloraxis": {
           "colorbar": {
            "outlinewidth": 0,
            "ticks": ""
           }
          },
          "colorscale": {
           "diverging": [
            [
             0,
             "#8e0152"
            ],
            [
             0.1,
             "#c51b7d"
            ],
            [
             0.2,
             "#de77ae"
            ],
            [
             0.3,
             "#f1b6da"
            ],
            [
             0.4,
             "#fde0ef"
            ],
            [
             0.5,
             "#f7f7f7"
            ],
            [
             0.6,
             "#e6f5d0"
            ],
            [
             0.7,
             "#b8e186"
            ],
            [
             0.8,
             "#7fbc41"
            ],
            [
             0.9,
             "#4d9221"
            ],
            [
             1,
             "#276419"
            ]
           ],
           "sequential": [
            [
             0,
             "#0d0887"
            ],
            [
             0.1111111111111111,
             "#46039f"
            ],
            [
             0.2222222222222222,
             "#7201a8"
            ],
            [
             0.3333333333333333,
             "#9c179e"
            ],
            [
             0.4444444444444444,
             "#bd3786"
            ],
            [
             0.5555555555555556,
             "#d8576b"
            ],
            [
             0.6666666666666666,
             "#ed7953"
            ],
            [
             0.7777777777777778,
             "#fb9f3a"
            ],
            [
             0.8888888888888888,
             "#fdca26"
            ],
            [
             1,
             "#f0f921"
            ]
           ],
           "sequentialminus": [
            [
             0,
             "#0d0887"
            ],
            [
             0.1111111111111111,
             "#46039f"
            ],
            [
             0.2222222222222222,
             "#7201a8"
            ],
            [
             0.3333333333333333,
             "#9c179e"
            ],
            [
             0.4444444444444444,
             "#bd3786"
            ],
            [
             0.5555555555555556,
             "#d8576b"
            ],
            [
             0.6666666666666666,
             "#ed7953"
            ],
            [
             0.7777777777777778,
             "#fb9f3a"
            ],
            [
             0.8888888888888888,
             "#fdca26"
            ],
            [
             1,
             "#f0f921"
            ]
           ]
          },
          "colorway": [
           "#636efa",
           "#EF553B",
           "#00cc96",
           "#ab63fa",
           "#FFA15A",
           "#19d3f3",
           "#FF6692",
           "#B6E880",
           "#FF97FF",
           "#FECB52"
          ],
          "font": {
           "color": "#2a3f5f"
          },
          "geo": {
           "bgcolor": "white",
           "lakecolor": "white",
           "landcolor": "#E5ECF6",
           "showlakes": true,
           "showland": true,
           "subunitcolor": "white"
          },
          "hoverlabel": {
           "align": "left"
          },
          "hovermode": "closest",
          "mapbox": {
           "style": "light"
          },
          "paper_bgcolor": "white",
          "plot_bgcolor": "#E5ECF6",
          "polar": {
           "angularaxis": {
            "gridcolor": "white",
            "linecolor": "white",
            "ticks": ""
           },
           "bgcolor": "#E5ECF6",
           "radialaxis": {
            "gridcolor": "white",
            "linecolor": "white",
            "ticks": ""
           }
          },
          "scene": {
           "xaxis": {
            "backgroundcolor": "#E5ECF6",
            "gridcolor": "white",
            "gridwidth": 2,
            "linecolor": "white",
            "showbackground": true,
            "ticks": "",
            "zerolinecolor": "white"
           },
           "yaxis": {
            "backgroundcolor": "#E5ECF6",
            "gridcolor": "white",
            "gridwidth": 2,
            "linecolor": "white",
            "showbackground": true,
            "ticks": "",
            "zerolinecolor": "white"
           },
           "zaxis": {
            "backgroundcolor": "#E5ECF6",
            "gridcolor": "white",
            "gridwidth": 2,
            "linecolor": "white",
            "showbackground": true,
            "ticks": "",
            "zerolinecolor": "white"
           }
          },
          "shapedefaults": {
           "line": {
            "color": "#2a3f5f"
           }
          },
          "ternary": {
           "aaxis": {
            "gridcolor": "white",
            "linecolor": "white",
            "ticks": ""
           },
           "baxis": {
            "gridcolor": "white",
            "linecolor": "white",
            "ticks": ""
           },
           "bgcolor": "#E5ECF6",
           "caxis": {
            "gridcolor": "white",
            "linecolor": "white",
            "ticks": ""
           }
          },
          "title": {
           "x": 0.05
          },
          "xaxis": {
           "automargin": true,
           "gridcolor": "white",
           "linecolor": "white",
           "ticks": "",
           "title": {
            "standoff": 15
           },
           "zerolinecolor": "white",
           "zerolinewidth": 2
          },
          "yaxis": {
           "automargin": true,
           "gridcolor": "white",
           "linecolor": "white",
           "ticks": "",
           "title": {
            "standoff": 15
           },
           "zerolinecolor": "white",
           "zerolinewidth": 2
          }
         }
        },
        "xaxis": {
         "anchor": "y",
         "domain": [
          0,
          1
         ],
         "title": {
          "text": "goldDifference"
         }
        },
        "yaxis": {
         "anchor": "x",
         "domain": [
          0,
          1
         ],
         "title": {
          "text": "gameDurationSeconds"
         }
        }
       }
      }
     },
     "metadata": {},
     "output_type": "display_data"
    }
   ],
   "source": [
    "fig = px.line(red_comebacks, x=\"goldDifference\", y=\"gameDurationSeconds\", color='winner')\n",
    "fig.show()"
   ]
  },
  {
   "cell_type": "code",
   "execution_count": 7,
   "metadata": {},
   "outputs": [
    {
     "data": {
      "text/html": [
       "<div>\n",
       "<style scoped>\n",
       "    .dataframe tbody tr th:only-of-type {\n",
       "        vertical-align: middle;\n",
       "    }\n",
       "\n",
       "    .dataframe tbody tr th {\n",
       "        vertical-align: top;\n",
       "    }\n",
       "\n",
       "    .dataframe thead th {\n",
       "        text-align: right;\n",
       "    }\n",
       "</style>\n",
       "<table border=\"1\" class=\"dataframe\">\n",
       "  <thead>\n",
       "    <tr style=\"text-align: right;\">\n",
       "      <th></th>\n",
       "      <th>Unnamed: 0</th>\n",
       "      <th>minute</th>\n",
       "      <th>blue</th>\n",
       "      <th>red</th>\n",
       "    </tr>\n",
       "  </thead>\n",
       "  <tbody>\n",
       "    <tr>\n",
       "      <th>0</th>\n",
       "      <td>0</td>\n",
       "      <td>0</td>\n",
       "      <td>79.0</td>\n",
       "      <td>21.0</td>\n",
       "    </tr>\n",
       "    <tr>\n",
       "      <th>1</th>\n",
       "      <td>0</td>\n",
       "      <td>1</td>\n",
       "      <td>89.0</td>\n",
       "      <td>11.0</td>\n",
       "    </tr>\n",
       "    <tr>\n",
       "      <th>2</th>\n",
       "      <td>0</td>\n",
       "      <td>2</td>\n",
       "      <td>90.0</td>\n",
       "      <td>10.0</td>\n",
       "    </tr>\n",
       "    <tr>\n",
       "      <th>3</th>\n",
       "      <td>0</td>\n",
       "      <td>3</td>\n",
       "      <td>85.0</td>\n",
       "      <td>15.0</td>\n",
       "    </tr>\n",
       "    <tr>\n",
       "      <th>4</th>\n",
       "      <td>0</td>\n",
       "      <td>4</td>\n",
       "      <td>85.0</td>\n",
       "      <td>15.0</td>\n",
       "    </tr>\n",
       "  </tbody>\n",
       "</table>\n",
       "</div>"
      ],
      "text/plain": [
       "   Unnamed: 0  minute  blue   red\n",
       "0           0       0  79.0  21.0\n",
       "1           0       1  89.0  11.0\n",
       "2           0       2  90.0  10.0\n",
       "3           0       3  85.0  15.0\n",
       "4           0       4  85.0  15.0"
      ]
     },
     "execution_count": 7,
     "metadata": {},
     "output_type": "execute_result"
    }
   ],
   "source": [
    "game_result_df = pd.read_csv('./GameResult.csv')\n",
    "\n",
    "game_result_df.head()"
   ]
  },
  {
   "cell_type": "code",
   "execution_count": 8,
   "metadata": {},
   "outputs": [
    {
     "data": {
      "application/vnd.plotly.v1+json": {
       "config": {
        "plotlyServerURL": "https://plot.ly"
       },
       "data": [
        {
         "hovertemplate": "variable=blue<br>minute=%{x}<br>value=%{y}<extra></extra>",
         "legendgroup": "blue",
         "line": {
          "color": "#636efa",
          "dash": "solid"
         },
         "marker": {
          "symbol": "circle"
         },
         "mode": "lines",
         "name": "blue",
         "orientation": "v",
         "showlegend": true,
         "type": "scatter",
         "x": {
          "bdata": "AAECAwQFBgc=",
          "dtype": "i1"
         },
         "xaxis": "x",
         "y": {
          "bdata": "AAAAAADAU0AAAAAAAEBWQAAAAAAAgFZAAAAAAABAVUAAAAAAAEBVQAAAAAAAwFdAAAAAAADAV0AAAAAAAMBXQA==",
          "dtype": "f8"
         },
         "yaxis": "y"
        },
        {
         "hovertemplate": "variable=red<br>minute=%{x}<br>value=%{y}<extra></extra>",
         "legendgroup": "red",
         "line": {
          "color": "#EF553B",
          "dash": "solid"
         },
         "marker": {
          "symbol": "circle"
         },
         "mode": "lines",
         "name": "red",
         "orientation": "v",
         "showlegend": true,
         "type": "scatter",
         "x": {
          "bdata": "AAECAwQFBgc=",
          "dtype": "i1"
         },
         "xaxis": "x",
         "y": {
          "bdata": "AAAAAAAANUAAAAAAAAAmQAAAAAAAACRAAAAAAAAALkAAAAAAAAAuQAAAAAAAABRAAAAAAAAAFEAAAAAAAAAUQA==",
          "dtype": "f8"
         },
         "yaxis": "y"
        }
       ],
       "layout": {
        "legend": {
         "title": {
          "text": "variable"
         },
         "tracegroupgap": 0
        },
        "margin": {
         "t": 60
        },
        "template": {
         "data": {
          "bar": [
           {
            "error_x": {
             "color": "#2a3f5f"
            },
            "error_y": {
             "color": "#2a3f5f"
            },
            "marker": {
             "line": {
              "color": "#E5ECF6",
              "width": 0.5
             },
             "pattern": {
              "fillmode": "overlay",
              "size": 10,
              "solidity": 0.2
             }
            },
            "type": "bar"
           }
          ],
          "barpolar": [
           {
            "marker": {
             "line": {
              "color": "#E5ECF6",
              "width": 0.5
             },
             "pattern": {
              "fillmode": "overlay",
              "size": 10,
              "solidity": 0.2
             }
            },
            "type": "barpolar"
           }
          ],
          "carpet": [
           {
            "aaxis": {
             "endlinecolor": "#2a3f5f",
             "gridcolor": "white",
             "linecolor": "white",
             "minorgridcolor": "white",
             "startlinecolor": "#2a3f5f"
            },
            "baxis": {
             "endlinecolor": "#2a3f5f",
             "gridcolor": "white",
             "linecolor": "white",
             "minorgridcolor": "white",
             "startlinecolor": "#2a3f5f"
            },
            "type": "carpet"
           }
          ],
          "choropleth": [
           {
            "colorbar": {
             "outlinewidth": 0,
             "ticks": ""
            },
            "type": "choropleth"
           }
          ],
          "contour": [
           {
            "colorbar": {
             "outlinewidth": 0,
             "ticks": ""
            },
            "colorscale": [
             [
              0,
              "#0d0887"
             ],
             [
              0.1111111111111111,
              "#46039f"
             ],
             [
              0.2222222222222222,
              "#7201a8"
             ],
             [
              0.3333333333333333,
              "#9c179e"
             ],
             [
              0.4444444444444444,
              "#bd3786"
             ],
             [
              0.5555555555555556,
              "#d8576b"
             ],
             [
              0.6666666666666666,
              "#ed7953"
             ],
             [
              0.7777777777777778,
              "#fb9f3a"
             ],
             [
              0.8888888888888888,
              "#fdca26"
             ],
             [
              1,
              "#f0f921"
             ]
            ],
            "type": "contour"
           }
          ],
          "contourcarpet": [
           {
            "colorbar": {
             "outlinewidth": 0,
             "ticks": ""
            },
            "type": "contourcarpet"
           }
          ],
          "heatmap": [
           {
            "colorbar": {
             "outlinewidth": 0,
             "ticks": ""
            },
            "colorscale": [
             [
              0,
              "#0d0887"
             ],
             [
              0.1111111111111111,
              "#46039f"
             ],
             [
              0.2222222222222222,
              "#7201a8"
             ],
             [
              0.3333333333333333,
              "#9c179e"
             ],
             [
              0.4444444444444444,
              "#bd3786"
             ],
             [
              0.5555555555555556,
              "#d8576b"
             ],
             [
              0.6666666666666666,
              "#ed7953"
             ],
             [
              0.7777777777777778,
              "#fb9f3a"
             ],
             [
              0.8888888888888888,
              "#fdca26"
             ],
             [
              1,
              "#f0f921"
             ]
            ],
            "type": "heatmap"
           }
          ],
          "histogram": [
           {
            "marker": {
             "pattern": {
              "fillmode": "overlay",
              "size": 10,
              "solidity": 0.2
             }
            },
            "type": "histogram"
           }
          ],
          "histogram2d": [
           {
            "colorbar": {
             "outlinewidth": 0,
             "ticks": ""
            },
            "colorscale": [
             [
              0,
              "#0d0887"
             ],
             [
              0.1111111111111111,
              "#46039f"
             ],
             [
              0.2222222222222222,
              "#7201a8"
             ],
             [
              0.3333333333333333,
              "#9c179e"
             ],
             [
              0.4444444444444444,
              "#bd3786"
             ],
             [
              0.5555555555555556,
              "#d8576b"
             ],
             [
              0.6666666666666666,
              "#ed7953"
             ],
             [
              0.7777777777777778,
              "#fb9f3a"
             ],
             [
              0.8888888888888888,
              "#fdca26"
             ],
             [
              1,
              "#f0f921"
             ]
            ],
            "type": "histogram2d"
           }
          ],
          "histogram2dcontour": [
           {
            "colorbar": {
             "outlinewidth": 0,
             "ticks": ""
            },
            "colorscale": [
             [
              0,
              "#0d0887"
             ],
             [
              0.1111111111111111,
              "#46039f"
             ],
             [
              0.2222222222222222,
              "#7201a8"
             ],
             [
              0.3333333333333333,
              "#9c179e"
             ],
             [
              0.4444444444444444,
              "#bd3786"
             ],
             [
              0.5555555555555556,
              "#d8576b"
             ],
             [
              0.6666666666666666,
              "#ed7953"
             ],
             [
              0.7777777777777778,
              "#fb9f3a"
             ],
             [
              0.8888888888888888,
              "#fdca26"
             ],
             [
              1,
              "#f0f921"
             ]
            ],
            "type": "histogram2dcontour"
           }
          ],
          "mesh3d": [
           {
            "colorbar": {
             "outlinewidth": 0,
             "ticks": ""
            },
            "type": "mesh3d"
           }
          ],
          "parcoords": [
           {
            "line": {
             "colorbar": {
              "outlinewidth": 0,
              "ticks": ""
             }
            },
            "type": "parcoords"
           }
          ],
          "pie": [
           {
            "automargin": true,
            "type": "pie"
           }
          ],
          "scatter": [
           {
            "fillpattern": {
             "fillmode": "overlay",
             "size": 10,
             "solidity": 0.2
            },
            "type": "scatter"
           }
          ],
          "scatter3d": [
           {
            "line": {
             "colorbar": {
              "outlinewidth": 0,
              "ticks": ""
             }
            },
            "marker": {
             "colorbar": {
              "outlinewidth": 0,
              "ticks": ""
             }
            },
            "type": "scatter3d"
           }
          ],
          "scattercarpet": [
           {
            "marker": {
             "colorbar": {
              "outlinewidth": 0,
              "ticks": ""
             }
            },
            "type": "scattercarpet"
           }
          ],
          "scattergeo": [
           {
            "marker": {
             "colorbar": {
              "outlinewidth": 0,
              "ticks": ""
             }
            },
            "type": "scattergeo"
           }
          ],
          "scattergl": [
           {
            "marker": {
             "colorbar": {
              "outlinewidth": 0,
              "ticks": ""
             }
            },
            "type": "scattergl"
           }
          ],
          "scattermap": [
           {
            "marker": {
             "colorbar": {
              "outlinewidth": 0,
              "ticks": ""
             }
            },
            "type": "scattermap"
           }
          ],
          "scattermapbox": [
           {
            "marker": {
             "colorbar": {
              "outlinewidth": 0,
              "ticks": ""
             }
            },
            "type": "scattermapbox"
           }
          ],
          "scatterpolar": [
           {
            "marker": {
             "colorbar": {
              "outlinewidth": 0,
              "ticks": ""
             }
            },
            "type": "scatterpolar"
           }
          ],
          "scatterpolargl": [
           {
            "marker": {
             "colorbar": {
              "outlinewidth": 0,
              "ticks": ""
             }
            },
            "type": "scatterpolargl"
           }
          ],
          "scatterternary": [
           {
            "marker": {
             "colorbar": {
              "outlinewidth": 0,
              "ticks": ""
             }
            },
            "type": "scatterternary"
           }
          ],
          "surface": [
           {
            "colorbar": {
             "outlinewidth": 0,
             "ticks": ""
            },
            "colorscale": [
             [
              0,
              "#0d0887"
             ],
             [
              0.1111111111111111,
              "#46039f"
             ],
             [
              0.2222222222222222,
              "#7201a8"
             ],
             [
              0.3333333333333333,
              "#9c179e"
             ],
             [
              0.4444444444444444,
              "#bd3786"
             ],
             [
              0.5555555555555556,
              "#d8576b"
             ],
             [
              0.6666666666666666,
              "#ed7953"
             ],
             [
              0.7777777777777778,
              "#fb9f3a"
             ],
             [
              0.8888888888888888,
              "#fdca26"
             ],
             [
              1,
              "#f0f921"
             ]
            ],
            "type": "surface"
           }
          ],
          "table": [
           {
            "cells": {
             "fill": {
              "color": "#EBF0F8"
             },
             "line": {
              "color": "white"
             }
            },
            "header": {
             "fill": {
              "color": "#C8D4E3"
             },
             "line": {
              "color": "white"
             }
            },
            "type": "table"
           }
          ]
         },
         "layout": {
          "annotationdefaults": {
           "arrowcolor": "#2a3f5f",
           "arrowhead": 0,
           "arrowwidth": 1
          },
          "autotypenumbers": "strict",
          "coloraxis": {
           "colorbar": {
            "outlinewidth": 0,
            "ticks": ""
           }
          },
          "colorscale": {
           "diverging": [
            [
             0,
             "#8e0152"
            ],
            [
             0.1,
             "#c51b7d"
            ],
            [
             0.2,
             "#de77ae"
            ],
            [
             0.3,
             "#f1b6da"
            ],
            [
             0.4,
             "#fde0ef"
            ],
            [
             0.5,
             "#f7f7f7"
            ],
            [
             0.6,
             "#e6f5d0"
            ],
            [
             0.7,
             "#b8e186"
            ],
            [
             0.8,
             "#7fbc41"
            ],
            [
             0.9,
             "#4d9221"
            ],
            [
             1,
             "#276419"
            ]
           ],
           "sequential": [
            [
             0,
             "#0d0887"
            ],
            [
             0.1111111111111111,
             "#46039f"
            ],
            [
             0.2222222222222222,
             "#7201a8"
            ],
            [
             0.3333333333333333,
             "#9c179e"
            ],
            [
             0.4444444444444444,
             "#bd3786"
            ],
            [
             0.5555555555555556,
             "#d8576b"
            ],
            [
             0.6666666666666666,
             "#ed7953"
            ],
            [
             0.7777777777777778,
             "#fb9f3a"
            ],
            [
             0.8888888888888888,
             "#fdca26"
            ],
            [
             1,
             "#f0f921"
            ]
           ],
           "sequentialminus": [
            [
             0,
             "#0d0887"
            ],
            [
             0.1111111111111111,
             "#46039f"
            ],
            [
             0.2222222222222222,
             "#7201a8"
            ],
            [
             0.3333333333333333,
             "#9c179e"
            ],
            [
             0.4444444444444444,
             "#bd3786"
            ],
            [
             0.5555555555555556,
             "#d8576b"
            ],
            [
             0.6666666666666666,
             "#ed7953"
            ],
            [
             0.7777777777777778,
             "#fb9f3a"
            ],
            [
             0.8888888888888888,
             "#fdca26"
            ],
            [
             1,
             "#f0f921"
            ]
           ]
          },
          "colorway": [
           "#636efa",
           "#EF553B",
           "#00cc96",
           "#ab63fa",
           "#FFA15A",
           "#19d3f3",
           "#FF6692",
           "#B6E880",
           "#FF97FF",
           "#FECB52"
          ],
          "font": {
           "color": "#2a3f5f"
          },
          "geo": {
           "bgcolor": "white",
           "lakecolor": "white",
           "landcolor": "#E5ECF6",
           "showlakes": true,
           "showland": true,
           "subunitcolor": "white"
          },
          "hoverlabel": {
           "align": "left"
          },
          "hovermode": "closest",
          "mapbox": {
           "style": "light"
          },
          "paper_bgcolor": "white",
          "plot_bgcolor": "#E5ECF6",
          "polar": {
           "angularaxis": {
            "gridcolor": "white",
            "linecolor": "white",
            "ticks": ""
           },
           "bgcolor": "#E5ECF6",
           "radialaxis": {
            "gridcolor": "white",
            "linecolor": "white",
            "ticks": ""
           }
          },
          "scene": {
           "xaxis": {
            "backgroundcolor": "#E5ECF6",
            "gridcolor": "white",
            "gridwidth": 2,
            "linecolor": "white",
            "showbackground": true,
            "ticks": "",
            "zerolinecolor": "white"
           },
           "yaxis": {
            "backgroundcolor": "#E5ECF6",
            "gridcolor": "white",
            "gridwidth": 2,
            "linecolor": "white",
            "showbackground": true,
            "ticks": "",
            "zerolinecolor": "white"
           },
           "zaxis": {
            "backgroundcolor": "#E5ECF6",
            "gridcolor": "white",
            "gridwidth": 2,
            "linecolor": "white",
            "showbackground": true,
            "ticks": "",
            "zerolinecolor": "white"
           }
          },
          "shapedefaults": {
           "line": {
            "color": "#2a3f5f"
           }
          },
          "ternary": {
           "aaxis": {
            "gridcolor": "white",
            "linecolor": "white",
            "ticks": ""
           },
           "baxis": {
            "gridcolor": "white",
            "linecolor": "white",
            "ticks": ""
           },
           "bgcolor": "#E5ECF6",
           "caxis": {
            "gridcolor": "white",
            "linecolor": "white",
            "ticks": ""
           }
          },
          "title": {
           "x": 0.05
          },
          "xaxis": {
           "automargin": true,
           "gridcolor": "white",
           "linecolor": "white",
           "ticks": "",
           "title": {
            "standoff": 15
           },
           "zerolinecolor": "white",
           "zerolinewidth": 2
          },
          "yaxis": {
           "automargin": true,
           "gridcolor": "white",
           "linecolor": "white",
           "ticks": "",
           "title": {
            "standoff": 15
           },
           "zerolinecolor": "white",
           "zerolinewidth": 2
          }
         }
        },
        "xaxis": {
         "anchor": "y",
         "domain": [
          0,
          1
         ],
         "title": {
          "text": "minute"
         }
        },
        "yaxis": {
         "anchor": "x",
         "domain": [
          0,
          1
         ],
         "title": {
          "text": "value"
         }
        }
       }
      }
     },
     "metadata": {},
     "output_type": "display_data"
    }
   ],
   "source": [
    "fig = px.line(game_result_df, x=\"minute\", y=['blue', 'red'])\n",
    "fig.show()"
   ]
  },
  {
   "cell_type": "code",
   "execution_count": 3,
   "metadata": {},
   "outputs": [
    {
     "data": {
      "text/html": [
       "<div>\n",
       "<style scoped>\n",
       "    .dataframe tbody tr th:only-of-type {\n",
       "        vertical-align: middle;\n",
       "    }\n",
       "\n",
       "    .dataframe tbody tr th {\n",
       "        vertical-align: top;\n",
       "    }\n",
       "\n",
       "    .dataframe thead th {\n",
       "        text-align: right;\n",
       "    }\n",
       "</style>\n",
       "<table border=\"1\" class=\"dataframe\">\n",
       "  <thead>\n",
       "    <tr style=\"text-align: right;\">\n",
       "      <th></th>\n",
       "      <th>country</th>\n",
       "      <th>continent</th>\n",
       "      <th>year</th>\n",
       "      <th>lifeExp</th>\n",
       "      <th>pop</th>\n",
       "      <th>gdpPercap</th>\n",
       "      <th>iso_alpha</th>\n",
       "      <th>iso_num</th>\n",
       "    </tr>\n",
       "  </thead>\n",
       "  <tbody>\n",
       "    <tr>\n",
       "      <th>60</th>\n",
       "      <td>Australia</td>\n",
       "      <td>Oceania</td>\n",
       "      <td>1952</td>\n",
       "      <td>69.12</td>\n",
       "      <td>8691212</td>\n",
       "      <td>10039.59564</td>\n",
       "      <td>AUS</td>\n",
       "      <td>36</td>\n",
       "    </tr>\n",
       "    <tr>\n",
       "      <th>61</th>\n",
       "      <td>Australia</td>\n",
       "      <td>Oceania</td>\n",
       "      <td>1957</td>\n",
       "      <td>70.33</td>\n",
       "      <td>9712569</td>\n",
       "      <td>10949.64959</td>\n",
       "      <td>AUS</td>\n",
       "      <td>36</td>\n",
       "    </tr>\n",
       "    <tr>\n",
       "      <th>62</th>\n",
       "      <td>Australia</td>\n",
       "      <td>Oceania</td>\n",
       "      <td>1962</td>\n",
       "      <td>70.93</td>\n",
       "      <td>10794968</td>\n",
       "      <td>12217.22686</td>\n",
       "      <td>AUS</td>\n",
       "      <td>36</td>\n",
       "    </tr>\n",
       "    <tr>\n",
       "      <th>63</th>\n",
       "      <td>Australia</td>\n",
       "      <td>Oceania</td>\n",
       "      <td>1967</td>\n",
       "      <td>71.10</td>\n",
       "      <td>11872264</td>\n",
       "      <td>14526.12465</td>\n",
       "      <td>AUS</td>\n",
       "      <td>36</td>\n",
       "    </tr>\n",
       "    <tr>\n",
       "      <th>64</th>\n",
       "      <td>Australia</td>\n",
       "      <td>Oceania</td>\n",
       "      <td>1972</td>\n",
       "      <td>71.93</td>\n",
       "      <td>13177000</td>\n",
       "      <td>16788.62948</td>\n",
       "      <td>AUS</td>\n",
       "      <td>36</td>\n",
       "    </tr>\n",
       "  </tbody>\n",
       "</table>\n",
       "</div>"
      ],
      "text/plain": [
       "      country continent  year  lifeExp       pop    gdpPercap iso_alpha  \\\n",
       "60  Australia   Oceania  1952    69.12   8691212  10039.59564       AUS   \n",
       "61  Australia   Oceania  1957    70.33   9712569  10949.64959       AUS   \n",
       "62  Australia   Oceania  1962    70.93  10794968  12217.22686       AUS   \n",
       "63  Australia   Oceania  1967    71.10  11872264  14526.12465       AUS   \n",
       "64  Australia   Oceania  1972    71.93  13177000  16788.62948       AUS   \n",
       "\n",
       "    iso_num  \n",
       "60       36  \n",
       "61       36  \n",
       "62       36  \n",
       "63       36  \n",
       "64       36  "
      ]
     },
     "execution_count": 3,
     "metadata": {},
     "output_type": "execute_result"
    }
   ],
   "source": [
    "import plotly.express as px\n",
    "\n",
    "df = px.data.gapminder().query(\"continent=='Oceania'\")\n",
    "\n",
    "df.head()\n"
   ]
  },
  {
   "cell_type": "code",
   "execution_count": 4,
   "metadata": {},
   "outputs": [
    {
     "data": {
      "application/vnd.plotly.v1+json": {
       "config": {
        "plotlyServerURL": "https://plot.ly"
       },
       "data": [
        {
         "hovertemplate": "country=Australia<br>year=%{x}<br>lifeExp=%{y}<extra></extra>",
         "legendgroup": "Australia",
         "line": {
          "color": "#636efa",
          "dash": "solid"
         },
         "marker": {
          "symbol": "circle"
         },
         "mode": "lines",
         "name": "Australia",
         "orientation": "v",
         "showlegend": true,
         "type": "scatter",
         "x": {
          "bdata": "oAelB6oHrwe0B7kHvgfDB8gHzQfSB9cH",
          "dtype": "i2"
         },
         "xaxis": "x",
         "y": {
          "bdata": "SOF6FK5HUUCF61G4HpVRQOxRuB6Fu1FAZmZmZmbGUUDsUbgehftRQI/C9ShcX1JAj8L1KFyvUkAUrkfhehRTQKRwPQrXY1NAhetRuB61U0BI4XoUrhdUQNejcD0KT1RA",
          "dtype": "f8"
         },
         "yaxis": "y"
        },
        {
         "hovertemplate": "country=New Zealand<br>year=%{x}<br>lifeExp=%{y}<extra></extra>",
         "legendgroup": "New Zealand",
         "line": {
          "color": "#EF553B",
          "dash": "solid"
         },
         "marker": {
          "symbol": "circle"
         },
         "mode": "lines",
         "name": "New Zealand",
         "orientation": "v",
         "showlegend": true,
         "type": "scatter",
         "x": {
          "bdata": "oAelB6oHrwe0B7kHvgfDB8gHzQfSB9cH",
          "dtype": "i2"
         },
         "xaxis": "x",
         "y": {
          "bdata": "KVyPwvVYUUBxPQrXo5BRQI/C9Shcz1FA4XoUrkfhUUApXI/C9fhRQK5H4XoUDlJA9ihcj8J1UkAUrkfhepRSQIXrUbgeFVNAMzMzMzNjU0DXo3A9CsdTQJMYBFYODVRA",
          "dtype": "f8"
         },
         "yaxis": "y"
        }
       ],
       "layout": {
        "legend": {
         "title": {
          "text": "country"
         },
         "tracegroupgap": 0
        },
        "margin": {
         "t": 60
        },
        "template": {
         "data": {
          "bar": [
           {
            "error_x": {
             "color": "#2a3f5f"
            },
            "error_y": {
             "color": "#2a3f5f"
            },
            "marker": {
             "line": {
              "color": "#E5ECF6",
              "width": 0.5
             },
             "pattern": {
              "fillmode": "overlay",
              "size": 10,
              "solidity": 0.2
             }
            },
            "type": "bar"
           }
          ],
          "barpolar": [
           {
            "marker": {
             "line": {
              "color": "#E5ECF6",
              "width": 0.5
             },
             "pattern": {
              "fillmode": "overlay",
              "size": 10,
              "solidity": 0.2
             }
            },
            "type": "barpolar"
           }
          ],
          "carpet": [
           {
            "aaxis": {
             "endlinecolor": "#2a3f5f",
             "gridcolor": "white",
             "linecolor": "white",
             "minorgridcolor": "white",
             "startlinecolor": "#2a3f5f"
            },
            "baxis": {
             "endlinecolor": "#2a3f5f",
             "gridcolor": "white",
             "linecolor": "white",
             "minorgridcolor": "white",
             "startlinecolor": "#2a3f5f"
            },
            "type": "carpet"
           }
          ],
          "choropleth": [
           {
            "colorbar": {
             "outlinewidth": 0,
             "ticks": ""
            },
            "type": "choropleth"
           }
          ],
          "contour": [
           {
            "colorbar": {
             "outlinewidth": 0,
             "ticks": ""
            },
            "colorscale": [
             [
              0,
              "#0d0887"
             ],
             [
              0.1111111111111111,
              "#46039f"
             ],
             [
              0.2222222222222222,
              "#7201a8"
             ],
             [
              0.3333333333333333,
              "#9c179e"
             ],
             [
              0.4444444444444444,
              "#bd3786"
             ],
             [
              0.5555555555555556,
              "#d8576b"
             ],
             [
              0.6666666666666666,
              "#ed7953"
             ],
             [
              0.7777777777777778,
              "#fb9f3a"
             ],
             [
              0.8888888888888888,
              "#fdca26"
             ],
             [
              1,
              "#f0f921"
             ]
            ],
            "type": "contour"
           }
          ],
          "contourcarpet": [
           {
            "colorbar": {
             "outlinewidth": 0,
             "ticks": ""
            },
            "type": "contourcarpet"
           }
          ],
          "heatmap": [
           {
            "colorbar": {
             "outlinewidth": 0,
             "ticks": ""
            },
            "colorscale": [
             [
              0,
              "#0d0887"
             ],
             [
              0.1111111111111111,
              "#46039f"
             ],
             [
              0.2222222222222222,
              "#7201a8"
             ],
             [
              0.3333333333333333,
              "#9c179e"
             ],
             [
              0.4444444444444444,
              "#bd3786"
             ],
             [
              0.5555555555555556,
              "#d8576b"
             ],
             [
              0.6666666666666666,
              "#ed7953"
             ],
             [
              0.7777777777777778,
              "#fb9f3a"
             ],
             [
              0.8888888888888888,
              "#fdca26"
             ],
             [
              1,
              "#f0f921"
             ]
            ],
            "type": "heatmap"
           }
          ],
          "histogram": [
           {
            "marker": {
             "pattern": {
              "fillmode": "overlay",
              "size": 10,
              "solidity": 0.2
             }
            },
            "type": "histogram"
           }
          ],
          "histogram2d": [
           {
            "colorbar": {
             "outlinewidth": 0,
             "ticks": ""
            },
            "colorscale": [
             [
              0,
              "#0d0887"
             ],
             [
              0.1111111111111111,
              "#46039f"
             ],
             [
              0.2222222222222222,
              "#7201a8"
             ],
             [
              0.3333333333333333,
              "#9c179e"
             ],
             [
              0.4444444444444444,
              "#bd3786"
             ],
             [
              0.5555555555555556,
              "#d8576b"
             ],
             [
              0.6666666666666666,
              "#ed7953"
             ],
             [
              0.7777777777777778,
              "#fb9f3a"
             ],
             [
              0.8888888888888888,
              "#fdca26"
             ],
             [
              1,
              "#f0f921"
             ]
            ],
            "type": "histogram2d"
           }
          ],
          "histogram2dcontour": [
           {
            "colorbar": {
             "outlinewidth": 0,
             "ticks": ""
            },
            "colorscale": [
             [
              0,
              "#0d0887"
             ],
             [
              0.1111111111111111,
              "#46039f"
             ],
             [
              0.2222222222222222,
              "#7201a8"
             ],
             [
              0.3333333333333333,
              "#9c179e"
             ],
             [
              0.4444444444444444,
              "#bd3786"
             ],
             [
              0.5555555555555556,
              "#d8576b"
             ],
             [
              0.6666666666666666,
              "#ed7953"
             ],
             [
              0.7777777777777778,
              "#fb9f3a"
             ],
             [
              0.8888888888888888,
              "#fdca26"
             ],
             [
              1,
              "#f0f921"
             ]
            ],
            "type": "histogram2dcontour"
           }
          ],
          "mesh3d": [
           {
            "colorbar": {
             "outlinewidth": 0,
             "ticks": ""
            },
            "type": "mesh3d"
           }
          ],
          "parcoords": [
           {
            "line": {
             "colorbar": {
              "outlinewidth": 0,
              "ticks": ""
             }
            },
            "type": "parcoords"
           }
          ],
          "pie": [
           {
            "automargin": true,
            "type": "pie"
           }
          ],
          "scatter": [
           {
            "fillpattern": {
             "fillmode": "overlay",
             "size": 10,
             "solidity": 0.2
            },
            "type": "scatter"
           }
          ],
          "scatter3d": [
           {
            "line": {
             "colorbar": {
              "outlinewidth": 0,
              "ticks": ""
             }
            },
            "marker": {
             "colorbar": {
              "outlinewidth": 0,
              "ticks": ""
             }
            },
            "type": "scatter3d"
           }
          ],
          "scattercarpet": [
           {
            "marker": {
             "colorbar": {
              "outlinewidth": 0,
              "ticks": ""
             }
            },
            "type": "scattercarpet"
           }
          ],
          "scattergeo": [
           {
            "marker": {
             "colorbar": {
              "outlinewidth": 0,
              "ticks": ""
             }
            },
            "type": "scattergeo"
           }
          ],
          "scattergl": [
           {
            "marker": {
             "colorbar": {
              "outlinewidth": 0,
              "ticks": ""
             }
            },
            "type": "scattergl"
           }
          ],
          "scattermap": [
           {
            "marker": {
             "colorbar": {
              "outlinewidth": 0,
              "ticks": ""
             }
            },
            "type": "scattermap"
           }
          ],
          "scattermapbox": [
           {
            "marker": {
             "colorbar": {
              "outlinewidth": 0,
              "ticks": ""
             }
            },
            "type": "scattermapbox"
           }
          ],
          "scatterpolar": [
           {
            "marker": {
             "colorbar": {
              "outlinewidth": 0,
              "ticks": ""
             }
            },
            "type": "scatterpolar"
           }
          ],
          "scatterpolargl": [
           {
            "marker": {
             "colorbar": {
              "outlinewidth": 0,
              "ticks": ""
             }
            },
            "type": "scatterpolargl"
           }
          ],
          "scatterternary": [
           {
            "marker": {
             "colorbar": {
              "outlinewidth": 0,
              "ticks": ""
             }
            },
            "type": "scatterternary"
           }
          ],
          "surface": [
           {
            "colorbar": {
             "outlinewidth": 0,
             "ticks": ""
            },
            "colorscale": [
             [
              0,
              "#0d0887"
             ],
             [
              0.1111111111111111,
              "#46039f"
             ],
             [
              0.2222222222222222,
              "#7201a8"
             ],
             [
              0.3333333333333333,
              "#9c179e"
             ],
             [
              0.4444444444444444,
              "#bd3786"
             ],
             [
              0.5555555555555556,
              "#d8576b"
             ],
             [
              0.6666666666666666,
              "#ed7953"
             ],
             [
              0.7777777777777778,
              "#fb9f3a"
             ],
             [
              0.8888888888888888,
              "#fdca26"
             ],
             [
              1,
              "#f0f921"
             ]
            ],
            "type": "surface"
           }
          ],
          "table": [
           {
            "cells": {
             "fill": {
              "color": "#EBF0F8"
             },
             "line": {
              "color": "white"
             }
            },
            "header": {
             "fill": {
              "color": "#C8D4E3"
             },
             "line": {
              "color": "white"
             }
            },
            "type": "table"
           }
          ]
         },
         "layout": {
          "annotationdefaults": {
           "arrowcolor": "#2a3f5f",
           "arrowhead": 0,
           "arrowwidth": 1
          },
          "autotypenumbers": "strict",
          "coloraxis": {
           "colorbar": {
            "outlinewidth": 0,
            "ticks": ""
           }
          },
          "colorscale": {
           "diverging": [
            [
             0,
             "#8e0152"
            ],
            [
             0.1,
             "#c51b7d"
            ],
            [
             0.2,
             "#de77ae"
            ],
            [
             0.3,
             "#f1b6da"
            ],
            [
             0.4,
             "#fde0ef"
            ],
            [
             0.5,
             "#f7f7f7"
            ],
            [
             0.6,
             "#e6f5d0"
            ],
            [
             0.7,
             "#b8e186"
            ],
            [
             0.8,
             "#7fbc41"
            ],
            [
             0.9,
             "#4d9221"
            ],
            [
             1,
             "#276419"
            ]
           ],
           "sequential": [
            [
             0,
             "#0d0887"
            ],
            [
             0.1111111111111111,
             "#46039f"
            ],
            [
             0.2222222222222222,
             "#7201a8"
            ],
            [
             0.3333333333333333,
             "#9c179e"
            ],
            [
             0.4444444444444444,
             "#bd3786"
            ],
            [
             0.5555555555555556,
             "#d8576b"
            ],
            [
             0.6666666666666666,
             "#ed7953"
            ],
            [
             0.7777777777777778,
             "#fb9f3a"
            ],
            [
             0.8888888888888888,
             "#fdca26"
            ],
            [
             1,
             "#f0f921"
            ]
           ],
           "sequentialminus": [
            [
             0,
             "#0d0887"
            ],
            [
             0.1111111111111111,
             "#46039f"
            ],
            [
             0.2222222222222222,
             "#7201a8"
            ],
            [
             0.3333333333333333,
             "#9c179e"
            ],
            [
             0.4444444444444444,
             "#bd3786"
            ],
            [
             0.5555555555555556,
             "#d8576b"
            ],
            [
             0.6666666666666666,
             "#ed7953"
            ],
            [
             0.7777777777777778,
             "#fb9f3a"
            ],
            [
             0.8888888888888888,
             "#fdca26"
            ],
            [
             1,
             "#f0f921"
            ]
           ]
          },
          "colorway": [
           "#636efa",
           "#EF553B",
           "#00cc96",
           "#ab63fa",
           "#FFA15A",
           "#19d3f3",
           "#FF6692",
           "#B6E880",
           "#FF97FF",
           "#FECB52"
          ],
          "font": {
           "color": "#2a3f5f"
          },
          "geo": {
           "bgcolor": "white",
           "lakecolor": "white",
           "landcolor": "#E5ECF6",
           "showlakes": true,
           "showland": true,
           "subunitcolor": "white"
          },
          "hoverlabel": {
           "align": "left"
          },
          "hovermode": "closest",
          "mapbox": {
           "style": "light"
          },
          "paper_bgcolor": "white",
          "plot_bgcolor": "#E5ECF6",
          "polar": {
           "angularaxis": {
            "gridcolor": "white",
            "linecolor": "white",
            "ticks": ""
           },
           "bgcolor": "#E5ECF6",
           "radialaxis": {
            "gridcolor": "white",
            "linecolor": "white",
            "ticks": ""
           }
          },
          "scene": {
           "xaxis": {
            "backgroundcolor": "#E5ECF6",
            "gridcolor": "white",
            "gridwidth": 2,
            "linecolor": "white",
            "showbackground": true,
            "ticks": "",
            "zerolinecolor": "white"
           },
           "yaxis": {
            "backgroundcolor": "#E5ECF6",
            "gridcolor": "white",
            "gridwidth": 2,
            "linecolor": "white",
            "showbackground": true,
            "ticks": "",
            "zerolinecolor": "white"
           },
           "zaxis": {
            "backgroundcolor": "#E5ECF6",
            "gridcolor": "white",
            "gridwidth": 2,
            "linecolor": "white",
            "showbackground": true,
            "ticks": "",
            "zerolinecolor": "white"
           }
          },
          "shapedefaults": {
           "line": {
            "color": "#2a3f5f"
           }
          },
          "ternary": {
           "aaxis": {
            "gridcolor": "white",
            "linecolor": "white",
            "ticks": ""
           },
           "baxis": {
            "gridcolor": "white",
            "linecolor": "white",
            "ticks": ""
           },
           "bgcolor": "#E5ECF6",
           "caxis": {
            "gridcolor": "white",
            "linecolor": "white",
            "ticks": ""
           }
          },
          "title": {
           "x": 0.05
          },
          "xaxis": {
           "automargin": true,
           "gridcolor": "white",
           "linecolor": "white",
           "ticks": "",
           "title": {
            "standoff": 15
           },
           "zerolinecolor": "white",
           "zerolinewidth": 2
          },
          "yaxis": {
           "automargin": true,
           "gridcolor": "white",
           "linecolor": "white",
           "ticks": "",
           "title": {
            "standoff": 15
           },
           "zerolinecolor": "white",
           "zerolinewidth": 2
          }
         }
        },
        "xaxis": {
         "anchor": "y",
         "domain": [
          0,
          1
         ],
         "title": {
          "text": "year"
         }
        },
        "yaxis": {
         "anchor": "x",
         "domain": [
          0,
          1
         ],
         "title": {
          "text": "lifeExp"
         }
        }
       }
      }
     },
     "metadata": {},
     "output_type": "display_data"
    }
   ],
   "source": [
    "fig = px.line(df, x=\"year\", y=\"lifeExp\", color='country')\n",
    "fig.show()"
   ]
  }
 ],
 "metadata": {
  "kernelspec": {
   "display_name": ".venv",
   "language": "python",
   "name": "python3"
  },
  "language_info": {
   "codemirror_mode": {
    "name": "ipython",
    "version": 3
   },
   "file_extension": ".py",
   "mimetype": "text/x-python",
   "name": "python",
   "nbconvert_exporter": "python",
   "pygments_lexer": "ipython3",
   "version": "3.13.1"
  }
 },
 "nbformat": 4,
 "nbformat_minor": 2
}
