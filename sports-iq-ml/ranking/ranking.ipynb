{
 "cells": [
  {
   "cell_type": "code",
   "execution_count": 42,
   "metadata": {},
   "outputs": [],
   "source": [
    "import numpy as np\n",
    "import pandas as pd\n",
    "from scipy.stats import norm\n",
    "import plotly.graph_objects as go\n",
    "import math\n",
    "\n",
    "min_value = 100\n",
    "max_value = 3000\n",
    "num_values = 911\n",
    "\n",
    "mean = (min_value + max_value) / 2\n",
    "std_dev = (max_value - min_value) / 6.5\n",
    "data = np.random.normal(mean, std_dev, num_values)\n",
    "\n",
    "# print(data)"
   ]
  },
  {
   "cell_type": "code",
   "execution_count": 43,
   "metadata": {},
   "outputs": [
    {
     "data": {
      "application/vnd.plotly.v1+json": {
       "config": {
        "plotlyServerURL": "https://plot.ly"
       },
       "data": [
        {
         "name": "Data",
         "type": "histogram",
         "x": {
          "bdata": "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",
          "dtype": "f8"
         }
        },
        {
         "line": {
          "color": "red"
         },
         "mode": "lines",
         "name": "Normal Distribution",
         "type": "scatter",
         "x": {
          "bdata": "YPYtiR34XEDK6FVTQvZhQGTWFOJ1cGVA/sPTcKnqaECYsZL/3GRsQDKfUY4Q329AZkaIDqKscUAzvefVu2lzQAA0R53VJnVAzaqmZO/jdkCaIQYsCaF4QGeYZfMiXnpANA/FujwbfEABhiSCVth9QM78g0lwlX9AzrlxCEWpgEA0dSHs0YeBQJow0c9eZoJAAeyAs+tEg0BopzCXeCOEQM5i4HoFAoVANB6QXpLghUCb2T9CH7+GQAKV7yWsnYdAaFCfCTl8iEDOC0/txVqJQDXH/tBSOYpAnIKutN8Xi0ACPl6YbPaLQGj5DXz51IxAz7S9X4azjUA2cG1DE5KOQJwrHSegcI9AgXNmhZYnkEA0UT733JaQQOguFmkjBpFAmwzu2ml1kUBO6sVMsOSRQALInb72U5JAtaV1MD3DkkBog02igzKTQBthJRTKoZNAzj79hRARlECCHNX3VoCUQDX6rGmd75RA6NeE2+NelUCctVxNKs6VQE+TNL9wPZZAAnEMMbeslkC1TuSi/RuXQGgsvBREi5dAHAqUhor6l0DP52v40GmYQILFQ2oX2ZhANqMb3F1ImUDpgPNNpLeZQJxey7/qJppATzyjMTGWmkACGnujdwWbQLb3UhW+dJtAadUqhwTkm0AcswL5SlOcQNCQ2mqRwpxAg26y3NcxnUA2TIpOHqGdQOkpYsBkEJ5AnAc6Mqt/nkBQ5RGk8e6eQAPD6RU4Xp9AtqDBh37Nn0A1v8x8Yh6gQA6uuLUFVqBA6Jyk7qiNoEDCi5AnTMWgQJt6fGDv/KBAdWlomZI0oUBPWFTSNWyhQChHQAvZo6FAAjYsRHzboUDbJBh9HxOiQLUTBLbCSqJAjwLw7mWCokBo8dsnCbqiQELgx2Cs8aJAG8+zmU8po0D1vZ/S8mCjQM+siwuWmKNAqJt3RDnQo0CCimN93AekQFx5T7Z/P6RANWg77yJ3pEAPVycoxq6kQOlFE2Fp5qRAwjT/mQwepUCcI+vSr1WlQHUS1wtTjaVATwHDRPbEpUAp8K59mfylQALfmrY8NKZA3M2G799rpkA=",
          "dtype": "f8"
         },
         "y": {
          "bdata": "XqAmA2V75D8LM0VDlvroP87JvKdDWO4//ZnGGzVc8j+uXBCWrCH2P51T++H0kvo/A04L8tTI/z9iR1hvPe8CQD3w3Rm/eAZAhUtXzeqQCkBIa4fd3kgPQGLmesxjWRJAmSZjZ+BwFUCexh971vQYQDLjeZqA7xxAoQi2bKG1IEBW9s56QjkjQLGhlD3DByZAGh0IiBYmKUANVWmh5pgsQOf5wZs7MjBA00oaoUJGMkAKEOetEoo0QOmck5fQ/jZAWJfjWyqlOUCt5NgURn08QD51uLWxhj9AGQg8BypgQUAvU9bLLxRDQHT5E8Uj3kRAwAYy4Vu8RkAW/yj0x6xIQDOx+CPxrEpAblIhW/u5TECyiW3kqNBOQHcdQSOwdlBAXkydMxqGUUBdvoV3d5RSQFoE/GmOn1NAKlxKcQ6lVEAiAmIFmKJVQApC75LFlVZAyn+77jR8V0AK+rwmkVNYQMPISXmcGVlALp+DNzrMWUA7Q2tWeGlaQNAePXKY71pAiu/RCRhdW0Dw6bq7t7BbQLYfmFSB6VtAYJmQhcwGXEAmPKIiQghcQG5JatLd7VtAlh64I+63W0BbllQIE2dbQIhbhr86/FpARrubRZ14WkCaJ8Zntt1ZQFKug6Q+LVlA68pjCCNpWECaYOo8fJNXQO9ygQOFrlZAMt62WJC8VUCMYmh8/79UQLEMCho4u1NAFUX/yJqwUkDLMTsYeqJRQKp3RFISk1BAoJ8fPwQJT0D9hXBKiPFMQHLndGtT40pAitGiQa3hSED1QmVOfO9GQFv95B1CD0VA6kIcnBlDQ0DaM050t4xBQIoiOJzY2j9AHTyWZVHMPEBua++9BO85QIqx34F1QzdAeSJaxIzJNECp8Hf1qYAyQN9bL9+zZzBAnXBXA1T6LEDqU6PGa34pQG8VpOl3VyZAR/PSbteAI0DAqNzDnfUgQB33JkBdYR1AOpSiVa5ZGUAi/KFxyMkVQLk3mRFrpxJAEM8I+TfRD0BouSCzgwcLQLfOblpy3wZA8kkKOMhHA0CWdRjLajAAQKj/EV3cFPs/lIUr+jWQ9j8=",
          "dtype": "f8"
         }
        }
       ],
       "layout": {
        "bargap": 0.1,
        "template": {
         "data": {
          "bar": [
           {
            "error_x": {
             "color": "#2a3f5f"
            },
            "error_y": {
             "color": "#2a3f5f"
            },
            "marker": {
             "line": {
              "color": "#E5ECF6",
              "width": 0.5
             },
             "pattern": {
              "fillmode": "overlay",
              "size": 10,
              "solidity": 0.2
             }
            },
            "type": "bar"
           }
          ],
          "barpolar": [
           {
            "marker": {
             "line": {
              "color": "#E5ECF6",
              "width": 0.5
             },
             "pattern": {
              "fillmode": "overlay",
              "size": 10,
              "solidity": 0.2
             }
            },
            "type": "barpolar"
           }
          ],
          "carpet": [
           {
            "aaxis": {
             "endlinecolor": "#2a3f5f",
             "gridcolor": "white",
             "linecolor": "white",
             "minorgridcolor": "white",
             "startlinecolor": "#2a3f5f"
            },
            "baxis": {
             "endlinecolor": "#2a3f5f",
             "gridcolor": "white",
             "linecolor": "white",
             "minorgridcolor": "white",
             "startlinecolor": "#2a3f5f"
            },
            "type": "carpet"
           }
          ],
          "choropleth": [
           {
            "colorbar": {
             "outlinewidth": 0,
             "ticks": ""
            },
            "type": "choropleth"
           }
          ],
          "contour": [
           {
            "colorbar": {
             "outlinewidth": 0,
             "ticks": ""
            },
            "colorscale": [
             [
              0,
              "#0d0887"
             ],
             [
              0.1111111111111111,
              "#46039f"
             ],
             [
              0.2222222222222222,
              "#7201a8"
             ],
             [
              0.3333333333333333,
              "#9c179e"
             ],
             [
              0.4444444444444444,
              "#bd3786"
             ],
             [
              0.5555555555555556,
              "#d8576b"
             ],
             [
              0.6666666666666666,
              "#ed7953"
             ],
             [
              0.7777777777777778,
              "#fb9f3a"
             ],
             [
              0.8888888888888888,
              "#fdca26"
             ],
             [
              1,
              "#f0f921"
             ]
            ],
            "type": "contour"
           }
          ],
          "contourcarpet": [
           {
            "colorbar": {
             "outlinewidth": 0,
             "ticks": ""
            },
            "type": "contourcarpet"
           }
          ],
          "heatmap": [
           {
            "colorbar": {
             "outlinewidth": 0,
             "ticks": ""
            },
            "colorscale": [
             [
              0,
              "#0d0887"
             ],
             [
              0.1111111111111111,
              "#46039f"
             ],
             [
              0.2222222222222222,
              "#7201a8"
             ],
             [
              0.3333333333333333,
              "#9c179e"
             ],
             [
              0.4444444444444444,
              "#bd3786"
             ],
             [
              0.5555555555555556,
              "#d8576b"
             ],
             [
              0.6666666666666666,
              "#ed7953"
             ],
             [
              0.7777777777777778,
              "#fb9f3a"
             ],
             [
              0.8888888888888888,
              "#fdca26"
             ],
             [
              1,
              "#f0f921"
             ]
            ],
            "type": "heatmap"
           }
          ],
          "histogram": [
           {
            "marker": {
             "pattern": {
              "fillmode": "overlay",
              "size": 10,
              "solidity": 0.2
             }
            },
            "type": "histogram"
           }
          ],
          "histogram2d": [
           {
            "colorbar": {
             "outlinewidth": 0,
             "ticks": ""
            },
            "colorscale": [
             [
              0,
              "#0d0887"
             ],
             [
              0.1111111111111111,
              "#46039f"
             ],
             [
              0.2222222222222222,
              "#7201a8"
             ],
             [
              0.3333333333333333,
              "#9c179e"
             ],
             [
              0.4444444444444444,
              "#bd3786"
             ],
             [
              0.5555555555555556,
              "#d8576b"
             ],
             [
              0.6666666666666666,
              "#ed7953"
             ],
             [
              0.7777777777777778,
              "#fb9f3a"
             ],
             [
              0.8888888888888888,
              "#fdca26"
             ],
             [
              1,
              "#f0f921"
             ]
            ],
            "type": "histogram2d"
           }
          ],
          "histogram2dcontour": [
           {
            "colorbar": {
             "outlinewidth": 0,
             "ticks": ""
            },
            "colorscale": [
             [
              0,
              "#0d0887"
             ],
             [
              0.1111111111111111,
              "#46039f"
             ],
             [
              0.2222222222222222,
              "#7201a8"
             ],
             [
              0.3333333333333333,
              "#9c179e"
             ],
             [
              0.4444444444444444,
              "#bd3786"
             ],
             [
              0.5555555555555556,
              "#d8576b"
             ],
             [
              0.6666666666666666,
              "#ed7953"
             ],
             [
              0.7777777777777778,
              "#fb9f3a"
             ],
             [
              0.8888888888888888,
              "#fdca26"
             ],
             [
              1,
              "#f0f921"
             ]
            ],
            "type": "histogram2dcontour"
           }
          ],
          "mesh3d": [
           {
            "colorbar": {
             "outlinewidth": 0,
             "ticks": ""
            },
            "type": "mesh3d"
           }
          ],
          "parcoords": [
           {
            "line": {
             "colorbar": {
              "outlinewidth": 0,
              "ticks": ""
             }
            },
            "type": "parcoords"
           }
          ],
          "pie": [
           {
            "automargin": true,
            "type": "pie"
           }
          ],
          "scatter": [
           {
            "fillpattern": {
             "fillmode": "overlay",
             "size": 10,
             "solidity": 0.2
            },
            "type": "scatter"
           }
          ],
          "scatter3d": [
           {
            "line": {
             "colorbar": {
              "outlinewidth": 0,
              "ticks": ""
             }
            },
            "marker": {
             "colorbar": {
              "outlinewidth": 0,
              "ticks": ""
             }
            },
            "type": "scatter3d"
           }
          ],
          "scattercarpet": [
           {
            "marker": {
             "colorbar": {
              "outlinewidth": 0,
              "ticks": ""
             }
            },
            "type": "scattercarpet"
           }
          ],
          "scattergeo": [
           {
            "marker": {
             "colorbar": {
              "outlinewidth": 0,
              "ticks": ""
             }
            },
            "type": "scattergeo"
           }
          ],
          "scattergl": [
           {
            "marker": {
             "colorbar": {
              "outlinewidth": 0,
              "ticks": ""
             }
            },
            "type": "scattergl"
           }
          ],
          "scattermap": [
           {
            "marker": {
             "colorbar": {
              "outlinewidth": 0,
              "ticks": ""
             }
            },
            "type": "scattermap"
           }
          ],
          "scattermapbox": [
           {
            "marker": {
             "colorbar": {
              "outlinewidth": 0,
              "ticks": ""
             }
            },
            "type": "scattermapbox"
           }
          ],
          "scatterpolar": [
           {
            "marker": {
             "colorbar": {
              "outlinewidth": 0,
              "ticks": ""
             }
            },
            "type": "scatterpolar"
           }
          ],
          "scatterpolargl": [
           {
            "marker": {
             "colorbar": {
              "outlinewidth": 0,
              "ticks": ""
             }
            },
            "type": "scatterpolargl"
           }
          ],
          "scatterternary": [
           {
            "marker": {
             "colorbar": {
              "outlinewidth": 0,
              "ticks": ""
             }
            },
            "type": "scatterternary"
           }
          ],
          "surface": [
           {
            "colorbar": {
             "outlinewidth": 0,
             "ticks": ""
            },
            "colorscale": [
             [
              0,
              "#0d0887"
             ],
             [
              0.1111111111111111,
              "#46039f"
             ],
             [
              0.2222222222222222,
              "#7201a8"
             ],
             [
              0.3333333333333333,
              "#9c179e"
             ],
             [
              0.4444444444444444,
              "#bd3786"
             ],
             [
              0.5555555555555556,
              "#d8576b"
             ],
             [
              0.6666666666666666,
              "#ed7953"
             ],
             [
              0.7777777777777778,
              "#fb9f3a"
             ],
             [
              0.8888888888888888,
              "#fdca26"
             ],
             [
              1,
              "#f0f921"
             ]
            ],
            "type": "surface"
           }
          ],
          "table": [
           {
            "cells": {
             "fill": {
              "color": "#EBF0F8"
             },
             "line": {
              "color": "white"
             }
            },
            "header": {
             "fill": {
              "color": "#C8D4E3"
             },
             "line": {
              "color": "white"
             }
            },
            "type": "table"
           }
          ]
         },
         "layout": {
          "annotationdefaults": {
           "arrowcolor": "#2a3f5f",
           "arrowhead": 0,
           "arrowwidth": 1
          },
          "autotypenumbers": "strict",
          "coloraxis": {
           "colorbar": {
            "outlinewidth": 0,
            "ticks": ""
           }
          },
          "colorscale": {
           "diverging": [
            [
             0,
             "#8e0152"
            ],
            [
             0.1,
             "#c51b7d"
            ],
            [
             0.2,
             "#de77ae"
            ],
            [
             0.3,
             "#f1b6da"
            ],
            [
             0.4,
             "#fde0ef"
            ],
            [
             0.5,
             "#f7f7f7"
            ],
            [
             0.6,
             "#e6f5d0"
            ],
            [
             0.7,
             "#b8e186"
            ],
            [
             0.8,
             "#7fbc41"
            ],
            [
             0.9,
             "#4d9221"
            ],
            [
             1,
             "#276419"
            ]
           ],
           "sequential": [
            [
             0,
             "#0d0887"
            ],
            [
             0.1111111111111111,
             "#46039f"
            ],
            [
             0.2222222222222222,
             "#7201a8"
            ],
            [
             0.3333333333333333,
             "#9c179e"
            ],
            [
             0.4444444444444444,
             "#bd3786"
            ],
            [
             0.5555555555555556,
             "#d8576b"
            ],
            [
             0.6666666666666666,
             "#ed7953"
            ],
            [
             0.7777777777777778,
             "#fb9f3a"
            ],
            [
             0.8888888888888888,
             "#fdca26"
            ],
            [
             1,
             "#f0f921"
            ]
           ],
           "sequentialminus": [
            [
             0,
             "#0d0887"
            ],
            [
             0.1111111111111111,
             "#46039f"
            ],
            [
             0.2222222222222222,
             "#7201a8"
            ],
            [
             0.3333333333333333,
             "#9c179e"
            ],
            [
             0.4444444444444444,
             "#bd3786"
            ],
            [
             0.5555555555555556,
             "#d8576b"
            ],
            [
             0.6666666666666666,
             "#ed7953"
            ],
            [
             0.7777777777777778,
             "#fb9f3a"
            ],
            [
             0.8888888888888888,
             "#fdca26"
            ],
            [
             1,
             "#f0f921"
            ]
           ]
          },
          "colorway": [
           "#636efa",
           "#EF553B",
           "#00cc96",
           "#ab63fa",
           "#FFA15A",
           "#19d3f3",
           "#FF6692",
           "#B6E880",
           "#FF97FF",
           "#FECB52"
          ],
          "font": {
           "color": "#2a3f5f"
          },
          "geo": {
           "bgcolor": "white",
           "lakecolor": "white",
           "landcolor": "#E5ECF6",
           "showlakes": true,
           "showland": true,
           "subunitcolor": "white"
          },
          "hoverlabel": {
           "align": "left"
          },
          "hovermode": "closest",
          "mapbox": {
           "style": "light"
          },
          "paper_bgcolor": "white",
          "plot_bgcolor": "#E5ECF6",
          "polar": {
           "angularaxis": {
            "gridcolor": "white",
            "linecolor": "white",
            "ticks": ""
           },
           "bgcolor": "#E5ECF6",
           "radialaxis": {
            "gridcolor": "white",
            "linecolor": "white",
            "ticks": ""
           }
          },
          "scene": {
           "xaxis": {
            "backgroundcolor": "#E5ECF6",
            "gridcolor": "white",
            "gridwidth": 2,
            "linecolor": "white",
            "showbackground": true,
            "ticks": "",
            "zerolinecolor": "white"
           },
           "yaxis": {
            "backgroundcolor": "#E5ECF6",
            "gridcolor": "white",
            "gridwidth": 2,
            "linecolor": "white",
            "showbackground": true,
            "ticks": "",
            "zerolinecolor": "white"
           },
           "zaxis": {
            "backgroundcolor": "#E5ECF6",
            "gridcolor": "white",
            "gridwidth": 2,
            "linecolor": "white",
            "showbackground": true,
            "ticks": "",
            "zerolinecolor": "white"
           }
          },
          "shapedefaults": {
           "line": {
            "color": "#2a3f5f"
           }
          },
          "ternary": {
           "aaxis": {
            "gridcolor": "white",
            "linecolor": "white",
            "ticks": ""
           },
           "baxis": {
            "gridcolor": "white",
            "linecolor": "white",
            "ticks": ""
           },
           "bgcolor": "#E5ECF6",
           "caxis": {
            "gridcolor": "white",
            "linecolor": "white",
            "ticks": ""
           }
          },
          "title": {
           "x": 0.05
          },
          "xaxis": {
           "automargin": true,
           "gridcolor": "white",
           "linecolor": "white",
           "ticks": "",
           "title": {
            "standoff": 15
           },
           "zerolinecolor": "white",
           "zerolinewidth": 2
          },
          "yaxis": {
           "automargin": true,
           "gridcolor": "white",
           "linecolor": "white",
           "ticks": "",
           "title": {
            "standoff": 15
           },
           "zerolinecolor": "white",
           "zerolinewidth": 2
          }
         }
        },
        "title": {
         "text": "Normal Distribution Plot"
        },
        "xaxis": {
         "title": {
          "text": "Value"
         }
        },
        "yaxis": {
         "title": {
          "text": "Frequency"
         }
        }
       }
      }
     },
     "metadata": {},
     "output_type": "display_data"
    }
   ],
   "source": [
    "fig = go.Figure(data=[go.Histogram(x=data, name='Data')])\n",
    "\n",
    "x_values = np.linspace(min(data), max(data), 100)\n",
    "y_values = norm.pdf(x_values, mean, std_dev)\n",
    "fig.add_trace(go.Scatter(x=x_values, y=y_values * num_values * (max(data) - min(data)) / 20, #scale to match histogram area\n",
    "                         mode='lines', name='Normal Distribution',\n",
    "                         line=dict(color='red')))\n",
    "\n",
    "# Customize the layout\n",
    "fig.update_layout(title='Normal Distribution Plot',\n",
    "                  xaxis_title='Value',\n",
    "                  yaxis_title='Frequency',\n",
    "                  bargap=0.1)\n",
    "fig.show()"
   ]
  },
  {
   "cell_type": "code",
   "execution_count": null,
   "metadata": {},
   "outputs": [
    {
     "name": "stdout",
     "output_type": "stream",
     "text": [
      "[2869 2858 2848 2841 2816 2804 2789 2767 2736 2699 2676 2674 2658 2652\n",
      " 2645 2601 2595 2594 2580 2566 2563 2549 2507 2506 2488 2487 2486 2478\n",
      " 2437 2429 2406 2399 2390 2383 2381 2372 2371 2365 2361 2359 2352 2351\n",
      " 2349 2327 2325 2315 2314 2313 2312 2306 2301 2299 2279 2267 2262 2258\n",
      " 2258 2254 2243 2242 2241 2235 2232 2232 2221 2211 2211 2210 2208 2195\n",
      " 2195 2191 2185 2182 2179 2178 2178 2176 2173 2173 2172 2171 2171 2167\n",
      " 2165 2164 2158 2156 2152 2151 2151 2151 2148 2143 2139 2138 2133 2128\n",
      " 2124 2114 2110 2110 2105 2102 2099 2089 2087 2086 2085 2085 2078 2077\n",
      " 2075 2073 2071 2070 2070 2069 2067 2063 2061 2054 2051 2050 2050 2047\n",
      " 2039 2039 2039 2037 2037 2037 2027 2023 2023 2020 2018 2014 2013 2009\n",
      " 2007 2003 2002 2001 2000 1999 1997 1997 1994 1993 1993 1991 1991 1989\n",
      " 1988 1988 1987 1985 1982 1980 1975 1975 1974 1973 1971 1965 1965 1963\n",
      " 1958 1958 1957 1957 1956 1955 1955 1954 1953 1949 1947 1946 1945 1944\n",
      " 1941 1941 1940 1939 1939 1938 1937 1937 1935 1935 1934 1932 1930 1930\n",
      " 1927 1926 1924 1923 1923 1922 1921 1921 1920 1920 1919 1918 1914 1914\n",
      " 1912 1909 1909 1908 1907 1902 1902 1902 1900 1898 1896 1893 1891 1889\n",
      " 1887 1886 1884 1881 1879 1876 1875 1874 1873 1873 1872 1871 1871 1870\n",
      " 1868 1864 1864 1861 1858 1858 1858 1855 1853 1853 1851 1849 1845 1844\n",
      " 1843 1842 1839 1838 1838 1838 1837 1837 1833 1833 1830 1830 1826 1824\n",
      " 1821 1821 1821 1819 1816 1809 1807 1803 1803 1802 1800 1800 1799 1798\n",
      " 1793 1787 1786 1786 1786 1784 1779 1779 1777 1777 1777 1777 1777 1776\n",
      " 1773 1768 1767 1766 1766 1764 1761 1759 1758 1757 1756 1756 1753 1752\n",
      " 1752 1746 1745 1739 1737 1737 1736 1734 1733 1733 1731 1730 1729 1728\n",
      " 1727 1725 1724 1723 1723 1720 1720 1718 1717 1715 1714 1713 1712 1711\n",
      " 1710 1710 1708 1706 1706 1706 1704 1704 1703 1702 1701 1697 1697 1697\n",
      " 1690 1688 1687 1686 1686 1686 1685 1684 1681 1680 1676 1676 1676 1675\n",
      " 1674 1673 1673 1669 1662 1662 1661 1658 1656 1649 1646 1645 1642 1642\n",
      " 1639 1638 1637 1636 1635 1634 1634 1633 1631 1627 1626 1626 1626 1625\n",
      " 1625 1625 1624 1621 1620 1619 1618 1615 1612 1611 1610 1608 1608 1607\n",
      " 1606 1606 1601 1600 1600 1597 1596 1594 1592 1589 1585 1584 1584 1584\n",
      " 1584 1584 1582 1582 1581 1581 1580 1580 1579 1579 1579 1577 1576 1576\n",
      " 1576 1573 1571 1570 1570 1570 1568 1568 1567 1566 1566 1566 1565 1565\n",
      " 1564 1563 1561 1561 1559 1559 1553 1552 1552 1552 1551 1550 1550 1549\n",
      " 1546 1545 1544 1542 1541 1541 1540 1538 1538 1537 1537 1536 1536 1534\n",
      " 1532 1530 1525 1525 1524 1523 1523 1520 1520 1515 1514 1511 1509 1506\n",
      " 1501 1500 1500 1497 1496 1495 1494 1493 1489 1487 1487 1486 1485 1485\n",
      " 1485 1482 1481 1480 1480 1479 1478 1476 1471 1469 1467 1467 1467 1466\n",
      " 1461 1461 1459 1459 1457 1456 1452 1448 1447 1444 1443 1440 1438 1436\n",
      " 1436 1434 1433 1428 1428 1427 1425 1422 1422 1420 1419 1415 1415 1413\n",
      " 1412 1411 1411 1409 1405 1404 1404 1403 1403 1403 1401 1399 1397 1396\n",
      " 1396 1395 1392 1389 1388 1385 1380 1380 1379 1377 1374 1370 1367 1367\n",
      " 1365 1365 1364 1364 1363 1362 1361 1361 1361 1358 1358 1357 1356 1354\n",
      " 1353 1353 1350 1350 1349 1349 1349 1348 1348 1345 1345 1344 1342 1339\n",
      " 1339 1338 1336 1334 1334 1334 1331 1329 1328 1327 1327 1325 1324 1323\n",
      " 1321 1321 1320 1320 1320 1320 1316 1316 1316 1315 1314 1314 1314 1311\n",
      " 1308 1307 1307 1301 1301 1297 1296 1295 1294 1294 1294 1293 1291 1291\n",
      " 1289 1287 1287 1284 1283 1282 1282 1281 1281 1280 1279 1279 1278 1277\n",
      " 1275 1273 1270 1270 1270 1268 1268 1268 1265 1265 1265 1263 1261 1259\n",
      " 1258 1258 1257 1252 1249 1248 1244 1239 1238 1238 1236 1231 1227 1227\n",
      " 1226 1226 1222 1222 1220 1219 1218 1216 1215 1214 1214 1212 1212 1210\n",
      " 1208 1207 1205 1204 1202 1200 1198 1197 1195 1187 1186 1184 1181 1171\n",
      " 1169 1169 1168 1167 1167 1166 1161 1161 1160 1155 1155 1153 1153 1151\n",
      " 1151 1151 1150 1147 1146 1146 1145 1143 1143 1143 1142 1141 1139 1138\n",
      " 1137 1136 1134 1133 1132 1129 1128 1125 1123 1121 1120 1112 1112 1111\n",
      " 1110 1105 1105 1104 1101 1101 1100 1100 1100 1098 1096 1091 1088 1085\n",
      " 1082 1080 1075 1072 1070 1069 1065 1065 1061 1060 1059 1057 1053 1050\n",
      " 1046 1046 1046 1045 1043 1039 1037 1035 1034 1033 1032 1031 1030 1029\n",
      " 1029 1026 1024 1020 1017 1016 1014  998  995  994  992  986  979  974\n",
      "  973  972  967  965  963  962  959  952  951  950  946  946  945  941\n",
      "  937  932  931  922  914  912  910  908  905  903  899  893  893  892\n",
      "  887  887  884  876  875  874  870  869  867  866  866  862  858  855\n",
      "  850  848  845  830  829  828  823  822  820  819  813  812  806  797\n",
      "  789  779  755  755  754  746  731  729  728  722  719  717  715  712\n",
      "  708  707  684  683  670  657  651  648  641  640  633  624  623  605\n",
      "  599  592  590  570  564  556  531  430  422  418  281  223  192  158\n",
      "  115]\n"
     ]
    }
   ],
   "source": [
    "ordered_data = np.sort(data)[::-1]\n",
    "\n",
    "round_data = np.vectorize(lambda x: math.floor(x))\n",
    "ordered_data = round_data(ordered_data)\n",
    "\n",
    "print(ordered_data)\n",
    "\n"
   ]
  },
  {
   "cell_type": "code",
   "execution_count": 45,
   "metadata": {},
   "outputs": [
    {
     "name": "stdout",
     "output_type": "stream",
     "text": [
      "      RK             Name TEAM    Pos  BEST  WORST   AVG.  STD.DEV  \\\n",
      "0      1       Bobby Witt   KC    SS1     1      2    1.7      0.5   \n",
      "1      2    Shohei Ohtani  LAD    DH1     1     16    1.8      0.9   \n",
      "2      3      Aaron Judge  NYY    OF1     2      4    3.0      0.3   \n",
      "3      4     Jose Ramirez  CLE    3B1     3     10    5.1      1.1   \n",
      "4      5  Elly De La Cruz  CIN    SS2     4     13    5.5      2.2   \n",
      "..   ...              ...  ...    ...   ...    ...    ...      ...   \n",
      "906  907     Nick Sandlin  TOR  RP132   900    900  900.0      0.0   \n",
      "907  908     Cooper Pratt  MIL   SS57   902    902  902.0      0.0   \n",
      "908  909      Kevin Kelly   TB  RP133   903    903  903.0      0.0   \n",
      "909  910  Joshua Palacios  PIT  OF177   904    904  904.0      0.0   \n",
      "910  911    Cooper Bowman  CIN   2B71   905    905  905.0      0.0   \n",
      "\n",
      "    ECR VS. ADP   Elo  \n",
      "0            +2  2869  \n",
      "1            -1  2858  \n",
      "2            +1  2848  \n",
      "3            +1  2841  \n",
      "4            +5  2816  \n",
      "..          ...   ...  \n",
      "906        +298   281  \n",
      "907        +350   223  \n",
      "908         -41   192  \n",
      "909         -16   158  \n",
      "910         +36   115  \n",
      "\n",
      "[911 rows x 10 columns]\n"
     ]
    }
   ],
   "source": [
    "fantasy_data = pd.read_csv('FantasyPros_2025_Draft_ALL_Rankings.csv')\n",
    "\n",
    "fantasy_data['Elo'] = pd.Series(ordered_data)\n",
    "\n",
    "print(fantasy_data)"
   ]
  },
  {
   "cell_type": "code",
   "execution_count": 46,
   "metadata": {},
   "outputs": [],
   "source": [
    "fantasy_data.to_csv('MLB_Ranking.csv', index=False)"
   ]
  }
 ],
 "metadata": {
  "kernelspec": {
   "display_name": ".venv",
   "language": "python",
   "name": "python3"
  },
  "language_info": {
   "codemirror_mode": {
    "name": "ipython",
    "version": 3
   },
   "file_extension": ".py",
   "mimetype": "text/x-python",
   "name": "python",
   "nbconvert_exporter": "python",
   "pygments_lexer": "ipython3",
   "version": "3.12.0"
  }
 },
 "nbformat": 4,
 "nbformat_minor": 2
}
