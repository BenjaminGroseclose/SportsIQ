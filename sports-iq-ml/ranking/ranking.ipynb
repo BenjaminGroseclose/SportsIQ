{
 "cells": [
  {
   "cell_type": "code",
   "execution_count": 63,
   "metadata": {},
   "outputs": [],
   "source": [
    "# Imports\n",
    "import pandas as pd\n",
    "import numpy as np\n",
    "import pyodbc \n",
    "\n",
    "# from sklearn.linear_model import RandomForestClassifier\n",
    "# from sklearn.model_selection import train_test_split\n",
    "# from sklearn.metrics import mean_squared_error\n"
   ]
  },
  {
   "cell_type": "code",
   "execution_count": null,
   "metadata": {},
   "outputs": [],
   "source": [
    "server = 'tcp:sports-iq.database.windows.net,1433' \n",
    "database = 'main' \n",
    "username = 'CloudSAeab82b26' \n",
    "password = ''\n",
    "\n",
    "cnxn = pyodbc.connect('DRIVER={SQL Server};SERVER='+server+';DATABASE='+database+';UID='+username+';PWD='+ password)\n",
    "cursor = cnxn.cursor()"
   ]
  },
  {
   "cell_type": "code",
   "execution_count": 65,
   "metadata": {},
   "outputs": [
    {
     "name": "stderr",
     "output_type": "stream",
     "text": [
      "C:\\Users\\benja\\AppData\\Local\\Temp\\ipykernel_13004\\837178767.py:10: UserWarning: pandas only supports SQLAlchemy connectable (engine/connection) or database string URI or sqlite3 DBAPI2 connection. Other DBAPI2 objects are not tested. Please consider using SQLAlchemy.\n",
      "  player_data = pd.read_sql(sql, cnxn)\n"
     ]
    },
    {
     "name": "stdout",
     "output_type": "stream",
     "text": [
      "(32995, 18)\n"
     ]
    }
   ],
   "source": [
    "sql = \"\"\"\n",
    "SELECT\n",
    "    PlayerID, Games, AtBats, Runs, Hits, Doubles, Triples, HomeRuns, RunsBattedIn AS [RBI], BattingAverage, Strikeouts, Walks, HitByPitch, Steals, CaughtStealing, OBP, Slug, OBPPlus\n",
    "FROM\n",
    "    MLB.Batting\n",
    "WHERE \n",
    "    SeasonType = 1\n",
    "\"\"\"\n",
    "\n",
    "player_data = pd.read_sql(sql, cnxn)\n",
    "\n",
    "print(player_data.shape)"
   ]
  },
  {
   "cell_type": "code",
   "execution_count": 66,
   "metadata": {},
   "outputs": [
    {
     "name": "stdout",
     "output_type": "stream",
     "text": [
      "(14811, 13)\n"
     ]
    },
    {
     "name": "stderr",
     "output_type": "stream",
     "text": [
      "C:\\Users\\benja\\AppData\\Local\\Temp\\ipykernel_13004\\955873534.py:3: UserWarning: pandas only supports SQLAlchemy connectable (engine/connection) or database string URI or sqlite3 DBAPI2 connection. Other DBAPI2 objects are not tested. Please consider using SQLAlchemy.\n",
      "  players = pd.read_sql(sql, cnxn)\n"
     ]
    }
   ],
   "source": [
    "sql = \"SELECT *, FirstName + ' ' + LastName AS [FullName] FROM MLB.Players\"\n",
    "\n",
    "players = pd.read_sql(sql, cnxn)\n",
    "\n",
    "print(players.shape)"
   ]
  },
  {
   "cell_type": "code",
   "execution_count": 67,
   "metadata": {},
   "outputs": [],
   "source": [
    "# Idea: Allow users to adjust this in the UI based on their league\n",
    "def calcFantasyBattingScoreYahoo(row):\n",
    "\tyahooScoringMap = {\n",
    "\t\t'AtBats': -0.25,\n",
    "\t\t'Runs': 1,\n",
    "\t\t'Hits': 1.25,\n",
    "\t\t'Doubles': 0.25, # Would be add on from the hits for a total of 1.5 per double\n",
    "\t\t'Triples': 0.5,\n",
    "\t\t'HomeRuns': 2.25,\n",
    "\t\t'RBI': 1,\n",
    "\t\t'Steals': 2.5,\n",
    "\t\t'Walks': 0.75,\n",
    "\t\t'HitByPitch': 0.75\n",
    "\t}\n",
    "\n",
    "\tretval = 0\n",
    "\n",
    "\tfor key in yahooScoringMap:\n",
    "\t\tretval += row[key] * yahooScoringMap[key]\n",
    "\n",
    "\treturn retval\n",
    "\t\t"
   ]
  },
  {
   "cell_type": "code",
   "execution_count": 68,
   "metadata": {},
   "outputs": [],
   "source": [
    "# print(data.iloc[0])\n",
    "# print(calcFantasyBattingScoreYahoo(data.iloc[0]))\n",
    "\n",
    "# data['FantasyScore'] = data.apply(calcFantasyBattingScoreYahoo, axis=1)\n",
    "\n",
    "# print(data['FantasyScore'])"
   ]
  },
  {
   "cell_type": "code",
   "execution_count": 77,
   "metadata": {},
   "outputs": [
    {
     "name": "stdout",
     "output_type": "stream",
     "text": [
      "{np.int64(24133): 1, np.int64(6093): 2, np.int64(4807): 3, np.int64(4391): 4, np.int64(8171): 5, np.int64(6835): 6, np.int64(5351): 7, np.int64(5379): 8, np.int64(4343): 9, np.int64(5573): 10, np.int64(6824): 11, np.int64(4734): 12, np.int64(5689): 13, np.int64(6010): 14, np.int64(5545): 15, np.int64(7082): 16, np.int64(10479): 17, np.int64(4700): 18, np.int64(7767): 19, np.int64(6466): 20, np.int64(4314): 21, np.int64(4531): 22, np.int64(4814): 23, np.int64(8311): 24, np.int64(5613): 25, np.int64(4610): 26, np.int64(5321): 27, np.int64(5077): 28, np.int64(5413): 29, np.int64(6299): 30, np.int64(4758): 31, np.int64(4329): 32, np.int64(5472): 33, np.int64(7374): 34, np.int64(4768): 35, np.int64(4363): 36, np.int64(5430): 37, np.int64(5510): 38, np.int64(4977): 39, np.int64(5047): 40, np.int64(4433): 41, np.int64(4938): 42, np.int64(6847): 43, np.int64(6046): 44, np.int64(6699): 45, np.int64(6815): 46, np.int64(5617): 47, np.int64(6872): 48, np.int64(10478): 49, np.int64(4580): 50, np.int64(4813): 51, np.int64(5400): 52, np.int64(5183): 53, np.int64(8135): 54, np.int64(6087): 55, np.int64(5175): 56, np.int64(10958): 57, np.int64(5079): 58, np.int64(5947): 59, np.int64(5728): 60, np.int64(8057): 61, np.int64(4525): 62, np.int64(6025): 63, np.int64(4494): 64, np.int64(4565): 65, np.int64(6994): 66, np.int64(4865): 67, np.int64(10983): 68, np.int64(5543): 69, np.int64(6813): 70, np.int64(4906): 71, np.int64(5337): 72, np.int64(4847): 73, np.int64(6863): 74, np.int64(4974): 75, np.int64(8569): 76, np.int64(5829): 77, np.int64(5286): 78, np.int64(5392): 79, np.int64(7438): 80, np.int64(4727): 81, np.int64(5513): 82, np.int64(5586): 83, np.int64(8056): 84, np.int64(7205): 85, np.int64(6368): 86, np.int64(5970): 87, np.int64(7995): 88, np.int64(5114): 89, np.int64(5748): 90, np.int64(5402): 91, np.int64(8570): 92, np.int64(6084): 93, np.int64(8082): 94, np.int64(6804): 95, np.int64(5848): 96, np.int64(4830): 97, np.int64(4446): 98, np.int64(5888): 99, np.int64(5022): 100, np.int64(5865): 101, np.int64(6834): 102, np.int64(6355): 103, np.int64(6810): 104, np.int64(6291): 105, np.int64(5480): 106, np.int64(4558): 107, np.int64(6363): 108, np.int64(7168): 109, np.int64(7864): 110, np.int64(4465): 111, np.int64(6919): 112, np.int64(5177): 113, np.int64(5871): 114, np.int64(6353): 115, np.int64(4933): 116, np.int64(8908): 117, np.int64(5577): 118, np.int64(5772): 119, np.int64(12336): 120, np.int64(8564): 121, np.int64(5051): 122, np.int64(4496): 123, np.int64(5355): 124, np.int64(5434): 125, np.int64(4500): 126, np.int64(7523): 127, np.int64(6763): 128, np.int64(4572): 559, np.int64(6937): 130, np.int64(5107): 131, np.int64(6465): 132, np.int64(10749): 133, np.int64(4817): 134, np.int64(7443): 135, np.int64(8186): 136, np.int64(6383): 137, np.int64(7012): 138, np.int64(4731): 139, np.int64(4340): 140, np.int64(5146): 141, np.int64(7375): 142, np.int64(5745): 143, np.int64(6296): 144, np.int64(6848): 145, np.int64(7966): 146, np.int64(4978): 147, np.int64(4678): 148, np.int64(4418): 149, np.int64(6287): 150, np.int64(7449): 151, np.int64(4486): 152, np.int64(4378): 153, np.int64(6534): 154, np.int64(4297): 155, np.int64(6175): 156, np.int64(4945): 157, np.int64(5461): 158, np.int64(5126): 159, np.int64(5678): 160, np.int64(6360): 161, np.int64(5214): 162, np.int64(4322): 163, np.int64(9192): 164, np.int64(6308): 165, np.int64(4832): 166, np.int64(5147): 167, np.int64(8563): 168, np.int64(6926): 169, np.int64(5764): 170, np.int64(5364): 171, np.int64(6521): 172, np.int64(6921): 173, np.int64(5839): 174, np.int64(7117): 175, np.int64(5390): 176, np.int64(6412): 177, np.int64(5356): 178, np.int64(5777): 179, np.int64(4992): 180, np.int64(4293): 181, np.int64(7499): 182, np.int64(7119): 183, np.int64(6901): 184, np.int64(5940): 185, np.int64(5060): 186, np.int64(6933): 187, np.int64(5090): 188, np.int64(6843): 189, np.int64(7221): 190, np.int64(4470): 191, np.int64(4538): 192, np.int64(6140): 193, np.int64(5735): 194, np.int64(4403): 195, np.int64(9137): 196, np.int64(6356): 197, np.int64(5595): 198, np.int64(7191): 199, np.int64(4442): 200, np.int64(5766): 201, np.int64(4969): 202, np.int64(5282): 203, np.int64(4811): 204, np.int64(5894): 205, np.int64(4736): 206, np.int64(4357): 207, np.int64(4949): 208, np.int64(6310): 209, np.int64(5868): 210, np.int64(4511): 211, np.int64(6460): 212, np.int64(8099): 213, np.int64(5887): 214, np.int64(7403): 215, np.int64(5236): 216, np.int64(5307): 217, np.int64(5323): 218, np.int64(4742): 219, np.int64(6820): 220, np.int64(6352): 221, np.int64(5950): 222, np.int64(7437): 223, np.int64(8567): 224, np.int64(4754): 225, np.int64(8015): 226, np.int64(6212): 227, np.int64(5460): 228, np.int64(5590): 229, np.int64(8022): 230, np.int64(5496): 231, np.int64(5194): 232, np.int64(10333): 233, np.int64(6533): 234, np.int64(6819): 235, np.int64(5454): 236, np.int64(4724): 237, np.int64(7409): 238, np.int64(10982): 239, np.int64(7081): 240, np.int64(4772): 241, np.int64(4666): 242, np.int64(7488): 243, np.int64(8066): 244, np.int64(7433): 245, np.int64(5247): 246, np.int64(6697): 247, np.int64(5446): 248, np.int64(5490): 249, np.int64(5619): 250, np.int64(4656): 251, np.int64(7172): 252, np.int64(5843): 253, np.int64(6133): 254, np.int64(7849): 255, np.int64(6716): 256, np.int64(6866): 257, np.int64(7884): 258, np.int64(5785): 259, np.int64(4479): 260, np.int64(6936): 261, np.int64(4634): 262, np.int64(7436): 263, np.int64(5664): 264, np.int64(6312): 265, np.int64(6939): 266, np.int64(5982): 267, np.int64(10312): 268, np.int64(5030): 269, np.int64(8128): 270, np.int64(8721): 271, np.int64(6464): 272, np.int64(6578): 273, np.int64(9150): 274, np.int64(4826): 275, np.int64(6513): 276, np.int64(4802): 277, np.int64(4495): 278, np.int64(4904): 279, np.int64(5600): 280, np.int64(4680): 281, np.int64(5977): 282, np.int64(5646): 283, np.int64(7129): 284, np.int64(4908): 285, np.int64(5624): 286, np.int64(5942): 287, np.int64(4926): 288, np.int64(6226): 289, np.int64(7972): 290, np.int64(9109): 291, np.int64(7251): 292, np.int64(4413): 293, np.int64(10713): 294, np.int64(6099): 295, np.int64(5222): 296, np.int64(5969): 297, np.int64(6528): 298, np.int64(7937): 299, np.int64(8076): 300, np.int64(8048): 301, np.int64(6710): 302, np.int64(5753): 303, np.int64(4372): 304, np.int64(9082): 305, np.int64(5867): 306, np.int64(8882): 307, np.int64(6284): 308, np.int64(9537): 309, np.int64(4934): 310, np.int64(5508): 311, np.int64(4707): 312, np.int64(5181): 313, np.int64(9470): 314, np.int64(8217): 315, np.int64(5192): 316, np.int64(6898): 317, np.int64(6643): 318, np.int64(6483): 319, np.int64(5726): 320, np.int64(4554): 321, np.int64(6218): 322, np.int64(5137): 323, np.int64(8009): 324, np.int64(6532): 325, np.int64(5179): 326, np.int64(5465): 327, np.int64(5102): 328, np.int64(4424): 329, np.int64(6251): 330, np.int64(6423): 331, np.int64(6386): 332, np.int64(7033): 333, np.int64(4900): 334, np.int64(7100): 335, np.int64(4671): 336, np.int64(5697): 337, np.int64(5484): 338, np.int64(6061): 339, np.int64(9159): 340, np.int64(5344): 341, np.int64(6028): 342, np.int64(5469): 343, np.int64(5604): 344, np.int64(7376): 345, np.int64(4392): 346, np.int64(4359): 347, np.int64(5292): 348, np.int64(8549): 349, np.int64(6459): 350, np.int64(5938): 351, np.int64(6495): 352, np.int64(4919): 353, np.int64(4519): 354, np.int64(4583): 355, np.int64(4973): 356, np.int64(4414): 357, np.int64(5462): 358, np.int64(7430): 359, np.int64(7970): 360, np.int64(7369): 361, np.int64(7974): 362, np.int64(7384): 363, np.int64(8024): 364, np.int64(4587): 365, np.int64(7571): 366, np.int64(7468): 367, np.int64(6887): 368, np.int64(6708): 369, np.int64(4522): 370, np.int64(4355): 371, np.int64(6714): 372, np.int64(6318): 373, np.int64(7493): 374, np.int64(6896): 375, np.int64(8848): 376, np.int64(12377): 377, np.int64(9070): 378, np.int64(5448): 379, np.int64(7986): 380, np.int64(4582): 381, np.int64(4751): 382, np.int64(8494): 383, np.int64(5466): 384, np.int64(5954): 385, np.int64(5906): 386, np.int64(5202): 387, np.int64(6991): 388, np.int64(5003): 389, np.int64(5491): 390, np.int64(5127): 391, np.int64(5017): 392, np.int64(5663): 393, np.int64(6301): 394, np.int64(5475): 395, np.int64(5705): 396, np.int64(7389): 397, np.int64(6750): 398, np.int64(6290): 399, np.int64(20246): 400, np.int64(10456): 401, np.int64(5872): 402, np.int64(5418): 403, np.int64(5007): 404, np.int64(4532): 405, np.int64(5483): 406, np.int64(7316): 407, np.int64(5743): 408, np.int64(5074): 409, np.int64(5422): 410, np.int64(6916): 411, np.int64(4887): 424, np.int64(5330): 413, np.int64(8233): 414, np.int64(5864): 415, np.int64(4647): 416, np.int64(6508): 417, np.int64(4968): 418, np.int64(5374): 419, np.int64(5916): 420, np.int64(4985): 421, np.int64(7964): 422, np.int64(4337): 423, np.int64(9154): 425, np.int64(7390): 426, np.int64(5368): 427, np.int64(10329): 428, np.int64(4643): 429, np.int64(5517): 430, np.int64(4471): 431, np.int64(9100): 432, np.int64(4719): 433, np.int64(5784): 434, np.int64(6267): 435, np.int64(11330): 436, np.int64(7378): 437, np.int64(9127): 438, np.int64(5190): 439, np.int64(4962): 440, np.int64(5755): 441, np.int64(8003): 442, np.int64(6344): 443, np.int64(6173): 444, np.int64(4365): 445, np.int64(4696): 446, np.int64(5249): 447, np.int64(4296): 448, np.int64(4362): 449, np.int64(7150): 450, np.int64(4533): 451, np.int64(4789): 452, np.int64(4960): 453, np.int64(4549): 454, np.int64(6439): 455, np.int64(9107): 456, np.int64(6780): 457, np.int64(4840): 458, np.int64(6392): 459, np.int64(7220): 460, np.int64(4791): 461, np.int64(6422): 462, np.int64(5972): 463, np.int64(9113): 464, np.int64(7987): 465, np.int64(7087): 466, np.int64(4801): 467, np.int64(4588): 468, np.int64(4930): 469, np.int64(6943): 470, np.int64(8562): 471, np.int64(6988): 472, np.int64(5277): 473, np.int64(5279): 474, np.int64(6457): 475, np.int64(6240): 476, np.int64(9400): 477, np.int64(5707): 478, np.int64(5290): 479, np.int64(7053): 480, np.int64(4809): 481, np.int64(5234): 482, np.int64(5988): 483, np.int64(7982): 484, np.int64(7978): 485, np.int64(5240): 486, np.int64(8129): 487, np.int64(4477): 488, np.int64(8798): 489, np.int64(5059): 490, np.int64(6647): 491, np.int64(5770): 492, np.int64(6086): 493, np.int64(6806): 494, np.int64(5367): 495, np.int64(6605): 496, np.int64(9322): 497, np.int64(6325): 498, np.int64(6279): 499, np.int64(9385): 500, np.int64(6359): 501, np.int64(6914): 502, np.int64(10412): 503, np.int64(6315): 504, np.int64(8583): 505, np.int64(9377): 506, np.int64(4546): 507, np.int64(4395): 508, np.int64(6242): 509, np.int64(4756): 510, np.int64(5997): 511, np.int64(4860): 512, np.int64(7979): 514, np.int64(7498): 515, np.int64(6345): 516, np.int64(4849): 517, np.int64(4857): 518, np.int64(7861): 519, np.int64(6249): 520, np.int64(10062): 521, np.int64(8072): 522, np.int64(8013): 523, np.int64(6899): 524, np.int64(6461): 525, np.int64(10704): 526, np.int64(4361): 527, np.int64(8600): 528, np.int64(11742): 529, np.int64(6163): 530, np.int64(8092): 531, np.int64(5800): 532, np.int64(4995): 533, np.int64(9093): 534, np.int64(6162): 535, np.int64(8187): 536, np.int64(7975): 537, np.int64(7968): 538, np.int64(5219): 539, np.int64(7432): 540, np.int64(5136): 541, np.int64(9433): 542, np.int64(4795): 543, np.int64(4454): 544, np.int64(6391): 545, np.int64(8486): 546, np.int64(9213): 547, np.int64(4468): 548, np.int64(11912): 549, np.int64(7071): 550, np.int64(6031): 551, np.int64(5264): 552, np.int64(5349): 553, np.int64(5546): 554, np.int64(5350): 555, np.int64(8409): 556, np.int64(5087): 557, np.int64(6381): 558, np.int64(4793): 560, np.int64(5338): 561, np.int64(4752): 562, np.int64(8392): 563, np.int64(4799): 564, np.int64(6395): 565, np.int64(5303): 566, np.int64(6923): 567, np.int64(10422): 568, np.int64(10204): 569, np.int64(5332): 570, np.int64(6816): 571, np.int64(8430): 572, np.int64(7372): 573, np.int64(9142): 574, np.int64(5548): 575, np.int64(5324): 576, np.int64(9514): 577, np.int64(4640): 578, np.int64(6003): 579, np.int64(4405): 580, np.int64(5873): 581, np.int64(7183): 582, np.int64(7030): 583, np.int64(5176): 584, np.int64(6016): 585, np.int64(5191): 586, np.int64(4672): 587, np.int64(5677): 588, np.int64(5431): 589, np.int64(6102): 590, np.int64(6849): 591, np.int64(5040): 592, np.int64(5561): 593, np.int64(6078): 594, np.int64(9404): 595, np.int64(8497): 596, np.int64(9246): 597, np.int64(4630): 598, np.int64(7667): 599, np.int64(4399): 600, np.int64(6854): 601, np.int64(5427): 602, np.int64(5433): 603, np.int64(5656): 604, np.int64(7454): 605, np.int64(4954): 606, np.int64(8254): 607, np.int64(5602): 608, np.int64(7998): 609, np.int64(7405): 610, np.int64(7069): 611, np.int64(5638): 612, np.int64(6934): 613, np.int64(8708): 614, np.int64(6327): 615, np.int64(9303): 616, np.int64(9135): 617, np.int64(10411): 618, np.int64(4686): 619, np.int64(9983): 620, np.int64(5567): 621, np.int64(7076): 622, np.int64(6424): 623, np.int64(6552): 624, np.int64(7689): 625, np.int64(7417): 626, np.int64(9202): 627, np.int64(5978): 628, np.int64(6378): 629, np.int64(4476): 630, np.int64(8464): 631, np.int64(11752): 632, np.int64(7202): 633, np.int64(7373): 634, np.int64(9138): 635, np.int64(5583): 636, np.int64(8240): 637, np.int64(7971): 638, np.int64(7400): 639, np.int64(7504): 640, np.int64(4564): 641, np.int64(9228): 642, np.int64(4576): 643, np.int64(6255): 644, np.int64(6996): 645, np.int64(7289): 646, np.int64(6425): 647, np.int64(5275): 648, np.int64(4910): 649, np.int64(9200): 650, np.int64(8800): 651, np.int64(5637): 652, np.int64(6886): 653, np.int64(5598): 654, np.int64(4493): 655, np.int64(7527): 656, np.int64(5204): 657, np.int64(5851): 658, np.int64(5944): 659, np.int64(5889): 660, np.int64(4893): 661, np.int64(5380): 662, np.int64(6477): 663, np.int64(4508): 664, np.int64(7392): 665, np.int64(4988): 666, np.int64(4306): 667, np.int64(6336): 668, np.int64(7065): 669, np.int64(6334): 670, np.int64(5721): 671, np.int64(7946): 672, np.int64(7896): 673, np.int64(8777): 674, np.int64(6404): 675, np.int64(6274): 676, np.int64(8693): 677, np.int64(7261): 678, np.int64(5704): 679, np.int64(10313): 680, np.int64(7535): 681, np.int64(5067): 682, np.int64(9454): 683, np.int64(8849): 684, np.int64(7431): 685, np.int64(7015): 686, np.int64(5935): 687, np.int64(4864): 688, np.int64(11766): 689, np.int64(5644): 690, np.int64(5740): 691, np.int64(5953): 692, np.int64(6224): 693, np.int64(5004): 694, np.int64(7456): 695, np.int64(5761): 696, np.int64(4352): 697, np.int64(10954): 698, np.int64(8031): 699, np.int64(4339): 700, np.int64(12930): 701, np.int64(4950): 702, np.int64(21389): 703, np.int64(8224): 704, np.int64(5010): 705, np.int64(5509): 706, np.int64(5429): 707, np.int64(5579): 708, np.int64(4673): 709, np.int64(8156): 710, np.int64(9085): 711, np.int64(10269): 712, np.int64(6166): 713, np.int64(4641): 714, np.int64(6877): 715, np.int64(7112): 716, np.int64(4971): 717, np.int64(6411): 718, np.int64(6910): 719, np.int64(6641): 720, np.int64(7681): 721, np.int64(11770): 722, np.int64(10271): 723, np.int64(9094): 724, np.int64(11693): 725, np.int64(7548): 726, np.int64(8219): 727, np.int64(4922): 728, np.int64(4302): 729, np.int64(8444): 730, np.int64(4492): 731, np.int64(10314): 732, np.int64(5058): 733, np.int64(5518): 734, np.int64(6292): 735, np.int64(4833): 736, np.int64(5438): 737, np.int64(9167): 738, np.int64(4806): 739, np.int64(8115): 740, np.int64(12006): 741, np.int64(5185): 742, np.int64(10688): 743, np.int64(4853): 744, np.int64(8109): 745, np.int64(11659): 746, np.int64(7158): 747, np.int64(10890): 748, np.int64(8095): 749, np.int64(9181): 750, np.int64(5369): 751, np.int64(5258): 752, np.int64(6613): 753, np.int64(5122): 754, np.int64(5779): 755, np.int64(9510): 756, np.int64(9477): 757, np.int64(6320): 758, np.int64(6995): 759, np.int64(4416): 760, np.int64(9073): 761, np.int64(4419): 762, np.int64(5000): 763, np.int64(4766): 764, np.int64(9267): 765, np.int64(10793): 766, np.int64(6624): 767, np.int64(4523): 768, np.int64(7036): 769, np.int64(7452): 770, np.int64(7902): 771, np.int64(4613): 772, np.int64(9297): 773, np.int64(8605): 774, np.int64(5580): 775, np.int64(7887): 776, np.int64(6742): 777, np.int64(9124): 778, np.int64(5749): 779, np.int64(5945): 780, np.int64(5474): 781, np.int64(5111): 782, np.int64(6506): 783, np.int64(6891): 784, np.int64(6076): 785, np.int64(9534): 786, np.int64(4757): 787, np.int64(5670): 788, np.int64(4436): 789, np.int64(4838): 790, np.int64(5215): 791, np.int64(9447): 792, np.int64(5353): 793, np.int64(6928): 794, np.int64(7379): 795, np.int64(5225): 796, np.int64(6982): 797, np.int64(5885): 798, np.int64(7175): 799, np.int64(11788): 800, np.int64(5555): 801, np.int64(10515): 802, np.int64(6903): 803, np.int64(9445): 804, np.int64(8619): 805, np.int64(5519): 806, np.int64(5371): 807, np.int64(5884): 808, np.int64(4706): 809, np.int64(7948): 810, np.int64(9112): 811, np.int64(7164): 812, np.int64(7774): 813, np.int64(7578): 814, np.int64(10172): 815, np.int64(5343): 816, np.int64(6281): 817, np.int64(5445): 818, np.int64(6064): 819, np.int64(8470): 820, np.int64(7121): 821, np.int64(4963): 822, np.int64(4453): 823, np.int64(5718): 824, np.int64(6114): 825, np.int64(8745): 826, np.int64(5694): 827, np.int64(5544): 828, np.int64(4701): 829, np.int64(5451): 830, np.int64(9184): 831, np.int64(9193): 832, np.int64(5696): 833, np.int64(7388): 834, np.int64(7521): 835, np.int64(6151): 836, np.int64(11954): 837, np.int64(8638): 838, np.int64(5241): 839, np.int64(7554): 840, np.int64(6113): 841, np.int64(9203): 842, np.int64(5811): 843, np.int64(4936): 844, np.int64(7161): 845, np.int64(8921): 846, np.int64(7116): 847, np.int64(4745): 848, np.int64(5892): 849, np.int64(7627): 850, np.int64(5464): 851, np.int64(8343): 852, np.int64(4760): 853, np.int64(8706): 854, np.int64(7550): 855, np.int64(5196): 856, np.int64(11327): 857, np.int64(8854): 858, np.int64(4894): 859, np.int64(4336): 860, np.int64(7422): 861, np.int64(10202): 862, np.int64(7945): 863, np.int64(4604): 864, np.int64(6764): 865, np.int64(8505): 866, np.int64(6152): 867, np.int64(7977): 868, np.int64(6300): 869, np.int64(5252): 870, np.int64(6969): 871, np.int64(5112): 872, np.int64(10520): 873, np.int64(5682): 874, np.int64(9218): 875, np.int64(6585): 876, np.int64(12256): 877, np.int64(4844): 878, np.int64(6931): 879, np.int64(4958): 880, np.int64(5481): 881, np.int64(10345): 882, np.int64(5594): 883, np.int64(4557): 884, np.int64(10752): 885, np.int64(7280): 886, np.int64(7447): 887, np.int64(8070): 888, np.int64(7517): 889, np.int64(5549): 890, np.int64(9402): 891, np.int64(4779): 892, np.int64(5163): 893, np.int64(6326): 894, np.int64(4475): 895, np.int64(5796): 896, np.int64(9387): 897, np.int64(11643): 898, np.int64(6041): 899, np.int64(23235): 900, np.int64(6837): 901, np.int64(6186): 902, np.int64(8561): 903, np.int64(9565): 904, np.int64(10938): 905, np.int64(6885): 906, np.int64(6373): 907, np.int64(10660): 908, np.int64(8830): 909, np.int64(5503): 910, np.int64(8000): 911}\n",
      "[]\n",
      "911\n"
     ]
    }
   ],
   "source": [
    "# print(players.head())\n",
    "fantasy_pros = pd.read_csv('FantasyPros_2025_Draft_ALL_Rankings.csv')\n",
    "\n",
    "fantasy_map = {}\n",
    "missing_players = []\n",
    "\n",
    "for index, row in fantasy_pros.iterrows():\n",
    "\t#  and players['Position'] in row.Pos\n",
    "\trslt_df = players[players['FullName'] == row.Name]\n",
    "\tif (rslt_df.size == 0):\n",
    "\t\t# print(row.Name)\n",
    "\t\tmissing_players.append(row.Name)\n",
    "\t\tcontinue\n",
    "\n",
    "\tplayerID = rslt_df.iloc[0]['PlayerID']\n",
    "\t# print(playerID)\n",
    "\n",
    "\t# print(rslt_df.PlayerID)\n",
    "\tfantasy_map[playerID] = row.RK\n",
    "\n",
    "print(fantasy_map)\n",
    "print(missing_players)\n",
    "print(fantasy_map[8000])\n"
   ]
  }
 ],
 "metadata": {
  "kernelspec": {
   "display_name": ".venv",
   "language": "python",
   "name": "python3"
  },
  "language_info": {
   "codemirror_mode": {
    "name": "ipython",
    "version": 3
   },
   "file_extension": ".py",
   "mimetype": "text/x-python",
   "name": "python",
   "nbconvert_exporter": "python",
   "pygments_lexer": "ipython3",
   "version": "3.12.0"
  }
 },
 "nbformat": 4,
 "nbformat_minor": 2
}
