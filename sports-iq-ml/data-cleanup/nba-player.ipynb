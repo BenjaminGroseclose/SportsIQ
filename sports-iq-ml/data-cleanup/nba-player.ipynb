{
 "cells": [
  {
   "cell_type": "code",
   "execution_count": 37,
   "metadata": {},
   "outputs": [
    {
     "name": "stdout",
     "output_type": "stream",
     "text": [
      "   Rk                   Player  Age Team Pos   G  GS    MP    FG   FGA  ...  \\\n",
      "0   1  Shai Gilgeous-Alexander   26  OKC  PG  44  44  34.4  11.3  21.4  ...   \n",
      "1   2    Giannis Antetokounmpo   30  MIL  PF  38  38  34.8  12.6  20.8  ...   \n",
      "2   3             Nikola Jokić   29  DEN   C  40  40  36.4  11.5  20.1  ...   \n",
      "3   4              LaMelo Ball   23  CHO  PG  31  31  33.3   9.7  23.3  ...   \n",
      "4   5              Luka Dončić   25  DAL  PG  22  22  35.7   9.8  21.2  ...   \n",
      "\n",
      "    DRB   TRB   AST  STL  BLK  TOV   PF   PTS  Awards  Player-additional  \n",
      "0   4.4   5.3   6.0  2.1  1.1  2.7  2.2  32.1     NaN          gilgesh01  \n",
      "1  10.0  12.2   5.9  0.8  1.4  3.4  2.4  31.5     NaN          antetgi01  \n",
      "2   9.8  13.1  10.2  1.8  0.7  3.1  2.0  30.0     NaN          jokicni01  \n",
      "3   4.3   5.3   7.3  1.4  0.3  3.7  3.5  28.2     NaN           ballla01  \n",
      "4   7.6   8.3   7.8  2.0  0.4  3.4  2.6  28.1     NaN          doncilu01  \n",
      "\n",
      "[5 rows x 32 columns]\n",
      "(548, 32)\n"
     ]
    }
   ],
   "source": [
    "import pandas as pd\n",
    "\n",
    "nbaPlayers = pd.read_csv('../../data/nba/players.csv')\n",
    "\n",
    "print(nbaPlayers.head())\n",
    "print(nbaPlayers.shape)"
   ]
  },
  {
   "cell_type": "code",
   "execution_count": 38,
   "metadata": {},
   "outputs": [
    {
     "name": "stdout",
     "output_type": "stream",
     "text": [
      "                    player position  age team  game  game-starts  \\\n",
      "0  Shai Gilgeous-Alexander       PG   26  OKC    44           44   \n",
      "1    Giannis Antetokounmpo       PF   30  MIL    38           38   \n",
      "2             Nikola Jokić        C   29  DEN    40           40   \n",
      "3              LaMelo Ball       PG   23  CHO    31           31   \n",
      "4              Luka Dončić       PG   25  DAL    22           22   \n",
      "\n",
      "   minutes-per-game  field-goals  field-goal-attempts  field-point-percent  \\\n",
      "0              34.4         11.3                 21.4                0.528   \n",
      "1              34.8         12.6                 20.8                0.605   \n",
      "2              36.4         11.5                 20.1                0.570   \n",
      "3              33.3          9.7                 23.3                0.419   \n",
      "4              35.7          9.8                 21.2                0.464   \n",
      "\n",
      "   ...  offensive-rebounds  defensive-rebounds  total-rebounds  assists  \\\n",
      "0  ...                 0.9                 4.4             5.3      6.0   \n",
      "1  ...                 2.2                10.0            12.2      5.9   \n",
      "2  ...                 3.3                 9.8            13.1     10.2   \n",
      "3  ...                 1.0                 4.3             5.3      7.3   \n",
      "4  ...                 0.7                 7.6             8.3      7.8   \n",
      "\n",
      "   steals  blocks  turnover  personal-fouls  points-per-game  year  \n",
      "0     2.1     1.1       2.7             2.2             32.1  2025  \n",
      "1     0.8     1.4       3.4             2.4             31.5  2025  \n",
      "2     1.8     0.7       3.1             2.0             30.0  2025  \n",
      "3     1.4     0.3       3.7             3.5             28.2  2025  \n",
      "4     2.0     0.4       3.4             2.6             28.1  2025  \n",
      "\n",
      "[5 rows x 30 columns]\n",
      "(548, 30)\n"
     ]
    }
   ],
   "source": [
    "nbaPlayerScrubbed = pd.DataFrame({\n",
    "    'player': nbaPlayers['Player'],\n",
    "    'position': nbaPlayers['Pos'],\n",
    "    'age': nbaPlayers['Age'],\n",
    "    'team': nbaPlayers['Team'],\n",
    "    'game': nbaPlayers['G'],\n",
    "    'game-starts': nbaPlayers['GS'],\n",
    "    'minutes-per-game': nbaPlayers['MP'],\n",
    "    'field-goals': nbaPlayers['FG'],\n",
    "    'field-goal-attempts': nbaPlayers['FGA'],\n",
    "    'field-point-percent': nbaPlayers['FG%'],\n",
    "\t\t'three-points': nbaPlayers['3P'],\n",
    "\t\t'three-point-attempts': nbaPlayers['3PA'],\n",
    "\t\t'three-point-percent': nbaPlayers['3P%'],\n",
    "\t\t'two-points': nbaPlayers['2P'],\n",
    "\t\t'two-point-attempts': nbaPlayers['2PA'],\n",
    "\t\t'two-point-percent': nbaPlayers['2P%'],\n",
    "\t\t'e-field-goal-percent': nbaPlayers['eFG%'],\n",
    "\t\t'free-throws': nbaPlayers['FT'],\n",
    "\t\t'free-throw-attempts': nbaPlayers['FTA'],\n",
    "\t\t'free-throw-percent': nbaPlayers['FT%'],\n",
    "\t\t'offensive-rebounds': nbaPlayers['ORB'],\n",
    "\t\t'defensive-rebounds': nbaPlayers['DRB'],\n",
    "\t\t'total-rebounds': nbaPlayers['TRB'],\n",
    "\t\t'assists': nbaPlayers['AST'],\n",
    "\t\t'steals': nbaPlayers['STL'],\n",
    "\t\t'blocks': nbaPlayers['BLK'],\n",
    "\t\t'turnover': nbaPlayers['TOV'],\n",
    "\t\t'personal-fouls': nbaPlayers['PF'],\n",
    "\t\t'points-per-game': nbaPlayers['PTS'],\n",
    "\t\t'year': 2025,\n",
    "})\n",
    "\n",
    "print(nbaPlayerScrubbed.head())\n",
    "print(nbaPlayerScrubbed.shape)\n",
    "\n",
    "nbaPlayerScrubbed.to_csv('../../data/nba-players.csv', index=False)"
   ]
  }
 ],
 "metadata": {
  "kernelspec": {
   "display_name": "Python 3",
   "language": "python",
   "name": "python3"
  },
  "language_info": {
   "codemirror_mode": {
    "name": "ipython",
    "version": 3
   },
   "file_extension": ".py",
   "mimetype": "text/x-python",
   "name": "python",
   "nbconvert_exporter": "python",
   "pygments_lexer": "ipython3",
   "version": "3.12.0"
  }
 },
 "nbformat": 4,
 "nbformat_minor": 2
}
