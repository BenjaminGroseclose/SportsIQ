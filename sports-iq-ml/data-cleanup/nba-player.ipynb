{
 "cells": [
  {
   "cell_type": "code",
   "execution_count": 9,
   "metadata": {},
   "outputs": [
    {
     "name": "stdout",
     "output_type": "stream",
     "text": [
      "  Rk              Player Pos Age   Tm   G  GS    MP   FG   FGA  ...  ORB  DRB  \\\n",
      "0  1      Alaa Abdelnaby  PF  22  POR  43   0   6.7  1.3   2.7  ...  0.6  1.4   \n",
      "1  2  Mahmoud Abdul-Rauf  PG  21  DEN  67  19  22.5  6.2  15.1  ...  0.5  1.3   \n",
      "2  3          Mark Acres   C  28  ORL  68   0  19.3  1.6   3.1  ...  2.1  3.2   \n",
      "3  4       Michael Adams  PG  28  DEN  66  66  35.5  8.5  21.5  ...  0.9    3   \n",
      "4  5        Mark Aguirre  SF  31  DET  78  13  25.7  5.4  11.7  ...  1.7  3.1   \n",
      "\n",
      "   TRB   AST  STL  BLK  TOV   PF   PTS  Year  \n",
      "0  2.1   0.3  0.1  0.3  0.5  0.9   3.1  1991  \n",
      "1  1.8   3.1  0.8  0.1  1.6  2.2  14.1  1991  \n",
      "2  5.3   0.4  0.4  0.4  0.6  3.2   4.2  1991  \n",
      "3  3.9  10.5  2.2  0.1  3.6  2.5  26.5  1991  \n",
      "4  4.8   1.8  0.6  0.3  1.6  2.7  14.2  1991  \n",
      "\n",
      "[5 rows x 31 columns]\n",
      "(18044, 31)\n"
     ]
    }
   ],
   "source": [
    "import pandas as pd\n",
    "\n",
    "nbaPlayers = pd.read_csv('../../data/nba/players.csv', sep=';')\n",
    "\n",
    "# print(nbaPlayers.head())\n",
    "print(nbaPlayers.shape)\n",
    "\n",
    "nbaPlayerScrubbed = pd.DataFrame({\n",
    "    'player': nbaPlayers['Player'],\n",
    "    'FG%': nbaPlayers['FG%'],\n",
    "    '3P%': nbaPlayers['3P%'],\n",
    "    'FT%': nbaPlayers['FT%'],\n",
    "    'ORB': nbaPlayers['ORB'],\n",
    "    'DRB': nbaPlayers['DRB'],\n",
    "    'TRB': nbaPlayers['TRB'],\n",
    "    'Assists': nbaPlayers['AST'],\n",
    "    'Steals': nbaPlayers['STL'],\n",
    "    'Block': nbaPlayers['BLK'],\n",
    "    'Offensive Rating': nbaPlayers['PTS'],\n",
    "})\n",
    "\n",
    "# nbaPlayerScrubbed = "
   ]
  }
 ],
 "metadata": {
  "kernelspec": {
   "display_name": "Python 3",
   "language": "python",
   "name": "python3"
  },
  "language_info": {
   "codemirror_mode": {
    "name": "ipython",
    "version": 3
   },
   "file_extension": ".py",
   "mimetype": "text/x-python",
   "name": "python",
   "nbconvert_exporter": "python",
   "pygments_lexer": "ipython3",
   "version": "3.12.0"
  }
 },
 "nbformat": 4,
 "nbformat_minor": 2
}
