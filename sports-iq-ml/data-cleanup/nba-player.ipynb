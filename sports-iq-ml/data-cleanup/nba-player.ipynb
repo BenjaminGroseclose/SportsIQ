{
 "cells": [
  {
   "cell_type": "code",
   "execution_count": null,
   "metadata": {},
   "outputs": [
    {
     "name": "stdout",
     "output_type": "stream",
     "text": [
      "(18044, 31)\n",
      "  Rk              Player Pos Age   Tm   G  GS    MP   FG   FGA  ...  ORB  DRB  \\\n",
      "0  1      Alaa Abdelnaby  PF  22  POR  43   0   6.7  1.3   2.7  ...  0.6  1.4   \n",
      "1  2  Mahmoud Abdul-Rauf  PG  21  DEN  67  19  22.5  6.2  15.1  ...  0.5  1.3   \n",
      "2  3          Mark Acres   C  28  ORL  68   0  19.3  1.6   3.1  ...  2.1  3.2   \n",
      "3  4       Michael Adams  PG  28  DEN  66  66  35.5  8.5  21.5  ...  0.9    3   \n",
      "4  5        Mark Aguirre  SF  31  DET  78  13  25.7  5.4  11.7  ...  1.7  3.1   \n",
      "\n",
      "   TRB   AST  STL  BLK  TOV   PF   PTS  Year  \n",
      "0  2.1   0.3  0.1  0.3  0.5  0.9   3.1  1991  \n",
      "1  1.8   3.1  0.8  0.1  1.6  2.2  14.1  1991  \n",
      "2  5.3   0.4  0.4  0.4  0.6  3.2   4.2  1991  \n",
      "3  3.9  10.5  2.2  0.1  3.6  2.5  26.5  1991  \n",
      "4  4.8   1.8  0.6  0.3  1.6  2.7  14.2  1991  \n",
      "\n",
      "[5 rows x 31 columns]\n"
     ]
    }
   ],
   "source": [
    "import pandas as pd\n",
    "\n",
    "nbaPlayers = pd.read_csv('../../data/nba/players.csv', sep=';')\n",
    "\n",
    "# print(nbaPlayers.head())\n",
    "print(nbaPlayers.shape)"
   ]
  },
  {
   "cell_type": "code",
   "execution_count": 8,
   "metadata": {},
   "outputs": [
    {
     "name": "stdout",
     "output_type": "stream",
     "text": [
      "player                  0\n",
      "position                0\n",
      "age                     0\n",
      "team                    0\n",
      "game                    0\n",
      "game-starts             0\n",
      "minutes-per-game        0\n",
      "field-goals             0\n",
      "field-goal-attempts     0\n",
      "field-point-percent     0\n",
      "three-points            0\n",
      "three-point-attempts    0\n",
      "three-point-percent     0\n",
      "two-points              0\n",
      "two-point-attempts      0\n",
      "two-point-percent       0\n",
      "e-field-goal-percent    0\n",
      "free-throws             0\n",
      "free-throw-attempts     0\n",
      "free-throw-percent      0\n",
      "offensive-rebounds      0\n",
      "defensive-rebounds      0\n",
      "total-rebounds          0\n",
      "assists                 0\n",
      "steals                  0\n",
      "blocks                  0\n",
      "turnover                0\n",
      "personal-fouls          0\n",
      "points-per-game         0\n",
      "year                    0\n",
      "dtype: int64\n"
     ]
    }
   ],
   "source": [
    "nbaPlayerScrubbed = pd.DataFrame({\n",
    "    'player': nbaPlayers['Player'],\n",
    "    'position': nbaPlayers['Pos'],\n",
    "    'age': nbaPlayers['Age'],\n",
    "    'team': nbaPlayers['Tm'],\n",
    "    'game': nbaPlayers['G'],\n",
    "    'game-starts': nbaPlayers['GS'],\n",
    "    'minutes-per-game': nbaPlayers['MP'],\n",
    "    'field-goals': nbaPlayers['FG'],\n",
    "    'field-goal-attempts': nbaPlayers['FGA'],\n",
    "    'field-point-percent': nbaPlayers['FG%'],\n",
    "\t\t'three-points': nbaPlayers['3P'],\n",
    "\t\t'three-point-attempts': nbaPlayers['3PA'],\n",
    "\t\t'three-point-percent': nbaPlayers['3P%'],\n",
    "\t\t'two-points': nbaPlayers['2P'],\n",
    "\t\t'two-point-attempts': nbaPlayers['2PA'],\n",
    "\t\t'two-point-percent': nbaPlayers['2P%'],\n",
    "\t\t'e-field-goal-percent': nbaPlayers['eFG%'],\n",
    "\t\t'free-throws': nbaPlayers['FT'],\n",
    "\t\t'free-throw-attempts': nbaPlayers['FTA'],\n",
    "\t\t'free-throw-percent': nbaPlayers['FT%'],\n",
    "\t\t'offensive-rebounds': nbaPlayers['ORB'],\n",
    "\t\t'defensive-rebounds': nbaPlayers['DRB'],\n",
    "\t\t'total-rebounds': nbaPlayers['TRB'],\n",
    "\t\t'assists': nbaPlayers['AST'],\n",
    "\t\t'steals': nbaPlayers['STL'],\n",
    "\t\t'blocks': nbaPlayers['BLK'],\n",
    "\t\t'turnover': nbaPlayers['TOV'],\n",
    "\t\t'personal-fouls': nbaPlayers['PF'],\n",
    "\t\t'points-per-game': nbaPlayers['PTS'],\n",
    "\t\t'year': nbaPlayers['Year'],\n",
    "})\n",
    "\n",
    "# print(nbaPlayerScrubbed.head())\n",
    "\n",
    "null_mask = nbaPlayerScrubbed.isnull() \n",
    "null_counts = nbaPlayerScrubbed.isnull().sum()\n",
    "\n",
    "print(null_counts)\n",
    "\n",
    "# nbaPlayerScrubbed.to_csv('../../data/nba-players.csv', index=False)"
   ]
  }
 ],
 "metadata": {
  "kernelspec": {
   "display_name": "Python 3",
   "language": "python",
   "name": "python3"
  },
  "language_info": {
   "codemirror_mode": {
    "name": "ipython",
    "version": 3
   },
   "file_extension": ".py",
   "mimetype": "text/x-python",
   "name": "python",
   "nbconvert_exporter": "python",
   "pygments_lexer": "ipython3",
   "version": "3.13.1"
  }
 },
 "nbformat": 4,
 "nbformat_minor": 2
}
