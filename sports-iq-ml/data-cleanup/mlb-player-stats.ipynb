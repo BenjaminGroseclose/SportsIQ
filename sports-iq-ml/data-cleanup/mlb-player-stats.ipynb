{
 "cells": [
  {
   "cell_type": "code",
   "execution_count": 24,
   "metadata": {},
   "outputs": [
    {
     "name": "stdout",
     "output_type": "stream",
     "text": [
      "Index(['StatID', 'TeamID', 'PlayerID', 'SeasonType', 'Season', 'Name', 'Team',\n",
      "       'Position', 'PositionCategory', 'Started', 'AverageDraftPosition',\n",
      "       'AuctionValue', 'Games', 'FantasyPoints', 'AtBats', 'Runs', 'Hits',\n",
      "       'Singles', 'Doubles', 'Triples', 'HomeRuns', 'RunsBattedIn',\n",
      "       'BattingAverage', 'Outs', 'Strikeouts', 'Walks', 'HitByPitch',\n",
      "       'Sacrifices', 'SacrificeFlies', 'GroundIntoDoublePlay', 'StolenBases',\n",
      "       'CaughtStealing', 'OnBasePercentage', 'SluggingPercentage',\n",
      "       'OnBasePlusSlugging', 'Wins', 'Losses', 'Saves',\n",
      "       'InningsPitchedDecimal', 'TotalOutsPitched', 'InningsPitchedFull',\n",
      "       'InningsPitchedOuts', 'EarnedRunAverage', 'PitchingHits',\n",
      "       'PitchingRuns', 'PitchingEarnedRuns', 'PitchingWalks',\n",
      "       'PitchingStrikeouts', 'PitchingHomeRuns', 'PitchesThrown',\n",
      "       'PitchesThrownStrikes', 'WalksHitsPerInningsPitched',\n",
      "       'PitchingBattingAverageAgainst', 'FantasyPointsFanDuel',\n",
      "       'FantasyPointsDraftKings', 'WeightedOnBasePercentage',\n",
      "       'PitchingCompleteGames', 'PitchingShutOuts', 'PitchingOnBasePercentage',\n",
      "       'PitchingSluggingPercentage', 'PitchingOnBasePlusSlugging',\n",
      "       'PitchingStrikeoutsPerNineInnings', 'PitchingWalksPerNineInnings',\n",
      "       'PitchingWeightedOnBasePercentage', 'FantasyPointsBatting',\n",
      "       'FantasyPointsPitching'],\n",
      "      dtype='object')\n",
      "(5365, 66)\n"
     ]
    }
   ],
   "source": [
    "import pyodbc \n",
    "import pandas as pd\n",
    "import numpy as np\n",
    "from datetime import datetime\n",
    "\n",
    "df = pd.read_csv(\"./PlayerSeason.2024.csv\")\n",
    "\n",
    "print(df.columns)\n",
    "print(df.shape)\n",
    "\n",
    "# TODO: https://www.dropbox.com/scl/fi/hy0sxw6gaai7ghemrshi8/lahman_1871-2023_csv.7z?dl=0&e=1&file_subpath=%2Flahman_1871-2023_csv&rlkey=edw1u63zzxg48gvpcmr3qpnhz"
   ]
  },
  {
   "cell_type": "code",
   "execution_count": null,
   "metadata": {},
   "outputs": [],
   "source": [
    "server = 'tcp:sports-iq.database.windows.net,1433' \n",
    "database = 'main' \n",
    "username = 'CloudSAeab82b26' \n",
    "password = ''\n",
    "\n",
    "cnxn = pyodbc.connect('DRIVER={SQL Server};SERVER='+server+';DATABASE='+database+';UID='+username+';PWD='+ password)\n",
    "cursor = cnxn.cursor()"
   ]
  },
  {
   "cell_type": "code",
   "execution_count": 26,
   "metadata": {},
   "outputs": [
    {
     "name": "stdout",
     "output_type": "stream",
     "text": [
      "(5365, 66)\n"
     ]
    }
   ],
   "source": [
    "df = df.dropna(subset=['TeamID'])\n",
    "df = df.dropna(subset=['PlayerID'])\n",
    "\n",
    "print(df.shape)"
   ]
  },
  {
   "cell_type": "code",
   "execution_count": 27,
   "metadata": {},
   "outputs": [
    {
     "data": {
      "text/plain": [
       "\"\\nIndex(['StatID', 'TeamID', 'PlayerID', 'SeasonType', 'Season', 'Name', 'Team',\\n       'Position', 'PositionCategory', 'Started', 'AverageDraftPosition',\\n       'AuctionValue', 'Games', 'FantasyPoints', 'AtBats', 'Runs', 'Hits',\\n       'Singles', 'Doubles', 'Triples', 'HomeRuns', 'RunsBattedIn',\\n       'BattingAverage', 'Outs', 'Strikeouts', 'Walks', 'HitByPitch',\\n       'Sacrifices', 'SacrificeFlies', 'GroundIntoDoublePlay', 'StolenBases',\\n       'CaughtStealing', 'OnBasePercentage', 'SluggingPercentage',\\n       'OnBasePlusSlugging', 'Wins', 'Losses', 'Saves',\\n       'InningsPitchedDecimal', 'TotalOutsPitched', 'InningsPitchedFull',\\n       'InningsPitchedOuts', 'EarnedRunAverage', 'PitchingHits',\\n       'PitchingRuns', 'PitchingEarnedRuns', 'PitchingWalks',\\n       'PitchingStrikeouts', 'PitchingHomeRuns', 'PitchesThrown',\\n       'PitchesThrownStrikes', 'WalksHitsPerInningsPitched',\\n       'PitchingBattingAverageAgainst', 'FantasyPointsFanDuel',\\n       'FantasyPointsDraftKings', 'WeightedOnBasePercentage',\\n       'PitchingCompleteGames', 'PitchingShutOuts', 'PitchingOnBasePercentage',\\n       'PitchingSluggingPercentage', 'PitchingOnBasePlusSlugging',\\n       'PitchingStrikeoutsPerNineInnings', 'PitchingWalksPerNineInnings',\\n       'PitchingWeightedOnBasePercentage', 'FantasyPointsBatting',\\n       'FantasyPointsPitching'],\\n\""
      ]
     },
     "execution_count": 27,
     "metadata": {},
     "output_type": "execute_result"
    }
   ],
   "source": [
    "for index, row in df.iterrows():\n",
    "\t\tplayerID = None\n",
    "\t\tteamID = None\n",
    "\t\t\n",
    "\t\tcursor.execute(\"SELECT PlayerID FROM MLB.Players WHERE ExternalPlayerID = ?\", row.PlayerID)\n",
    "\t\tplayer = cursor.fetchone()\n",
    "\t\tif (player is not None):\n",
    "\t\t\tplayerID = player[0]\n",
    "\n",
    "\t\tcursor.execute(\"SELECT TeamID FROM MLB.Teams WHERE ExternalTeamID = ?\", row.TeamID)\n",
    "\t\tteam = cursor.fetchone()\n",
    "\t\tif (team is not None):\n",
    "\t\t\tteamID = team[0]\n",
    "\n",
    "\t\tif (playerID is None or teamID is None):\n",
    "\t\t\tcontinue\n",
    "\n",
    "\t\tcursor.execute(\"\"\"\n",
    "\t\t\tINSERT INTO MLB.Batting\n",
    "\t\t\t(\n",
    "\t\t\t\t\tPlayerID, TeamID, Season, SeasonType, Games, Starts, AtBats, Runs, Hits, Singles,\n",
    "\t\t\t\t\tDoubles, Triples, HomeRuns, RunsBattedIn, BattingAverage, Outs, Strikeouts,\n",
    "\t\t\t\t\tWalks, HitByPitch, Steals, CaughtStealing, OBP, Slug, OBPPlus\n",
    "\t\t\t)\n",
    "\t\t\tVALUES (?,?,?,?,?,?,?,?,?,?,?,?,?,?,?,?,?,?,?,?,?,?,?,?)\n",
    "\t\t\t\"\"\",\n",
    "\t\t\tplayerID, teamID, row.Season, row.SeasonType, row.Games, row.Started, row.AtBats, row.Runs, row.Hits, row.Singles,\n",
    "\t\t\trow.Doubles, row.Triples, row.HomeRuns, row.RunsBattedIn, row.BattingAverage, row.Outs, row.Strikeouts,\n",
    "\t\t\trow.Walks, row.HitByPitch, row.StolenBases, row.CaughtStealing, row.OnBasePercentage, row.SluggingPercentage, row.OnBasePlusSlugging)\n",
    "\t\t\n",
    "\t\t# Only insert Pitchers\n",
    "\t\tif (row.PositionCategory == 'P'):\n",
    "\t\t\tcursor.execute(\"\"\"\n",
    "\t\t\t\tINSERT INTO MLB.Pitching\n",
    "\t\t\t\t(\n",
    "\t\t\t\t\t\tPlayerID, TeamID, Season, SeasonType, Games, Starts, Wins, Losses, Saves, InningsPitched,\n",
    "\t\t\t\t\t\tERA, Runs, Hits, HomeRuns, Strikeouts, StrikeoutsPerNineInnings, Walks, WalksPerNineInnings,\n",
    "\t\t\t\t\t\tPitchesThrown, WHIP, BattingAverageAgainst, OBP, Slug, OBPPlus, Shutouts\n",
    "\t\t\t\t)\n",
    "\t\t\t\tVALUES (?,?,?,?,?,?,?,?,?,?,?,?,?,?,?,?,?,?,?,?,?,?,?,?,?)\n",
    "\t\t\t\t\"\"\",\n",
    "\t\t\t\tplayerID, teamID, row.Season, row.SeasonType, row.Games, row.Started, row.Wins, row.Losses, row.Saves, row.InningsPitchedDecimal,\n",
    "\t\t\t\trow.EarnedRunAverage, row.PitchingRuns, row.PitchingHits, row.PitchingHomeRuns, row.PitchingStrikeouts, row.PitchingStrikeoutsPerNineInnings, row.PitchingWalks, row.PitchingWalksPerNineInnings,\n",
    "\t\t\t\trow.PitchesThrown, row.WalksHitsPerInningsPitched, row.PitchingBattingAverageAgainst, row.PitchingOnBasePercentage, row.PitchingSluggingPercentage, row.PitchingOnBasePlusSlugging, row.PitchingShutOuts)\n",
    "\n",
    "cnxn.commit()\n",
    "cursor.close()\n",
    "\n",
    "\"\"\"\n",
    "Index(['StatID', 'TeamID', 'PlayerID', 'SeasonType', 'Season', 'Name', 'Team',\n",
    "       'Position', 'PositionCategory', 'Started', 'AverageDraftPosition',\n",
    "       'AuctionValue', 'Games', 'FantasyPoints', 'AtBats', 'Runs', 'Hits',\n",
    "       'Singles', 'Doubles', 'Triples', 'HomeRuns', 'RunsBattedIn',\n",
    "       'BattingAverage', 'Outs', 'Strikeouts', 'Walks', 'HitByPitch',\n",
    "       'Sacrifices', 'SacrificeFlies', 'GroundIntoDoublePlay', 'StolenBases',\n",
    "       'CaughtStealing', 'OnBasePercentage', 'SluggingPercentage',\n",
    "       'OnBasePlusSlugging', 'Wins', 'Losses', 'Saves',\n",
    "       'InningsPitchedDecimal', 'TotalOutsPitched', 'InningsPitchedFull',\n",
    "       'InningsPitchedOuts', 'EarnedRunAverage', 'PitchingHits',\n",
    "       'PitchingRuns', 'PitchingEarnedRuns', 'PitchingWalks',\n",
    "       'PitchingStrikeouts', 'PitchingHomeRuns', 'PitchesThrown',\n",
    "       'PitchesThrownStrikes', 'WalksHitsPerInningsPitched',\n",
    "       'PitchingBattingAverageAgainst', 'FantasyPointsFanDuel',\n",
    "       'FantasyPointsDraftKings', 'WeightedOnBasePercentage',\n",
    "       'PitchingCompleteGames', 'PitchingShutOuts', 'PitchingOnBasePercentage',\n",
    "       'PitchingSluggingPercentage', 'PitchingOnBasePlusSlugging',\n",
    "       'PitchingStrikeoutsPerNineInnings', 'PitchingWalksPerNineInnings',\n",
    "       'PitchingWeightedOnBasePercentage', 'FantasyPointsBatting',\n",
    "       'FantasyPointsPitching'],\n",
    "\"\"\""
   ]
  }
 ],
 "metadata": {
  "kernelspec": {
   "display_name": ".venv",
   "language": "python",
   "name": "python3"
  },
  "language_info": {
   "codemirror_mode": {
    "name": "ipython",
    "version": 3
   },
   "file_extension": ".py",
   "mimetype": "text/x-python",
   "name": "python",
   "nbconvert_exporter": "python",
   "pygments_lexer": "ipython3",
   "version": "3.13.1"
  }
 },
 "nbformat": 4,
 "nbformat_minor": 2
}
