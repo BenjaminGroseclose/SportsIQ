{
 "cells": [
  {
   "cell_type": "code",
   "execution_count": 1,
   "metadata": {},
   "outputs": [
    {
     "name": "stdout",
     "output_type": "stream",
     "text": [
      "    StatID  TeamID  PlayerID  SeasonType  Season               Name Team  \\\n",
      "0  6422574       1  10008679           2    2024  Elieser Hernandez  LAD   \n",
      "1  6422575       1  10013631           2    2024         Drew Avans  LAD   \n",
      "2  6422576       1  10009292           2    2024      Michael Grove  LAD   \n",
      "3  6422577      33  10007188           2    2024      Tirso Ornelas   SD   \n",
      "4  6422578       1  10010357           2    2024         Kody Hoese  LAD   \n",
      "\n",
      "  Position PositionCategory  Started  ...  PitchingCompleteGames  \\\n",
      "0       SP                P        0  ...                    0.0   \n",
      "1       CF               OF        2  ...                    0.0   \n",
      "2       SP                P        1  ...                    0.0   \n",
      "3       LF               OF        0  ...                    0.0   \n",
      "4       3B               IF        0  ...                    0.0   \n",
      "\n",
      "   PitchingShutOuts  PitchingOnBasePercentage  PitchingSluggingPercentage  \\\n",
      "0               0.0                     0.455                       0.600   \n",
      "1               0.0                     0.000                       0.000   \n",
      "2               0.0                     0.317                       0.405   \n",
      "3               0.0                     0.000                       0.000   \n",
      "4               0.0                     0.000                       0.000   \n",
      "\n",
      "   PitchingOnBasePlusSlugging  PitchingStrikeoutsPerNineInnings  \\\n",
      "0                       1.055                              9.82   \n",
      "1                       0.000                              0.00   \n",
      "2                       0.722                             12.00   \n",
      "3                       0.000                              0.00   \n",
      "4                       0.000                              0.00   \n",
      "\n",
      "   PitchingWalksPerNineInnings  PitchingWeightedOnBasePercentage  \\\n",
      "0                         4.91                             0.637   \n",
      "1                         0.00                             0.000   \n",
      "2                         4.00                             0.457   \n",
      "3                         0.00                             0.000   \n",
      "4                         0.00                             0.000   \n",
      "\n",
      "   FantasyPointsBatting  FantasyPointsPitching  \n",
      "0                   0.0                  -3.34  \n",
      "1                  28.0                   0.00  \n",
      "2                   0.0                   7.00  \n",
      "3                   2.0                   0.00  \n",
      "4                  14.0                   0.00  \n",
      "\n",
      "[5 rows x 66 columns]\n",
      "(5365, 66)\n"
     ]
    }
   ],
   "source": [
    "import pyodbc \n",
    "import pandas as pd\n",
    "import numpy as np\n",
    "from datetime import datetime\n",
    "\n",
    "df = pd.read_csv(\"./PlayerSeason.2024.csv\")\n",
    "\n",
    "print(df.head())\n",
    "print(df.shape)\n",
    "\n",
    "# TODO: https://www.dropbox.com/scl/fi/hy0sxw6gaai7ghemrshi8/lahman_1871-2023_csv.7z?dl=0&e=1&file_subpath=%2Flahman_1871-2023_csv&rlkey=edw1u63zzxg48gvpcmr3qpnhz"
   ]
  },
  {
   "cell_type": "code",
   "execution_count": null,
   "metadata": {},
   "outputs": [],
   "source": [
    "server = 'tcp:sports-iq.database.windows.net,1433' \n",
    "database = 'main' \n",
    "username = 'CloudSAeab82b26' \n",
    "password = '' \n",
    "\n",
    "cnxn = pyodbc.connect('DRIVER={SQL Server};SERVER='+server+';DATABASE='+database+';UID='+username+';PWD='+ password)\n",
    "cursor = cnxn.cursor()"
   ]
  },
  {
   "cell_type": "code",
   "execution_count": null,
   "metadata": {},
   "outputs": [],
   "source": [
    "\n",
    "df = df.dropna(subset=['PositionCategory'])\n",
    "df = df.replace(np.nan, None)\n",
    "\n",
    "print(type(df['BirthDate']))\n",
    "\n",
    "print(df.shape)"
   ]
  },
  {
   "cell_type": "code",
   "execution_count": null,
   "metadata": {},
   "outputs": [],
   "source": [
    "for index, row in df.iterrows():\n",
    "\t\t\n",
    "\t\tcursor.execute(\"SELECT t.TeamID FROM [MLB].[Teams] t WHERE Abbreviation = ?\", row.Team)\n",
    "\t\tteam = cursor.fetchone()\n",
    "\n",
    "\t\tplayerTeam = int(team[0]) if team is not None else None\n",
    "\n",
    "\t\tdate = None\n",
    "\n",
    "\t\tif (row.BirthDate is not None):\n",
    "\t\t\tdate = datetime.strptime(row.BirthDate, \"%m/%d/%Y %H:%M:%S %p\")\n",
    "\t\t\t\t\t\t\t\t\t\t\t\t\t\t\t\t\t\t\t\t\t\t\t\t\t\t\t\t\t\t\t\t\t\t\t\t\t\t\t\t\t\t\t\t\t\t\t\t\t\t\t\t\t\t\t\t\t\t\t\t\t\t\t\t\t\t\t\t\t\t\t\t\t\t\t\t\t\t\t\t\t\t\t\t\t\t\t\t\t\t\t\t#11/30/1987 12:00:00 AM\n",
    "\t\tcursor.execute(\"INSERT INTO MLB.Players (FirstName,LastName,Jersey,PositionCategory,Position,Status,TeamID, DateOfBirth) VALUES(?,?,?,?,?,?,?,?)\", row.FirstName, row.LastName, row.Jersey, row.PositionCategory, row.Position, row.Status, playerTeam, date)\n",
    "\n",
    "cnxn.commit()\n",
    "cursor.close()"
   ]
  }
 ],
 "metadata": {
  "kernelspec": {
   "display_name": ".venv",
   "language": "python",
   "name": "python3"
  },
  "language_info": {
   "codemirror_mode": {
    "name": "ipython",
    "version": 3
   },
   "file_extension": ".py",
   "mimetype": "text/x-python",
   "name": "python",
   "nbconvert_exporter": "python",
   "pygments_lexer": "ipython3",
   "version": "3.13.1"
  }
 },
 "nbformat": 4,
 "nbformat_minor": 2
}
