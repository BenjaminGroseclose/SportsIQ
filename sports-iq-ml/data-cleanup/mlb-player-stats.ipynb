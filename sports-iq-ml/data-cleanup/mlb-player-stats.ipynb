{
 "cells": [
  {
   "cell_type": "code",
   "execution_count": 5,
   "metadata": {},
   "outputs": [
    {
     "name": "stdout",
     "output_type": "stream",
     "text": [
      "Index(['StatID', 'TeamID', 'PlayerID', 'SeasonType', 'Season', 'Name', 'Team',\n",
      "       'Position', 'PositionCategory', 'Started', 'AverageDraftPosition',\n",
      "       'AuctionValue', 'Games', 'FantasyPoints', 'AtBats', 'Runs', 'Hits',\n",
      "       'Singles', 'Doubles', 'Triples', 'HomeRuns', 'RunsBattedIn',\n",
      "       'BattingAverage', 'Outs', 'Strikeouts', 'Walks', 'HitByPitch',\n",
      "       'Sacrifices', 'SacrificeFlies', 'GroundIntoDoublePlay', 'StolenBases',\n",
      "       'CaughtStealing', 'OnBasePercentage', 'SluggingPercentage',\n",
      "       'OnBasePlusSlugging', 'Wins', 'Losses', 'Saves',\n",
      "       'InningsPitchedDecimal', 'TotalOutsPitched', 'InningsPitchedFull',\n",
      "       'InningsPitchedOuts', 'EarnedRunAverage', 'PitchingHits',\n",
      "       'PitchingRuns', 'PitchingEarnedRuns', 'PitchingWalks',\n",
      "       'PitchingStrikeouts', 'PitchingHomeRuns', 'PitchesThrown',\n",
      "       'PitchesThrownStrikes', 'WalksHitsPerInningsPitched',\n",
      "       'PitchingBattingAverageAgainst', 'FantasyPointsFanDuel',\n",
      "       'FantasyPointsDraftKings', 'WeightedOnBasePercentage',\n",
      "       'PitchingCompleteGames', 'PitchingShutOuts', 'PitchingOnBasePercentage',\n",
      "       'PitchingSluggingPercentage', 'PitchingOnBasePlusSlugging',\n",
      "       'PitchingStrikeoutsPerNineInnings', 'PitchingWalksPerNineInnings',\n",
      "       'PitchingWeightedOnBasePercentage', 'FantasyPointsBatting',\n",
      "       'FantasyPointsPitching'],\n",
      "      dtype='object')\n",
      "(5365, 66)\n"
     ]
    }
   ],
   "source": [
    "import pyodbc \n",
    "import pandas as pd\n",
    "import numpy as np\n",
    "from datetime import datetime\n",
    "\n",
    "df = pd.read_csv(\"./PlayerSeason.2024.csv\")\n",
    "\n",
    "print(df.columns)\n",
    "print(df.shape)\n",
    "\n",
    "# TODO: https://www.dropbox.com/scl/fi/hy0sxw6gaai7ghemrshi8/lahman_1871-2023_csv.7z?dl=0&e=1&file_subpath=%2Flahman_1871-2023_csv&rlkey=edw1u63zzxg48gvpcmr3qpnhz"
   ]
  },
  {
   "cell_type": "code",
   "execution_count": null,
   "metadata": {},
   "outputs": [],
   "source": [
    "server = 'tcp:sports-iq.database.windows.net,1433' \n",
    "database = 'main' \n",
    "username = 'CloudSAeab82b26' \n",
    "password = ''\n",
    "\n",
    "cnxn = pyodbc.connect('DRIVER={SQL Server};SERVER='+server+';DATABASE='+database+';UID='+username+';PWD='+ password)\n",
    "cursor = cnxn.cursor()"
   ]
  },
  {
   "cell_type": "code",
   "execution_count": null,
   "metadata": {},
   "outputs": [],
   "source": [
    "\n",
    "df = df.dropna(subset=['PositionCategory'])\n",
    "df = df.replace(np.nan, None)\n",
    "\n",
    "print(type(df['BirthDate']))\n",
    "\n",
    "print(df.shape)"
   ]
  },
  {
   "cell_type": "code",
   "execution_count": null,
   "metadata": {},
   "outputs": [],
   "source": [
    "for index, row in df.iterrows():\n",
    "\t\t\n",
    "\t\tcursor.execute(\"SELECT t.TeamID FROM [MLB].[Teams] t WHERE Abbreviation = ?\", row.Team)\n",
    "\t\tteam = cursor.fetchone()\n",
    "\n",
    "\t\tcursor.execute(\"SELECT t.TeamID FROM [MLB].[Players] t WHERE Abbreviation = ?\", row.Team)\n",
    "\t\tteam = cursor.fetchone()\n",
    "\n",
    "\t\tplayerTeam = int(team[0]) if team is not None else None\n",
    "\n",
    "\t\tdate = None\n",
    "\n",
    "\t\tif (row.BirthDate is not None):\n",
    "\t\t\tdate = datetime.strptime(row.BirthDate, \"%m/%d/%Y %H:%M:%S %p\")\n",
    "\t\t\t\t\t\t\t\t\t\t\t\t\t\t\t\t\t\t\t\t\t\t\t\t\t\t\t\t\t\t\t\t\t\t\t\t\t\t\t\t\t\t\t\t\t\t\t\t\t\t\t\t\t\t\t\t\t\t\t\t\t\t\t\t\t\t\t\t\t\t\t\t\t\t\t\t\t\t\t\t\t\t\t\t\t\t\t\t\t\t\t\t#11/30/1987 12:00:00 AM\n",
    "\t\tcursor.execute(\"INSERT INTO MLB.Players (FirstName,LastName,Jersey,PositionCategory,Position,Status,TeamID, DateOfBirth) VALUES(?,?,?,?,?,?,?,?)\", row.FirstName, row.LastName, row.Jersey, row.PositionCategory, row.Position, row.Status, playerTeam, date)\n",
    "\n",
    "cnxn.commit()\n",
    "cursor.close()"
   ]
  }
 ],
 "metadata": {
  "kernelspec": {
   "display_name": ".venv",
   "language": "python",
   "name": "python3"
  },
  "language_info": {
   "codemirror_mode": {
    "name": "ipython",
    "version": 3
   },
   "file_extension": ".py",
   "mimetype": "text/x-python",
   "name": "python",
   "nbconvert_exporter": "python",
   "pygments_lexer": "ipython3",
   "version": "3.12.0"
  }
 },
 "nbformat": 4,
 "nbformat_minor": 2
}
