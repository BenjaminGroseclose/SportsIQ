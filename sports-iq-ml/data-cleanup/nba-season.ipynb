{
 "cells": [
  {
   "cell_type": "code",
   "execution_count": 7,
   "metadata": {},
   "outputs": [
    {
     "name": "stdout",
     "output_type": "stream",
     "text": [
      "                    Team    FG%    3P%    FT%   ORB   DRB   TRB  Assists  \\\n",
      "8        Milwaukee Bucks  0.476  0.355  0.742   9.0  40.0  49.0     24.5   \n",
      "1   Los Angeles Clippers  0.466  0.371  0.791  10.4  36.2  46.7     23.2   \n",
      "3         Boston Celtics  0.461  0.364  0.801  10.6  35.3  45.9     22.9   \n",
      "13       Toronto Raptors  0.458  0.374  0.796   9.4  35.3  44.7     24.9   \n",
      "10    Los Angeles Lakers  0.480  0.349  0.729  10.5  34.6  45.2     25.1   \n",
      "\n",
      "    Steals  Block  Offensive Rating  Opponent FG%  Opponent 3P%  Opponent TRB  \\\n",
      "8      6.8    5.6             112.4         0.414         0.355          43.4   \n",
      "1      6.9    4.6             113.9         0.438         0.345          44.4   \n",
      "3      8.2    5.6             113.3         0.441         0.340          44.2   \n",
      "13     8.7    4.9             111.1         0.428         0.337          45.4   \n",
      "10     8.5    6.5             112.0         0.448         0.349          41.7   \n",
      "\n",
      "    Defensive Rating  Net Rating  Year  \n",
      "8              102.9         9.5  2020  \n",
      "1              107.6         6.3  2020  \n",
      "3              107.0         6.3  2020  \n",
      "13             105.0         6.1  2020  \n",
      "10             106.3         5.7  2020  \n"
     ]
    }
   ],
   "source": [
    "import pandas as pd\n",
    "\n",
    "year = '2020'\n",
    "\n",
    "nbaOff = pd.read_csv('../../data/nba-off.csv')\n",
    "nbaDef = pd.read_csv('../../data/nba-def.csv')\n",
    "\n",
    "offScrubed = pd.DataFrame({\n",
    "    'Team': nbaOff['Team'],\n",
    "    'FG%': nbaOff['FG%'],\n",
    "    '3P%': nbaOff['3P%'],\n",
    "    'FT%': nbaOff['FT%'],\n",
    "    'ORB': nbaOff['ORB'],\n",
    "    'DRB': nbaOff['DRB'],\n",
    "    'TRB': nbaOff['TRB'],\n",
    "    'Assists': nbaOff['AST'],\n",
    "    'Steals': nbaOff['STL'],\n",
    "    'Block': nbaOff['BLK'],\n",
    "    'Offensive Rating': nbaOff['PTS'],\n",
    "})\n",
    "\n",
    "defScrubed = pd.DataFrame({\n",
    "\n",
    "    'Team': nbaDef['Team'],\n",
    "    'Opponent FG%': nbaDef['FG%'],\n",
    "    'Opponent 3P%': nbaDef['3P%'],\n",
    "    'Opponent TRB': nbaDef['TRB'],\n",
    "    'Defensive Rating': nbaDef['PTS'],\n",
    "})\n",
    "\n",
    "merged = pd.merge(offScrubed, defScrubed, on='Team')\n",
    "merged[\"Net Rating\"] = round(merged[\"Offensive Rating\"] - merged[\"Defensive Rating\"], 2)\n",
    "\n",
    "merged = merged.sort_values(by=['Net Rating'], ascending=False)\n",
    "merged['Year'] = year\n",
    "\n",
    "print(merged.head())\n",
    "\n",
    "merged.to_csv('../../data/nba/nba' + year +'.csv', index=False)"
   ]
  }
 ],
 "metadata": {
  "kernelspec": {
   "display_name": "Python 3",
   "language": "python",
   "name": "python3"
  },
  "language_info": {
   "codemirror_mode": {
    "name": "ipython",
    "version": 3
   },
   "file_extension": ".py",
   "mimetype": "text/x-python",
   "name": "python",
   "nbconvert_exporter": "python",
   "pygments_lexer": "ipython3",
   "version": "3.13.1"
  }
 },
 "nbformat": 4,
 "nbformat_minor": 2
}
