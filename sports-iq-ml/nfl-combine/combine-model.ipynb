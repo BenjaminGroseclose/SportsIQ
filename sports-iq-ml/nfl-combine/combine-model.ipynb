{
 "cells": [
  {
   "cell_type": "code",
   "execution_count": 3,
   "metadata": {},
   "outputs": [
    {
     "name": "stdout",
     "output_type": "stream",
     "text": [
      "(6218, 16)\n"
     ]
    }
   ],
   "source": [
    "from sklearn.model_selection import train_test_split\n",
    "from sklearn.preprocessing import MinMaxScaler\n",
    "from sklearn.ensemble import RandomForestClassifier, GradientBoostingClassifier\n",
    "from sklearn.metrics import accuracy_score\n",
    "import pandas as pd\n",
    "from sklearn.model_selection import KFold, cross_val_predict, cross_val_score\n",
    "import numpy as np\n",
    "\n",
    "\n",
    "data = pd.read_csv(\"./combine_data_2000-2018.csv\")\n",
    "\n",
    "print(data.shape)\n"
   ]
  },
  {
   "cell_type": "code",
   "execution_count": 4,
   "metadata": {},
   "outputs": [],
   "source": [
    "# Limit to only a specific position, WR to start\n",
    "# data = data[data['Pos'] == 'CB']\n",
    "\n",
    "# print(data.shape)"
   ]
  },
  {
   "cell_type": "code",
   "execution_count": 5,
   "metadata": {},
   "outputs": [
    {
     "name": "stdout",
     "output_type": "stream",
     "text": [
      "(6218, 16)\n"
     ]
    }
   ],
   "source": [
    "# Remove rows that do not have a \"Round\"\n",
    "\n",
    "print(data.shape)"
   ]
  },
  {
   "cell_type": "code",
   "execution_count": 6,
   "metadata": {},
   "outputs": [
    {
     "name": "stdout",
     "output_type": "stream",
     "text": [
      "(6218, 10)\n"
     ]
    }
   ],
   "source": [
    "features = [\"Pos\", \"Ht\", \"Wt\", \"Forty\", \"Vertical\", \"BenchReps\", \"BroadJump\", \"Cone\", \"Shuttle\", \"Year\"]\n",
    "\n",
    "X, y = data[features], data['Round']\n",
    "\n",
    "print(X.shape)"
   ]
  },
  {
   "cell_type": "code",
   "execution_count": 7,
   "metadata": {},
   "outputs": [
    {
     "data": {
      "text/html": [
       "<div>\n",
       "<style scoped>\n",
       "    .dataframe tbody tr th:only-of-type {\n",
       "        vertical-align: middle;\n",
       "    }\n",
       "\n",
       "    .dataframe tbody tr th {\n",
       "        vertical-align: top;\n",
       "    }\n",
       "\n",
       "    .dataframe thead th {\n",
       "        text-align: right;\n",
       "    }\n",
       "</style>\n",
       "<table border=\"1\" class=\"dataframe\">\n",
       "  <thead>\n",
       "    <tr style=\"text-align: right;\">\n",
       "      <th></th>\n",
       "      <th>Pos</th>\n",
       "      <th>Ht</th>\n",
       "      <th>Wt</th>\n",
       "      <th>Forty</th>\n",
       "      <th>Vertical</th>\n",
       "      <th>BenchReps</th>\n",
       "      <th>BroadJump</th>\n",
       "      <th>Cone</th>\n",
       "      <th>Shuttle</th>\n",
       "      <th>Year</th>\n",
       "    </tr>\n",
       "  </thead>\n",
       "  <tbody>\n",
       "    <tr>\n",
       "      <th>0</th>\n",
       "      <td>OLB</td>\n",
       "      <td>76</td>\n",
       "      <td>252</td>\n",
       "      <td>4.55</td>\n",
       "      <td>0.0</td>\n",
       "      <td>0.0</td>\n",
       "      <td>0.0</td>\n",
       "      <td>0.00</td>\n",
       "      <td>0.00</td>\n",
       "      <td>2000</td>\n",
       "    </tr>\n",
       "    <tr>\n",
       "      <th>1</th>\n",
       "      <td>RB</td>\n",
       "      <td>72</td>\n",
       "      <td>218</td>\n",
       "      <td>4.58</td>\n",
       "      <td>0.0</td>\n",
       "      <td>0.0</td>\n",
       "      <td>0.0</td>\n",
       "      <td>0.00</td>\n",
       "      <td>0.00</td>\n",
       "      <td>2000</td>\n",
       "    </tr>\n",
       "    <tr>\n",
       "      <th>2</th>\n",
       "      <td>OT</td>\n",
       "      <td>76</td>\n",
       "      <td>334</td>\n",
       "      <td>5.56</td>\n",
       "      <td>25.0</td>\n",
       "      <td>23.0</td>\n",
       "      <td>94.0</td>\n",
       "      <td>8.48</td>\n",
       "      <td>4.98</td>\n",
       "      <td>2000</td>\n",
       "    </tr>\n",
       "    <tr>\n",
       "      <th>3</th>\n",
       "      <td>TE</td>\n",
       "      <td>74</td>\n",
       "      <td>253</td>\n",
       "      <td>4.97</td>\n",
       "      <td>29.0</td>\n",
       "      <td>0.0</td>\n",
       "      <td>104.0</td>\n",
       "      <td>7.29</td>\n",
       "      <td>4.49</td>\n",
       "      <td>2000</td>\n",
       "    </tr>\n",
       "    <tr>\n",
       "      <th>4</th>\n",
       "      <td>CB</td>\n",
       "      <td>74</td>\n",
       "      <td>206</td>\n",
       "      <td>4.55</td>\n",
       "      <td>34.0</td>\n",
       "      <td>0.0</td>\n",
       "      <td>123.0</td>\n",
       "      <td>7.18</td>\n",
       "      <td>4.15</td>\n",
       "      <td>2000</td>\n",
       "    </tr>\n",
       "    <tr>\n",
       "      <th>...</th>\n",
       "      <td>...</td>\n",
       "      <td>...</td>\n",
       "      <td>...</td>\n",
       "      <td>...</td>\n",
       "      <td>...</td>\n",
       "      <td>...</td>\n",
       "      <td>...</td>\n",
       "      <td>...</td>\n",
       "      <td>...</td>\n",
       "      <td>...</td>\n",
       "    </tr>\n",
       "    <tr>\n",
       "      <th>6213</th>\n",
       "      <td>ILB</td>\n",
       "      <td>74</td>\n",
       "      <td>238</td>\n",
       "      <td>4.86</td>\n",
       "      <td>29.5</td>\n",
       "      <td>15.0</td>\n",
       "      <td>0.0</td>\n",
       "      <td>0.00</td>\n",
       "      <td>0.00</td>\n",
       "      <td>2018</td>\n",
       "    </tr>\n",
       "    <tr>\n",
       "      <th>6214</th>\n",
       "      <td>G</td>\n",
       "      <td>75</td>\n",
       "      <td>313</td>\n",
       "      <td>0.00</td>\n",
       "      <td>0.0</td>\n",
       "      <td>0.0</td>\n",
       "      <td>0.0</td>\n",
       "      <td>0.00</td>\n",
       "      <td>0.00</td>\n",
       "      <td>2018</td>\n",
       "    </tr>\n",
       "    <tr>\n",
       "      <th>6215</th>\n",
       "      <td>CB</td>\n",
       "      <td>73</td>\n",
       "      <td>190</td>\n",
       "      <td>4.52</td>\n",
       "      <td>0.0</td>\n",
       "      <td>8.0</td>\n",
       "      <td>120.0</td>\n",
       "      <td>0.00</td>\n",
       "      <td>4.18</td>\n",
       "      <td>2018</td>\n",
       "    </tr>\n",
       "    <tr>\n",
       "      <th>6216</th>\n",
       "      <td>ILB</td>\n",
       "      <td>73</td>\n",
       "      <td>236</td>\n",
       "      <td>4.60</td>\n",
       "      <td>36.0</td>\n",
       "      <td>23.0</td>\n",
       "      <td>117.0</td>\n",
       "      <td>7.38</td>\n",
       "      <td>4.48</td>\n",
       "      <td>2018</td>\n",
       "    </tr>\n",
       "    <tr>\n",
       "      <th>6217</th>\n",
       "      <td>EDGE</td>\n",
       "      <td>76</td>\n",
       "      <td>258</td>\n",
       "      <td>4.78</td>\n",
       "      <td>33.0</td>\n",
       "      <td>25.0</td>\n",
       "      <td>114.0</td>\n",
       "      <td>6.99</td>\n",
       "      <td>4.40</td>\n",
       "      <td>2018</td>\n",
       "    </tr>\n",
       "  </tbody>\n",
       "</table>\n",
       "<p>6218 rows × 10 columns</p>\n",
       "</div>"
      ],
      "text/plain": [
       "       Pos  Ht   Wt  Forty  Vertical  BenchReps  BroadJump  Cone  Shuttle  \\\n",
       "0      OLB  76  252   4.55       0.0        0.0        0.0  0.00     0.00   \n",
       "1       RB  72  218   4.58       0.0        0.0        0.0  0.00     0.00   \n",
       "2       OT  76  334   5.56      25.0       23.0       94.0  8.48     4.98   \n",
       "3       TE  74  253   4.97      29.0        0.0      104.0  7.29     4.49   \n",
       "4       CB  74  206   4.55      34.0        0.0      123.0  7.18     4.15   \n",
       "...    ...  ..  ...    ...       ...        ...        ...   ...      ...   \n",
       "6213   ILB  74  238   4.86      29.5       15.0        0.0  0.00     0.00   \n",
       "6214     G  75  313   0.00       0.0        0.0        0.0  0.00     0.00   \n",
       "6215    CB  73  190   4.52       0.0        8.0      120.0  0.00     4.18   \n",
       "6216   ILB  73  236   4.60      36.0       23.0      117.0  7.38     4.48   \n",
       "6217  EDGE  76  258   4.78      33.0       25.0      114.0  6.99     4.40   \n",
       "\n",
       "      Year  \n",
       "0     2000  \n",
       "1     2000  \n",
       "2     2000  \n",
       "3     2000  \n",
       "4     2000  \n",
       "...    ...  \n",
       "6213  2018  \n",
       "6214  2018  \n",
       "6215  2018  \n",
       "6216  2018  \n",
       "6217  2018  \n",
       "\n",
       "[6218 rows x 10 columns]"
      ]
     },
     "execution_count": 7,
     "metadata": {},
     "output_type": "execute_result"
    }
   ],
   "source": [
    "# Update all nan to be the mean\n",
    "\n",
    "# for f in features:\n",
    "# \tif (f == 'Pos'):\n",
    "# \t\tcontinue\n",
    "\n",
    "# \tX[f].fillna((X[f].mean()))\n",
    "\n",
    "\n",
    "X = X.fillna(0)\n",
    "y = y.fillna(8)\n",
    "\n",
    "X"
   ]
  },
  {
   "cell_type": "code",
   "execution_count": 8,
   "metadata": {},
   "outputs": [
    {
     "name": "stdout",
     "output_type": "stream",
     "text": [
      "   Pos  Ht   Wt  Forty  Vertical  BenchReps  BroadJump  Cone  Shuttle  Year\n",
      "0   16  76  252   4.55       0.0        0.0        0.0  0.00     0.00  2000\n",
      "1   20  72  218   4.58       0.0        0.0        0.0  0.00     0.00  2000\n",
      "2   17  76  334   5.56      25.0       23.0       94.0  8.48     4.98  2000\n",
      "3   23  74  253   4.97      29.0        0.0      104.0  7.29     4.49  2000\n",
      "4    1  74  206   4.55      34.0        0.0      123.0  7.18     4.15  2000\n"
     ]
    }
   ],
   "source": [
    "# Encode Position\n",
    "\n",
    "X.Pos=X.Pos.astype('category').cat.codes\n",
    "\n",
    "print(X.head())"
   ]
  },
  {
   "cell_type": "code",
   "execution_count": 9,
   "metadata": {},
   "outputs": [],
   "source": [
    "# MinMaxScaler\n",
    "\n",
    "feature_scaler = MinMaxScaler()\n",
    "X = feature_scaler.fit_transform(X)"
   ]
  },
  {
   "cell_type": "code",
   "execution_count": 10,
   "metadata": {},
   "outputs": [],
   "source": [
    "def train_predict(X_train, y_train, X_test, y_test):\n",
    "\tmodel =  RandomForestClassifier()\n",
    "\tmodel.fit(X_train, y_train)\n",
    "\n",
    "\t# 6 Evaluation: Test the model via predicting\n",
    "\ty_pred = model.predict(X_train)\n",
    "\tacc_train = accuracy_score(y_train, y_pred)\n",
    "\tprint(\"accuracy score (training data): %.2f\" % acc_train)\n",
    "\ty_pred = model.predict(X_test)\n",
    "\tacc_test = accuracy_score(y_test, y_pred)\n",
    "\tprint(\"accuracy_score (test data): %.2f\" % acc_test)"
   ]
  },
  {
   "cell_type": "code",
   "execution_count": 11,
   "metadata": {},
   "outputs": [],
   "source": [
    "# Split the data into Train and Test so we can predict\n",
    "TEST_PROP, RANDOM_SEED = 0.5, 0\n",
    "X_train, X_test, y_train, y_test = train_test_split(\n",
    "    X, y, test_size=TEST_PROP, random_state=RANDOM_SEED)"
   ]
  },
  {
   "cell_type": "code",
   "execution_count": 12,
   "metadata": {},
   "outputs": [
    {
     "name": "stdout",
     "output_type": "stream",
     "text": [
      "KFold(n_splits=10, random_state=None, shuffle=False)\n",
      "accuracy score (training data): 1.00\n",
      "accuracy_score (test data): 0.40\n",
      "k-Fold: 0 : 0.3987138263665595\n",
      "k-Fold: 1 : 0.39067524115755625\n",
      "k-Fold: 2 : 0.3778135048231511\n",
      "k-Fold: 3 : 0.3633440514469453\n",
      "k-Fold: 4 : 0.3633440514469453\n",
      "k-Fold: 5 : 0.3504823151125402\n",
      "k-Fold: 6 : 0.3167202572347267\n",
      "k-Fold: 7 : 0.32315112540192925\n",
      "k-Fold: 8 : 0.3446054750402576\n",
      "k-Fold: 9 : 0.5217391304347826\n"
     ]
    }
   ],
   "source": [
    "kf = KFold(n_splits=10)\n",
    "kf.get_n_splits(X)\n",
    "\n",
    "print(kf)\n",
    "\n",
    "KFold(n_splits=2, random_state=None, shuffle=False)\n",
    "\n",
    "model =  RandomForestClassifier()\n",
    "\n",
    "predictions = cross_val_predict(model, X, y, cv=kf)\n",
    "scores = cross_val_score(model, X, y, cv=kf)\n",
    "\n",
    "train_predict(X_train, y_train, X_test, y_test)\n",
    "for index, score in np.ndenumerate(scores):\n",
    "\tprint('k-Fold:', index[0], ':', score)"
   ]
  }
 ],
 "metadata": {
  "kernelspec": {
   "display_name": ".venv",
   "language": "python",
   "name": "python3"
  },
  "language_info": {
   "codemirror_mode": {
    "name": "ipython",
    "version": 3
   },
   "file_extension": ".py",
   "mimetype": "text/x-python",
   "name": "python",
   "nbconvert_exporter": "python",
   "pygments_lexer": "ipython3",
   "version": "3.13.1"
  }
 },
 "nbformat": 4,
 "nbformat_minor": 2
}
