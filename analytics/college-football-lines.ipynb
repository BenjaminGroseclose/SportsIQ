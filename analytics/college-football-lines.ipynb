{
 "cells": [
  {
   "cell_type": "code",
   "execution_count": 1,
   "id": "460ac1c7",
   "metadata": {},
   "outputs": [
    {
     "name": "stdout",
     "output_type": "stream",
     "text": [
      "Using CFBD API key: q7ytOkNtIxdIVFT0kdFj720IEJ8valixpxI1cTtpxjpkGDPLWftm9CWj5C4Arn3v\n"
     ]
    }
   ],
   "source": [
    "import cfbd\n",
    "import pandas as pd\n",
    "import json\n",
    "\n",
    "CFBD_API_KEY = \"\"\n",
    "\n",
    "# Get API Key from secrets.json\n",
    "with open('secrets.json') as f:\n",
    "    secrets = json.load(f)\n",
    "    CFBD_API_KEY = secrets[\"CFBD_API_KEY\"]\n",
    "    \n",
    "# Configure API key authorization\n",
    "configuration = cfbd.Configuration(\n",
    "    access_token=CFBD_API_KEY,  host=\"https://api.collegefootballdata.com\")\n",
    "\n",
    "print(\"Using CFBD API key:\", CFBD_API_KEY)"
   ]
  },
  {
   "cell_type": "code",
   "execution_count": 2,
   "id": "38531a83",
   "metadata": {},
   "outputs": [],
   "source": [
    "season = 2025\n",
    "week = 6"
   ]
  },
  {
   "cell_type": "code",
   "execution_count": 3,
   "id": "3b567d82",
   "metadata": {},
   "outputs": [],
   "source": [
    "with cfbd.ApiClient(configuration) as api_client:\n",
    "\tbetting_api = cfbd.BettingApi(api_client)\n",
    "\n",
    "\ttry:\n",
    "\t\tlines = betting_api.get_lines(year=season, week=week, provider='DraftKings')\n",
    "\t\tlines_df = pd.DataFrame([line.to_dict() for line in lines])\n",
    "\n",
    "\t\t# Extract the first object from the 'lines' list in each row\n",
    "\t\tlines_df['lines_first'] = lines_df['lines'].apply(lambda x: x[0] if isinstance(x, list) and len(x) > 0 else None)\n",
    "\n",
    "\t\t# Now extract properties from the first object\n",
    "\t\tlines_df['spread'] = lines_df['lines_first'].apply(lambda x: x.get('spread') if isinstance(x, dict) and 'spread' in x else None)\n",
    "\t\tlines_df['formatted_spread'] = lines_df['lines_first'].apply(lambda x: x.get('formattedSpread') if isinstance(x, dict) and 'formattedSpread' in x else None)\n",
    "\t\tlines_df['overUnder'] = lines_df['lines_first'].apply(lambda x: x.get('overUnder') if isinstance(x, dict) and 'overUnder' in x else None)\n",
    "\t\tlines_df['homeMoneyline'] = lines_df['lines_first'].apply(lambda x: x.get('homeMoneyline') if isinstance(x, dict) and 'homeMoneyline' in x else None)\n",
    "\t\tlines_df['awayMoneyline'] = lines_df['lines_first'].apply(lambda x: x.get('awayMoneyline') if isinstance(x, dict) and 'awayMoneyline' in x else None)\n",
    "\n",
    "\t\tlines_df = lines_df.drop(columns=['lines', 'lines_first', 'id', 'seasonType', 'homeConference', 'awayConference', 'homeClassification', 'awayClassification'])\n",
    "\n",
    "\t\tlines_df.to_csv(f'cfbd_lines_{season}_week{week}.csv', index=False)\n",
    "\texcept cfbd.ApiException as e:\n",
    "\t\tprint(\"Exception when calling BettingApi->get_lines: %s\\n\" % e)"
   ]
  }
 ],
 "metadata": {
  "kernelspec": {
   "display_name": "Python 3",
   "language": "python",
   "name": "python3"
  },
  "language_info": {
   "codemirror_mode": {
    "name": "ipython",
    "version": 3
   },
   "file_extension": ".py",
   "mimetype": "text/x-python",
   "name": "python",
   "nbconvert_exporter": "python",
   "pygments_lexer": "ipython3",
   "version": "3.12.0"
  }
 },
 "nbformat": 4,
 "nbformat_minor": 5
}
