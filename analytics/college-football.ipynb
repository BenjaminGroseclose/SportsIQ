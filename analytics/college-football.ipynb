{
 "cells": [
  {
   "cell_type": "markdown",
   "id": "b1657a77",
   "metadata": {},
   "source": [
    "## College Football Matchup Collector\n",
    "\n",
    "This wil create CSV files containing matchup data and all necessary team data to create a model."
   ]
  },
  {
   "cell_type": "code",
   "execution_count": 50,
   "id": "995972b4",
   "metadata": {},
   "outputs": [
    {
     "name": "stdout",
     "output_type": "stream",
     "text": [
      "Using CFBD API key: q7ytOkNtIxdIVFT0kdFj720IEJ8valixpxI1cTtpxjpkGDPLWftm9CWj5C4Arn3v\n"
     ]
    }
   ],
   "source": [
    "import cfbd\n",
    "import pandas as pd\n",
    "import json\n",
    "\n",
    "CFBD_API_KEY = \"\"\n",
    "\n",
    "# Get API Key from secrets.json\n",
    "with open('secrets.json') as f:\n",
    "    secrets = json.load(f)\n",
    "    CFBD_API_KEY = secrets[\"CFBD_API_KEY\"]\n",
    "    \n",
    "# Configure API key authorization\n",
    "configuration = cfbd.Configuration(\n",
    "    access_token=CFBD_API_KEY,  host=\"https://api.collegefootballdata.com\")\n",
    "\n",
    "print(\"Using CFBD API key:\", CFBD_API_KEY)\n"
   ]
  },
  {
   "cell_type": "code",
   "execution_count": 51,
   "id": "355d13a8",
   "metadata": {},
   "outputs": [],
   "source": [
    "# Parameters\n",
    "\n",
    "year = 2025\n",
    "week = 5\n",
    "provider = 'DraftKings'"
   ]
  },
  {
   "cell_type": "code",
   "execution_count": 52,
   "id": "28a4c2e2",
   "metadata": {},
   "outputs": [],
   "source": [
    "# Fetch team ratings: Elo, FPI, SP\n",
    "def fetch_team_ratings(year, week, api_client):\n",
    "\t\trating_api = cfbd.RatingsApi(api_client)\n",
    "\n",
    "\t\ttry:\n",
    "\t\t\t\telo = rating_api.get_elo(year=year, week=week)\n",
    "\t\t\t\tratings_df = pd.DataFrame([r.to_dict() for r in elo])\n",
    "\n",
    "\t\t\t\tfpi = rating_api.get_fpi(year=year)\n",
    "\t\t\t\tfpi_df = pd.DataFrame([r.to_dict() for r in fpi])\n",
    "\n",
    "\t\t\t\tsp = rating_api.get_sp(year=year)\n",
    "\t\t\t\tsp_df = pd.DataFrame([r.to_dict() for r in sp])\n",
    "\n",
    "\t\t\t\tmerged_df = ratings_df.merge(fpi_df, on=\"team\").merge(sp_df, on=\"team\")\n",
    "\t\t\t\t\n",
    "\t\t\t\tmerged_df['offense'] = merged_df['offense'].apply(lambda x: x['rating'] if isinstance(x, dict) and 'rating' in x else None)\n",
    "\t\t\t\tmerged_df['defense'] = merged_df['defense'].apply(lambda x: x['rating'] if isinstance(x, dict) and 'rating' in x else None)\n",
    "\n",
    "\t\t\t\treturn merged_df[['team', 'year', 'elo', 'fpi',\n",
    "\t\t\t\t\t\t\t\t\t\t\t\t\t'rating', 'offense', 'defense']]\n",
    "\n",
    "\t\texcept Exception as e:\n",
    "\t\t\t\tprint(\"Error fetching ratings:\", e)"
   ]
  },
  {
   "cell_type": "code",
   "execution_count": 53,
   "id": "70e5bcef",
   "metadata": {},
   "outputs": [],
   "source": [
    "# Fetch team advanced metrics: EPA, Success Rate, Explosiveness\n",
    "def fetch_team_advanced_metrics(year, api_client):\n",
    "\t\tadvanced_metrics_api = cfbd.AdjustedMetricsApi(api_client)\n",
    "\n",
    "\t\ttry:\n",
    "\t\t\t\tepa = advanced_metrics_api.get_adjusted_team_season_stats(year=year)\n",
    "\t\t\t\tepa_df = pd.DataFrame([r.to_dict() for r in epa])\n",
    "\t\t\t\t\n",
    "\t\t\t\tepa_df['epa'] = epa_df['epa'].apply(lambda x: x['total'] if isinstance(x, dict) and 'total' in x else None)\n",
    "\t\t\t\tepa_df['epaAllowed'] = epa_df['epaAllowed'].apply(lambda x: x['total'] if isinstance(x, dict) and 'total' in x else None)\n",
    "\t\t\t\tepa_df['successRate'] = epa_df['successRate'].apply(lambda x: x['total'] if isinstance(x, dict) and 'total' in x else None)\n",
    "\t\t\t\tepa_df['successRateAllowed'] = epa_df['successRateAllowed'].apply(lambda x: x['total'] if isinstance(x, dict) and 'total' in x else None)\n",
    "\n",
    "\t\t\t\treturn epa_df[['team', 'year', 'epa', 'epaAllowed', 'successRate', 'successRateAllowed', 'explosiveness', 'explosivenessAllowed']]\n",
    "\n",
    "\t\texcept Exception as e:\n",
    "\t\t\t\tprint(\"Error fetching advanced metrics:\", e)"
   ]
  },
  {
   "cell_type": "code",
   "execution_count": 54,
   "id": "fdaba14b",
   "metadata": {},
   "outputs": [],
   "source": [
    "# Fetch recruiting rankings: Composite Rank, Star Avg, Num Recruits\n",
    "def fetch_recruiting_rankings(year, api_client):\n",
    "    recruiting_api = cfbd.RecruitingApi(api_client)\n",
    "\n",
    "    try:\n",
    "        rankings = recruiting_api.get_team_recruiting_rankings(year=year)\n",
    "\n",
    "        rankings_df = pd.DataFrame([r.to_dict() for r in rankings])\n",
    "\n",
    "        return rankings_df[['team', 'year', 'rank', 'points']]\n",
    "\n",
    "    except Exception as e:\n",
    "        print(\"Error fetching recruiting rankings:\", e)"
   ]
  },
  {
   "cell_type": "code",
   "execution_count": 55,
   "id": "eb74278b",
   "metadata": {},
   "outputs": [],
   "source": [
    "# Fetch games\n",
    "def fetch_games(year, week, api_client):\n",
    "\t\tgames_api = cfbd.GamesApi(api_client)\n",
    "\n",
    "\t\tclassification = cfbd.DivisionClassification('fbs')\n",
    "\n",
    "\t\ttry:\n",
    "\t\t\t\tgames = games_api.get_games(year=year, week=week, classification=classification)\n",
    "\t\t\t\tgames_df = pd.DataFrame([g.to_dict() for g in games])\n",
    "\n",
    "\t\t\t\tgames_df = games_df[games_df['homeClassification'] == classification]\n",
    "\t\t\t\tgames_df = games_df[games_df['awayClassification'] == classification]\n",
    "\n",
    "\t\t\t\treturn games_df[['season', 'week', 'homeId', 'homeTeam', 'awayTeam', 'awayId', 'homePoints', 'awayPoints']]\n",
    "\n",
    "\t\texcept Exception as e:\n",
    "\t\t\t\tprint(\"Error fetching games:\", e)"
   ]
  },
  {
   "cell_type": "code",
   "execution_count": 56,
   "id": "cdedb96d",
   "metadata": {},
   "outputs": [],
   "source": [
    "merged_df = pd.DataFrame()\n",
    "\n",
    "with cfbd.ApiClient(configuration) as api_client:\n",
    "\trating_df = fetch_team_ratings(year, week, api_client)\n",
    "\tadvanced_metrics_df = fetch_team_advanced_metrics(year, api_client)\n",
    "\trecruiting_rankings_df = fetch_recruiting_rankings(year, api_client)\n",
    "\tgames = fetch_games(year, week, api_client)\n",
    "\n",
    "\t# After merging for a single year:\n",
    "\tmerged_df = rating_df.merge(advanced_metrics_df, on=\"team\").merge(recruiting_rankings_df, on=\"team\")\n"
   ]
  },
  {
   "cell_type": "code",
   "execution_count": 57,
   "id": "1d8a59ee",
   "metadata": {},
   "outputs": [
    {
     "name": "stdout",
     "output_type": "stream",
     "text": [
      "   season  week  homeId       homeTeam       awayTeam  awayId  homePoints  \\\n",
      "0    2025     5     151  East Carolina           Army     349        28.0   \n",
      "1    2025     5     258       Virginia  Florida State      52         NaN   \n",
      "2    2025     5       9  Arizona State            TCU    2628         NaN   \n",
      "3    2025     5     204   Oregon State        Houston     248         NaN   \n",
      "4    2025     5     356       Illinois            USC      30         NaN   \n",
      "\n",
      "   awayPoints  home_year_x  home_elo  ...  away_year_y  away_epa  \\\n",
      "0         6.0         2025      1538  ...         2025  0.216947   \n",
      "1         NaN         2025      1565  ...         2025  0.262982   \n",
      "2         NaN         2025      1721  ...         2025  0.236800   \n",
      "3         NaN         2025      1297  ...         2025  0.151041   \n",
      "4         NaN         2025      1567  ...         2025  0.373025   \n",
      "\n",
      "   away_epaAllowed  away_successRate  away_successRateAllowed  \\\n",
      "0         0.177844          0.452975                 0.458338   \n",
      "1         0.116078          0.472059                 0.373303   \n",
      "2         0.168415          0.449150                 0.401299   \n",
      "3         0.146870          0.383250                 0.375206   \n",
      "4         0.116049          0.531181                 0.400356   \n",
      "\n",
      "   away_explosiveness  away_explosivenessAllowed  away_year  away_rank  \\\n",
      "0            0.968576                   0.962333       2025        130   \n",
      "1            1.047901                   0.948577       2025         19   \n",
      "2            0.971079                   0.970145       2025         24   \n",
      "3            1.005758                   0.988781       2025         52   \n",
      "4            1.007541                   0.951917       2025         14   \n",
      "\n",
      "   away_points  \n",
      "0        77.24  \n",
      "1       244.11  \n",
      "2       229.80  \n",
      "3       198.73  \n",
      "4       257.02  \n",
      "\n",
      "[5 rows x 40 columns]\n"
     ]
    }
   ],
   "source": [
    "# Merge game data with team data for home and away teams\n",
    "# Assume merged_df contains team data and games contains game data\n",
    "\n",
    "games_with_team_data = games.copy()\n",
    "\n",
    "# Merge home team data\n",
    "home_team_cols = [col for col in merged_df.columns if col not in ['team']]\n",
    "home_merged = merged_df.rename(columns={col: f\"home_{col}\" for col in home_team_cols})\n",
    "home_merged = home_merged.rename(columns={\"team\": \"homeTeam\"})\n",
    "games_with_team_data = games_with_team_data.merge(home_merged, on=\"homeTeam\", how=\"left\")\n",
    "\n",
    "# Merge away team data\n",
    "away_team_cols = [col for col in merged_df.columns if col not in ['team']]\n",
    "away_merged = merged_df.rename(columns={col: f\"away_{col}\" for col in away_team_cols})\n",
    "away_merged = away_merged.rename(columns={\"team\": \"awayTeam\"})\n",
    "games_with_team_data = games_with_team_data.merge(away_merged, on=\"awayTeam\", how=\"left\")\n",
    "\n",
    "# games_with_team_data now contains game data plus home/away team ratings, advanced metrics, and recruiting data\n",
    "print(games_with_team_data.head())"
   ]
  },
  {
   "cell_type": "code",
   "execution_count": 58,
   "id": "2a4e2015",
   "metadata": {},
   "outputs": [],
   "source": [
    "games_with_team_data.to_csv(f'cfbd_{year}_{week}_games.csv', index=False)"
   ]
  }
 ],
 "metadata": {
  "kernelspec": {
   "display_name": ".venv",
   "language": "python",
   "name": "python3"
  },
  "language_info": {
   "codemirror_mode": {
    "name": "ipython",
    "version": 3
   },
   "file_extension": ".py",
   "mimetype": "text/x-python",
   "name": "python",
   "nbconvert_exporter": "python",
   "pygments_lexer": "ipython3",
   "version": "3.13.7"
  }
 },
 "nbformat": 4,
 "nbformat_minor": 5
}
