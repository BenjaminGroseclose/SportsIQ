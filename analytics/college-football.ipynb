{
 "cells": [
  {
   "cell_type": "markdown",
   "id": "b1657a77",
   "metadata": {},
   "source": [
    "## College Football Matchup Collector\n",
    "\n",
    "This wil create CSV files containing matchup data and all necessary team data to create a model."
   ]
  },
  {
   "cell_type": "code",
   "execution_count": 352,
   "id": "995972b4",
   "metadata": {},
   "outputs": [
    {
     "name": "stdout",
     "output_type": "stream",
     "text": [
      "Using CFBD API key: q7ytOkNtIxdIVFT0kdFj720IEJ8valixpxI1cTtpxjpkGDPLWftm9CWj5C4Arn3v\n"
     ]
    }
   ],
   "source": [
    "import cfbd\n",
    "import pandas as pd\n",
    "import json\n",
    "\n",
    "CFBD_API_KEY = \"\"\n",
    "\n",
    "# Get API Key from secrets.json\n",
    "with open('secrets.json') as f:\n",
    "    secrets = json.load(f)\n",
    "    CFBD_API_KEY = secrets[\"CFBD_API_KEY\"]\n",
    "    \n",
    "# Configure API key authorization\n",
    "configuration = cfbd.Configuration(\n",
    "    access_token=CFBD_API_KEY,  host=\"https://api.collegefootballdata.com\")\n",
    "\n",
    "print(\"Using CFBD API key:\", CFBD_API_KEY)\n"
   ]
  },
  {
   "cell_type": "code",
   "execution_count": 353,
   "id": "355d13a8",
   "metadata": {},
   "outputs": [],
   "source": [
    "# Parameters\n",
    "\n",
    "year = 2022\n",
    "week = 11\n",
    "provider = 'DraftKings'"
   ]
  },
  {
   "cell_type": "code",
   "execution_count": 354,
   "id": "28a4c2e2",
   "metadata": {},
   "outputs": [],
   "source": [
    "# Fetch team ratings: Elo, FPI, SP\n",
    "def fetch_team_ratings(year, week, api_client):\n",
    "\t\trating_api = cfbd.RatingsApi(api_client)\n",
    "\n",
    "\t\ttry:\n",
    "\t\t\t\telo = rating_api.get_elo(year=year, week=week)\n",
    "\t\t\t\tratings_df = pd.DataFrame([r.to_dict() for r in elo])\n",
    "\n",
    "\t\t\t\tfpi = rating_api.get_fpi(year=year)\n",
    "\t\t\t\tfpi_df = pd.DataFrame([r.to_dict() for r in fpi])\n",
    "\n",
    "\t\t\t\tsp = rating_api.get_sp(year=year)\n",
    "\t\t\t\tsp_df = pd.DataFrame([r.to_dict() for r in sp])\n",
    "\n",
    "\t\t\t\tmerged_df = ratings_df.merge(fpi_df, on=\"team\").merge(sp_df, on=\"team\")\n",
    "\t\t\t\t\n",
    "\t\t\t\tmerged_df['offense'] = merged_df['offense'].apply(lambda x: x['rating'] if isinstance(x, dict) and 'rating' in x else None)\n",
    "\t\t\t\tmerged_df['defense'] = merged_df['defense'].apply(lambda x: x['rating'] if isinstance(x, dict) and 'rating' in x else None)\n",
    "\n",
    "\t\t\t\treturn merged_df[['team', 'year', 'elo', 'fpi',\n",
    "\t\t\t\t\t\t\t\t\t\t\t\t\t'rating', 'offense', 'defense']]\n",
    "\n",
    "\t\texcept Exception as e:\n",
    "\t\t\t\tprint(\"Error fetching ratings:\", e)"
   ]
  },
  {
   "cell_type": "code",
   "execution_count": 355,
   "id": "70e5bcef",
   "metadata": {},
   "outputs": [],
   "source": [
    "# Fetch team advanced metrics: EPA, Success Rate, Explosiveness\n",
    "def fetch_team_advanced_metrics(year, api_client):\n",
    "\t\tadvanced_metrics_api = cfbd.AdjustedMetricsApi(api_client)\n",
    "\n",
    "\t\ttry:\n",
    "\t\t\t\tepa = advanced_metrics_api.get_adjusted_team_season_stats(year=year)\n",
    "\t\t\t\tepa_df = pd.DataFrame([r.to_dict() for r in epa])\n",
    "\t\t\t\t\n",
    "\t\t\t\tepa_df['epa'] = epa_df['epa'].apply(lambda x: x['total'] if isinstance(x, dict) and 'total' in x else None)\n",
    "\t\t\t\tepa_df['epaAllowed'] = epa_df['epaAllowed'].apply(lambda x: x['total'] if isinstance(x, dict) and 'total' in x else None)\n",
    "\t\t\t\tepa_df['successRate'] = epa_df['successRate'].apply(lambda x: x['total'] if isinstance(x, dict) and 'total' in x else None)\n",
    "\t\t\t\tepa_df['successRateAllowed'] = epa_df['successRateAllowed'].apply(lambda x: x['total'] if isinstance(x, dict) and 'total' in x else None)\n",
    "\n",
    "\t\t\t\treturn epa_df[['team', 'year', 'epa', 'epaAllowed', 'successRate', 'successRateAllowed', 'explosiveness', 'explosivenessAllowed']]\n",
    "\n",
    "\t\texcept Exception as e:\n",
    "\t\t\t\tprint(\"Error fetching advanced metrics:\", e)"
   ]
  },
  {
   "cell_type": "code",
   "execution_count": 356,
   "id": "fdaba14b",
   "metadata": {},
   "outputs": [],
   "source": [
    "# Fetch recruiting rankings: Composite Rank, Star Avg, Num Recruits\n",
    "def fetch_recruiting_rankings(year, api_client):\n",
    "    recruiting_api = cfbd.RecruitingApi(api_client)\n",
    "\n",
    "    try:\n",
    "        rankings = recruiting_api.get_team_recruiting_rankings(year=year)\n",
    "\n",
    "        rankings_df = pd.DataFrame([r.to_dict() for r in rankings])\n",
    "\n",
    "        return rankings_df[['team', 'year', 'rank', 'points']]\n",
    "\n",
    "    except Exception as e:\n",
    "        print(\"Error fetching recruiting rankings:\", e)"
   ]
  },
  {
   "cell_type": "code",
   "execution_count": 357,
   "id": "eb74278b",
   "metadata": {},
   "outputs": [],
   "source": [
    "# Fetch games\n",
    "def fetch_games(year, week, api_client):\n",
    "\t\tgames_api = cfbd.GamesApi(api_client)\n",
    "\n",
    "\t\tclassification = cfbd.DivisionClassification('fbs')\n",
    "\n",
    "\t\ttry:\n",
    "\t\t\t\tgames = games_api.get_games(year=year, week=week, classification=classification)\n",
    "\t\t\t\tgames_df = pd.DataFrame([g.to_dict() for g in games])\n",
    "\n",
    "\t\t\t\tgames_df = games_df[games_df['homeClassification'] == classification]\n",
    "\t\t\t\tgames_df = games_df[games_df['awayClassification'] == classification]\n",
    "\n",
    "\t\t\t\treturn games_df[['season', 'week', 'homeId', 'homeTeam', 'awayTeam', 'awayId', 'homePoints', 'awayPoints']]\n",
    "\n",
    "\t\texcept Exception as e:\n",
    "\t\t\t\tprint(\"Error fetching games:\", e)"
   ]
  },
  {
   "cell_type": "code",
   "execution_count": 358,
   "id": "cdedb96d",
   "metadata": {},
   "outputs": [],
   "source": [
    "merged_df = pd.DataFrame()\n",
    "\n",
    "with cfbd.ApiClient(configuration) as api_client:\n",
    "\trating_df = fetch_team_ratings(year, week, api_client)\n",
    "\tadvanced_metrics_df = fetch_team_advanced_metrics(year, api_client)\n",
    "\trecruiting_rankings_df = fetch_recruiting_rankings(year, api_client)\n",
    "\tgames = fetch_games(year, week, api_client)\n",
    "\n",
    "\t# After merging for a single year:\n",
    "\tmerged_df = rating_df.merge(advanced_metrics_df, on=\"team\").merge(recruiting_rankings_df, on=\"team\")\n"
   ]
  },
  {
   "cell_type": "code",
   "execution_count": 359,
   "id": "1d8a59ee",
   "metadata": {},
   "outputs": [
    {
     "name": "stdout",
     "output_type": "stream",
     "text": [
      "   season  week  homeId          homeTeam           awayTeam  awayId  \\\n",
      "0    2022    11    2006             Akron   Eastern Michigan    2199   \n",
      "1    2022    11     193        Miami (OH)               Ohio     195   \n",
      "2    2022    11    2649            Toledo         Ball State    2050   \n",
      "3    2022    11    2711  Western Michigan  Northern Illinois    2459   \n",
      "4    2022    11     189     Bowling Green         Kent State    2309   \n",
      "\n",
      "   homePoints  awayPoints  home_year_x  home_elo  ...  away_year_y  away_epa  \\\n",
      "0          28          34       2022.0     985.0  ...         2022  0.200166   \n",
      "1          21          37       2022.0    1374.0  ...         2022  0.193677   \n",
      "2          28          21       2022.0    1549.0  ...         2022  0.087621   \n",
      "3          21          24       2022.0    1275.0  ...         2022  0.150027   \n",
      "4           6          40       2022.0    1096.0  ...         2022  0.157637   \n",
      "\n",
      "   away_epaAllowed  away_successRate  away_successRateAllowed  \\\n",
      "0         0.229852          0.452257                 0.455978   \n",
      "1         0.233068          0.430223                 0.450630   \n",
      "2         0.181127          0.383350                 0.444041   \n",
      "3         0.262101          0.410668                 0.456084   \n",
      "4         0.212981          0.423898                 0.454604   \n",
      "\n",
      "   away_explosiveness  away_explosivenessAllowed  away_year  away_rank  \\\n",
      "0            0.911472                   0.893678       2022        128   \n",
      "1            0.916004                   0.986666       2022        132   \n",
      "2            0.940191                   0.944519       2022         97   \n",
      "3            0.960970                   0.922859       2022         87   \n",
      "4            0.957178                   0.932259       2022         90   \n",
      "\n",
      "   away_points  \n",
      "0        77.97  \n",
      "1        53.67  \n",
      "2       127.25  \n",
      "3       142.15  \n",
      "4       136.64  \n",
      "\n",
      "[5 rows x 40 columns]\n"
     ]
    }
   ],
   "source": [
    "# Merge game data with team data for home and away teams\n",
    "# Assume merged_df contains team data and games contains game data\n",
    "\n",
    "games_with_team_data = games.copy()\n",
    "\n",
    "# Merge home team data\n",
    "home_team_cols = [col for col in merged_df.columns if col not in ['team']]\n",
    "home_merged = merged_df.rename(columns={col: f\"home_{col}\" for col in home_team_cols})\n",
    "home_merged = home_merged.rename(columns={\"team\": \"homeTeam\"})\n",
    "games_with_team_data = games_with_team_data.merge(home_merged, on=\"homeTeam\", how=\"left\")\n",
    "\n",
    "# Merge away team data\n",
    "away_team_cols = [col for col in merged_df.columns if col not in ['team']]\n",
    "away_merged = merged_df.rename(columns={col: f\"away_{col}\" for col in away_team_cols})\n",
    "away_merged = away_merged.rename(columns={\"team\": \"awayTeam\"})\n",
    "games_with_team_data = games_with_team_data.merge(away_merged, on=\"awayTeam\", how=\"left\")\n",
    "\n",
    "# games_with_team_data now contains game data plus home/away team ratings, advanced metrics, and recruiting data\n",
    "print(games_with_team_data.head())"
   ]
  },
  {
   "cell_type": "code",
   "execution_count": 360,
   "id": "2a4e2015",
   "metadata": {},
   "outputs": [],
   "source": [
    "games_with_team_data.to_csv(f'cfbd_{year}_{week}_games.csv', index=False)"
   ]
  }
 ],
 "metadata": {
  "kernelspec": {
   "display_name": "Python 3",
   "language": "python",
   "name": "python3"
  },
  "language_info": {
   "codemirror_mode": {
    "name": "ipython",
    "version": 3
   },
   "file_extension": ".py",
   "mimetype": "text/x-python",
   "name": "python",
   "nbconvert_exporter": "python",
   "pygments_lexer": "ipython3",
   "version": "3.12.0"
  }
 },
 "nbformat": 4,
 "nbformat_minor": 5
}
